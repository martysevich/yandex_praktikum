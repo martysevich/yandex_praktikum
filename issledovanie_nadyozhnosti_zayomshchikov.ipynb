{
 "cells": [
  {
   "cell_type": "markdown",
   "metadata": {},
   "source": [
    "## Исследование надёжности заёмщиков\n",
    "\n",
    "Заказчик — кредитный отдел банка. Нужно разобраться, влияет ли семейное положение и количество детей клиента на факт погашения кредита в срок. Входные данные от банка — статистика о платёжеспособности клиентов.\n",
    "\n",
    "Результаты исследования будут учтены при построении модели **кредитного скоринга** — специальной системы, которая оценивает способность потенциального заёмщика вернуть кредит банку."
   ]
  },
  {
   "cell_type": "markdown",
   "metadata": {},
   "source": [
    "### Шаг 1. Откройте файл с данными и изучите общую информацию. "
   ]
  },
  {
   "cell_type": "code",
   "execution_count": 195,
   "metadata": {},
   "outputs": [
    {
     "name": "stdout",
     "output_type": "stream",
     "text": [
      "   children  days_employed  dob_years education  education_id  \\\n",
      "0         1   -8437.673028         42    высшее             0   \n",
      "1         1   -4024.803754         36   среднее             1   \n",
      "2         0   -5623.422610         33   Среднее             1   \n",
      "3         3   -4124.747207         32   среднее             1   \n",
      "4         0  340266.072047         53   среднее             1   \n",
      "5         0    -926.185831         27    высшее             0   \n",
      "6         0   -2879.202052         43    высшее             0   \n",
      "7         0    -152.779569         50   СРЕДНЕЕ             1   \n",
      "8         2   -6929.865299         35    ВЫСШЕЕ             0   \n",
      "9         0   -2188.756445         41   среднее             1   \n",
      "\n",
      "      family_status  family_status_id gender income_type  debt   total_income  \\\n",
      "0   женат / замужем                 0      F   сотрудник     0  253875.639453   \n",
      "1   женат / замужем                 0      F   сотрудник     0  112080.014102   \n",
      "2   женат / замужем                 0      M   сотрудник     0  145885.952297   \n",
      "3   женат / замужем                 0      M   сотрудник     0  267628.550329   \n",
      "4  гражданский брак                 1      F   пенсионер     0  158616.077870   \n",
      "5  гражданский брак                 1      M   компаньон     0  255763.565419   \n",
      "6   женат / замужем                 0      F   компаньон     0  240525.971920   \n",
      "7   женат / замужем                 0      M   сотрудник     0  135823.934197   \n",
      "8  гражданский брак                 1      F   сотрудник     0   95856.832424   \n",
      "9   женат / замужем                 0      M   сотрудник     0  144425.938277   \n",
      "\n",
      "                      purpose  \n",
      "0               покупка жилья  \n",
      "1     приобретение автомобиля  \n",
      "2               покупка жилья  \n",
      "3  дополнительное образование  \n",
      "4             сыграть свадьбу  \n",
      "5               покупка жилья  \n",
      "6           операции с жильем  \n",
      "7                 образование  \n",
      "8       на проведение свадьбы  \n",
      "9     покупка жилья для семьи  \n",
      "\n",
      "Общая информация:\n",
      "<class 'pandas.core.frame.DataFrame'>\n",
      "RangeIndex: 21525 entries, 0 to 21524\n",
      "Data columns (total 12 columns):\n",
      "children            21525 non-null int64\n",
      "days_employed       19351 non-null float64\n",
      "dob_years           21525 non-null int64\n",
      "education           21525 non-null object\n",
      "education_id        21525 non-null int64\n",
      "family_status       21525 non-null object\n",
      "family_status_id    21525 non-null int64\n",
      "gender              21525 non-null object\n",
      "income_type         21525 non-null object\n",
      "debt                21525 non-null int64\n",
      "total_income        19351 non-null float64\n",
      "purpose             21525 non-null object\n",
      "dtypes: float64(2), int64(5), object(5)\n",
      "memory usage: 2.0+ MB\n",
      "\n",
      "Размер датасета: (21525, 12)\n",
      "\n",
      "Названия столбцов: Index(['children', 'days_employed', 'dob_years', 'education', 'education_id',\n",
      "       'family_status', 'family_status_id', 'gender', 'income_type', 'debt',\n",
      "       'total_income', 'purpose'],\n",
      "      dtype='object')\n"
     ]
    }
   ],
   "source": [
    "import pandas as pd\n",
    "from pymystem3 import Mystem\n",
    "m = Mystem()\n",
    "from collections import Counter\n",
    "\n",
    "bank_data = pd.read_csv('/datasets/data.csv')\n",
    "\n",
    "print(bank_data.head(10))\n",
    "print()\n",
    "\n",
    "print('Общая информация:')\n",
    "bank_data.info()\n",
    "print()\n",
    "\n",
    "print('Размер датасета:', bank_data.shape)\n",
    "print()\n",
    "print('Названия столбцов:', bank_data.columns)"
   ]
  },
  {
   "cell_type": "code",
   "execution_count": 196,
   "metadata": {},
   "outputs": [
    {
     "data": {
      "text/html": [
       "<div>\n",
       "<style scoped>\n",
       "    .dataframe tbody tr th:only-of-type {\n",
       "        vertical-align: middle;\n",
       "    }\n",
       "\n",
       "    .dataframe tbody tr th {\n",
       "        vertical-align: top;\n",
       "    }\n",
       "\n",
       "    .dataframe thead th {\n",
       "        text-align: right;\n",
       "    }\n",
       "</style>\n",
       "<table border=\"1\" class=\"dataframe\">\n",
       "  <thead>\n",
       "    <tr style=\"text-align: right;\">\n",
       "      <th></th>\n",
       "      <th>children</th>\n",
       "      <th>days_employed</th>\n",
       "      <th>dob_years</th>\n",
       "      <th>education_id</th>\n",
       "      <th>family_status_id</th>\n",
       "      <th>debt</th>\n",
       "      <th>total_income</th>\n",
       "    </tr>\n",
       "  </thead>\n",
       "  <tbody>\n",
       "    <tr>\n",
       "      <td>count</td>\n",
       "      <td>21525.000000</td>\n",
       "      <td>19351.000000</td>\n",
       "      <td>21525.000000</td>\n",
       "      <td>21525.000000</td>\n",
       "      <td>21525.000000</td>\n",
       "      <td>21525.000000</td>\n",
       "      <td>1.935100e+04</td>\n",
       "    </tr>\n",
       "    <tr>\n",
       "      <td>mean</td>\n",
       "      <td>0.538908</td>\n",
       "      <td>63046.497661</td>\n",
       "      <td>43.293380</td>\n",
       "      <td>0.817236</td>\n",
       "      <td>0.972544</td>\n",
       "      <td>0.080883</td>\n",
       "      <td>1.674223e+05</td>\n",
       "    </tr>\n",
       "    <tr>\n",
       "      <td>std</td>\n",
       "      <td>1.381587</td>\n",
       "      <td>140827.311974</td>\n",
       "      <td>12.574584</td>\n",
       "      <td>0.548138</td>\n",
       "      <td>1.420324</td>\n",
       "      <td>0.272661</td>\n",
       "      <td>1.029716e+05</td>\n",
       "    </tr>\n",
       "    <tr>\n",
       "      <td>min</td>\n",
       "      <td>-1.000000</td>\n",
       "      <td>-18388.949901</td>\n",
       "      <td>0.000000</td>\n",
       "      <td>0.000000</td>\n",
       "      <td>0.000000</td>\n",
       "      <td>0.000000</td>\n",
       "      <td>2.066726e+04</td>\n",
       "    </tr>\n",
       "    <tr>\n",
       "      <td>25%</td>\n",
       "      <td>0.000000</td>\n",
       "      <td>-2747.423625</td>\n",
       "      <td>33.000000</td>\n",
       "      <td>1.000000</td>\n",
       "      <td>0.000000</td>\n",
       "      <td>0.000000</td>\n",
       "      <td>1.030532e+05</td>\n",
       "    </tr>\n",
       "    <tr>\n",
       "      <td>50%</td>\n",
       "      <td>0.000000</td>\n",
       "      <td>-1203.369529</td>\n",
       "      <td>42.000000</td>\n",
       "      <td>1.000000</td>\n",
       "      <td>0.000000</td>\n",
       "      <td>0.000000</td>\n",
       "      <td>1.450179e+05</td>\n",
       "    </tr>\n",
       "    <tr>\n",
       "      <td>75%</td>\n",
       "      <td>1.000000</td>\n",
       "      <td>-291.095954</td>\n",
       "      <td>53.000000</td>\n",
       "      <td>1.000000</td>\n",
       "      <td>1.000000</td>\n",
       "      <td>0.000000</td>\n",
       "      <td>2.034351e+05</td>\n",
       "    </tr>\n",
       "    <tr>\n",
       "      <td>max</td>\n",
       "      <td>20.000000</td>\n",
       "      <td>401755.400475</td>\n",
       "      <td>75.000000</td>\n",
       "      <td>4.000000</td>\n",
       "      <td>4.000000</td>\n",
       "      <td>1.000000</td>\n",
       "      <td>2.265604e+06</td>\n",
       "    </tr>\n",
       "  </tbody>\n",
       "</table>\n",
       "</div>"
      ],
      "text/plain": [
       "           children  days_employed     dob_years  education_id  \\\n",
       "count  21525.000000   19351.000000  21525.000000  21525.000000   \n",
       "mean       0.538908   63046.497661     43.293380      0.817236   \n",
       "std        1.381587  140827.311974     12.574584      0.548138   \n",
       "min       -1.000000  -18388.949901      0.000000      0.000000   \n",
       "25%        0.000000   -2747.423625     33.000000      1.000000   \n",
       "50%        0.000000   -1203.369529     42.000000      1.000000   \n",
       "75%        1.000000    -291.095954     53.000000      1.000000   \n",
       "max       20.000000  401755.400475     75.000000      4.000000   \n",
       "\n",
       "       family_status_id          debt  total_income  \n",
       "count      21525.000000  21525.000000  1.935100e+04  \n",
       "mean           0.972544      0.080883  1.674223e+05  \n",
       "std            1.420324      0.272661  1.029716e+05  \n",
       "min            0.000000      0.000000  2.066726e+04  \n",
       "25%            0.000000      0.000000  1.030532e+05  \n",
       "50%            0.000000      0.000000  1.450179e+05  \n",
       "75%            1.000000      0.000000  2.034351e+05  \n",
       "max            4.000000      1.000000  2.265604e+06  "
      ]
     },
     "execution_count": 196,
     "metadata": {},
     "output_type": "execute_result"
    }
   ],
   "source": [
    "# учитывая комментарии применим метод describe и sample для закрепления материала :)\n",
    "\n",
    "bank_data.describe()"
   ]
  },
  {
   "cell_type": "code",
   "execution_count": 197,
   "metadata": {},
   "outputs": [
    {
     "data": {
      "text/html": [
       "<div>\n",
       "<style scoped>\n",
       "    .dataframe tbody tr th:only-of-type {\n",
       "        vertical-align: middle;\n",
       "    }\n",
       "\n",
       "    .dataframe tbody tr th {\n",
       "        vertical-align: top;\n",
       "    }\n",
       "\n",
       "    .dataframe thead th {\n",
       "        text-align: right;\n",
       "    }\n",
       "</style>\n",
       "<table border=\"1\" class=\"dataframe\">\n",
       "  <thead>\n",
       "    <tr style=\"text-align: right;\">\n",
       "      <th></th>\n",
       "      <th>children</th>\n",
       "      <th>days_employed</th>\n",
       "      <th>dob_years</th>\n",
       "      <th>education</th>\n",
       "      <th>education_id</th>\n",
       "      <th>family_status</th>\n",
       "      <th>family_status_id</th>\n",
       "      <th>gender</th>\n",
       "      <th>income_type</th>\n",
       "      <th>debt</th>\n",
       "      <th>total_income</th>\n",
       "      <th>purpose</th>\n",
       "    </tr>\n",
       "  </thead>\n",
       "  <tbody>\n",
       "    <tr>\n",
       "      <td>2742</td>\n",
       "      <td>0</td>\n",
       "      <td>-1198.280914</td>\n",
       "      <td>43</td>\n",
       "      <td>высшее</td>\n",
       "      <td>0</td>\n",
       "      <td>в разводе</td>\n",
       "      <td>3</td>\n",
       "      <td>M</td>\n",
       "      <td>госслужащий</td>\n",
       "      <td>0</td>\n",
       "      <td>191350.461476</td>\n",
       "      <td>строительство жилой недвижимости</td>\n",
       "    </tr>\n",
       "    <tr>\n",
       "      <td>1240</td>\n",
       "      <td>0</td>\n",
       "      <td>-1438.334957</td>\n",
       "      <td>42</td>\n",
       "      <td>среднее</td>\n",
       "      <td>1</td>\n",
       "      <td>женат / замужем</td>\n",
       "      <td>0</td>\n",
       "      <td>M</td>\n",
       "      <td>сотрудник</td>\n",
       "      <td>1</td>\n",
       "      <td>135588.196177</td>\n",
       "      <td>покупка коммерческой недвижимости</td>\n",
       "    </tr>\n",
       "    <tr>\n",
       "      <td>11850</td>\n",
       "      <td>0</td>\n",
       "      <td>NaN</td>\n",
       "      <td>61</td>\n",
       "      <td>среднее</td>\n",
       "      <td>1</td>\n",
       "      <td>Не женат / не замужем</td>\n",
       "      <td>4</td>\n",
       "      <td>F</td>\n",
       "      <td>пенсионер</td>\n",
       "      <td>0</td>\n",
       "      <td>NaN</td>\n",
       "      <td>покупка жилья</td>\n",
       "    </tr>\n",
       "    <tr>\n",
       "      <td>11440</td>\n",
       "      <td>2</td>\n",
       "      <td>-2323.345626</td>\n",
       "      <td>39</td>\n",
       "      <td>среднее</td>\n",
       "      <td>1</td>\n",
       "      <td>женат / замужем</td>\n",
       "      <td>0</td>\n",
       "      <td>M</td>\n",
       "      <td>компаньон</td>\n",
       "      <td>0</td>\n",
       "      <td>215335.937646</td>\n",
       "      <td>операции со своей недвижимостью</td>\n",
       "    </tr>\n",
       "    <tr>\n",
       "      <td>7300</td>\n",
       "      <td>0</td>\n",
       "      <td>-1005.889027</td>\n",
       "      <td>56</td>\n",
       "      <td>Среднее</td>\n",
       "      <td>1</td>\n",
       "      <td>женат / замужем</td>\n",
       "      <td>0</td>\n",
       "      <td>M</td>\n",
       "      <td>компаньон</td>\n",
       "      <td>0</td>\n",
       "      <td>284776.525280</td>\n",
       "      <td>покупка жилья</td>\n",
       "    </tr>\n",
       "  </tbody>\n",
       "</table>\n",
       "</div>"
      ],
      "text/plain": [
       "       children  days_employed  dob_years education  education_id  \\\n",
       "2742          0   -1198.280914         43    высшее             0   \n",
       "1240          0   -1438.334957         42   среднее             1   \n",
       "11850         0            NaN         61   среднее             1   \n",
       "11440         2   -2323.345626         39   среднее             1   \n",
       "7300          0   -1005.889027         56   Среднее             1   \n",
       "\n",
       "               family_status  family_status_id gender  income_type  debt  \\\n",
       "2742               в разводе                 3      M  госслужащий     0   \n",
       "1240         женат / замужем                 0      M    сотрудник     1   \n",
       "11850  Не женат / не замужем                 4      F    пенсионер     0   \n",
       "11440        женат / замужем                 0      M    компаньон     0   \n",
       "7300         женат / замужем                 0      M    компаньон     0   \n",
       "\n",
       "        total_income                            purpose  \n",
       "2742   191350.461476   строительство жилой недвижимости  \n",
       "1240   135588.196177  покупка коммерческой недвижимости  \n",
       "11850            NaN                      покупка жилья  \n",
       "11440  215335.937646    операции со своей недвижимостью  \n",
       "7300   284776.525280                      покупка жилья  "
      ]
     },
     "execution_count": 197,
     "metadata": {},
     "output_type": "execute_result"
    }
   ],
   "source": [
    "bank_data.sample(5)"
   ]
  },
  {
   "cell_type": "markdown",
   "metadata": {},
   "source": [
    "### Вывод"
   ]
  },
  {
   "cell_type": "markdown",
   "metadata": {},
   "source": [
    "Открыл файл, получил представление о данных, размер датасета. В файле 2 столбца в формате float64, 5 столбцов в формате int64 и 5 столобцов формата object"
   ]
  },
  {
   "cell_type": "markdown",
   "metadata": {},
   "source": [
    "### Шаг 2. Предобработка данных"
   ]
  },
  {
   "cell_type": "markdown",
   "metadata": {},
   "source": [
    "### Обработка пропусков"
   ]
  },
  {
   "cell_type": "code",
   "execution_count": 198,
   "metadata": {},
   "outputs": [
    {
     "name": "stdout",
     "output_type": "stream",
     "text": [
      "Пропуски:\n",
      "children               0\n",
      "days_employed       2174\n",
      "dob_years              0\n",
      "education              0\n",
      "education_id           0\n",
      "family_status          0\n",
      "family_status_id       0\n",
      "gender                 0\n",
      "income_type            0\n",
      "debt                   0\n",
      "total_income        2174\n",
      "purpose                0\n",
      "dtype: int64\n",
      "Уникальные значения столбца family_status_id: [0 1 2 3 4]\n",
      "Уникальные значения столбца debt: [0 1]\n"
     ]
    }
   ],
   "source": [
    "# выделим столбцы, необходимые для ответа на поставленые вопросы:\n",
    "# children, family_status_id, debt, total_income, purpose\n",
    "# выявляем пропуски в столбцах\n",
    "print('Пропуски:')\n",
    "print(bank_data.isna().sum())\n",
    "# в столбце total_income, нужном нам для анализа, есть 2174 пропуска\n",
    "# посчитаем медиану по столбцу total_income в зависимости от типа занятости и заменим пропуски на медиану\n",
    "# столбец days_employed по пропускам сообветствует столбцу total_income,\n",
    "# пропуски также заменяем медианой в зависимости от типа занятости, но этот столбец нам не сильно интересен, т. е.\n",
    "# в нём нет данных, необходимых для ответов на поставленные вопросы\n",
    "\n",
    "for income in bank_data['income_type'].unique():\n",
    "    median = bank_data.loc[bank_data['income_type'] == income, 'total_income'].median()\n",
    "    bank_data.loc[(bank_data['total_income'].isna()) & (bank_data['income_type'] == income), 'total_income'] = median\n",
    "    \n",
    "for income in bank_data['income_type'].unique():\n",
    "    median = bank_data.loc[bank_data['income_type'] == income, 'days_employed'].median()\n",
    "    bank_data.loc[(bank_data['days_employed'].isna()) & (bank_data['income_type'] == income), 'days_employed'] = median\n",
    "\n",
    "# проанализуруем столбец family_status_id на уникальные значения\n",
    "print('Уникальные значения столбца family_status_id:', bank_data['family_status_id'].unique())\n",
    "# как можем видеть значения от 0 до 4, пропусков нет - значит нас всё устраивает\n",
    "\n",
    "# проанализуруем столбец debt на уникальные значения\n",
    "print('Уникальные значения столбца debt:', bank_data['debt'].unique())\n",
    "# как можем видеть значения 0 и 1, пропусков нет - значит нас всё устраивает"
   ]
  },
  {
   "cell_type": "markdown",
   "metadata": {},
   "source": [
    "# Вывод"
   ]
  },
  {
   "cell_type": "markdown",
   "metadata": {},
   "source": [
    "Были выделены основные столбцы, значения в которых важны для ответа на поставленые поромы, значения в столбце total_income заменили на медиану по столбцу, т. к. это столбец важен для ответов на поставленные вопросы\n",
    "\n",
    "Пропуски могли появиться при \"объединении\" данных из нескольких источников. Явной закономерности появления пропусков я не обнаружил.\n",
    "\n",
    "В столбце gender было обнаружено значение 'XNA', с ним ничегоне не делаем, т. к. этот столец не влияет на результаты исследования, а остальные данные в строке с этим значением корректы."
   ]
  },
  {
   "cell_type": "markdown",
   "metadata": {},
   "source": [
    "### Замена типа данных"
   ]
  },
  {
   "cell_type": "code",
   "execution_count": 200,
   "metadata": {},
   "outputs": [
    {
     "name": "stdout",
     "output_type": "stream",
     "text": [
      "[ 1  0  3  2  4 20  5]\n",
      "0\n"
     ]
    }
   ],
   "source": [
    "# проанализуруем столбец children на уникальные значения\n",
    "print(bank_data['children'].unique())\n",
    "# значение \"-1\" заменим на \"1\", т. к. минус одного ребёнка не может быть\n",
    "bank_data['children'] = bank_data['children'].replace(-1, 1)\n",
    "print(bank_data[bank_data['children'] == -1]['children'].count())\n",
    "\n",
    "# столбец total_income и days_employed имеют тип float64, заменим на целочесленный тип, что бы получить данные в рублях / днях\n",
    "bank_data['total_income'] = bank_data['total_income'].astype('int')\n",
    "bank_data['days_employed'] = bank_data['days_employed'].astype('int')"
   ]
  },
  {
   "cell_type": "code",
   "execution_count": 201,
   "metadata": {},
   "outputs": [
    {
     "name": "stdout",
     "output_type": "stream",
     "text": [
      "76\n",
      "Процент людей с 20 детьми от общего количества 0.35%\n"
     ]
    }
   ],
   "source": [
    "# как видим в столбце children, есть значения \"20\", примем их за выброс\n",
    "# посчитаем колличество таких значений\n",
    "print(bank_data[bank_data['children'] == 20]['children'].count())\n",
    "# получаем 76 значений равных \"20\"\n",
    "print('Процент людей с 20 детьми от общего количества {:.2%}'.format((bank_data[bank_data['children'] == 20]['children'].count())/len(bank_data)))\n",
    "# таких значений 0,35%, соответственно их можно удалить\n",
    "\n",
    "bank_data = bank_data.drop(bank_data[bank_data['children'] == 20].index).reset_index(drop = True)"
   ]
  },
  {
   "cell_type": "markdown",
   "metadata": {},
   "source": [
    "### Вывод"
   ]
  },
  {
   "cell_type": "markdown",
   "metadata": {},
   "source": [
    "Отрицательные значения в столбце children заменяем на положительные, значений не много, поэтому не повлияют сильно на выводы\n",
    "\n",
    "Значения в столбце total_income с вещественного типа изменяем на целочисленный, что бы получить значения в рублях"
   ]
  },
  {
   "cell_type": "markdown",
   "metadata": {},
   "source": [
    "### Обработка дубликатов"
   ]
  },
  {
   "cell_type": "code",
   "execution_count": 202,
   "metadata": {},
   "outputs": [
    {
     "name": "stdout",
     "output_type": "stream",
     "text": [
      "Количество дубликатов: 71\n"
     ]
    }
   ],
   "source": [
    "# приведём данные к одному регистру\n",
    "bank_data['education'] = bank_data['education'].str.lower()\n",
    "bank_data['family_status'] = bank_data['family_status'].str.lower()\n",
    "\n",
    "# посчитаем количество дубликатов\n",
    "print('Количество дубликатов:', bank_data.duplicated().sum())\n",
    "\n",
    "# мы нашли 71 дубликат, удалим их\n",
    "bank_data = bank_data.drop_duplicates().reset_index(drop = True)"
   ]
  },
  {
   "cell_type": "markdown",
   "metadata": {},
   "source": [
    "### Вывод"
   ]
  },
  {
   "cell_type": "markdown",
   "metadata": {},
   "source": [
    "Нашли и удалили дубликаты в датафрейме (71 дубликат)\n",
    "\n",
    "Дубликаты могли появиться при \"объединении\" данных из нескольких источников. Явной закономерности появления дубликатов я не обнаружил."
   ]
  },
  {
   "cell_type": "markdown",
   "metadata": {},
   "source": [
    "### Лемматизация"
   ]
  },
  {
   "cell_type": "code",
   "execution_count": 204,
   "metadata": {},
   "outputs": [
    {
     "name": "stdout",
     "output_type": "stream",
     "text": [
      "Counter({' ': 59, '\\n': 38, 'покупка': 10, 'недвижимость': 10, 'автомобиль': 9, 'образование': 9, 'жилье': 7, 'с': 5, 'операция': 4, 'на': 4, 'свой': 4, 'свадьба': 3, 'строительство': 3, 'получение': 3, 'высокий': 3, 'дополнительный': 2, 'для': 2, 'коммерческий': 2, 'жилой': 2, 'заниматься': 2, 'сделка': 2, 'приобретение': 1, 'сыграть': 1, 'проведение': 1, 'семья': 1, 'собственный': 1, 'подержать': 1, 'со': 1, 'подержанный': 1, 'профильный': 1, 'сдача': 1, 'ремонт': 1})\n",
      "Разделяем все цели на 4 категории:\n",
      "Займ на покупку недвижимости    10775\n",
      "Займ на покупку автомобиля       4290\n",
      "Займ на образование              3998\n",
      "Займ на свадьбу                  2315\n",
      "Name: category, dtype: int64\n"
     ]
    }
   ],
   "source": [
    "# получаем список всех категорий\n",
    "#print(bank_data['purpose'].value_counts())\n",
    "\n",
    "# выделяем уникальные леммы и считаем частоту их упоминаний\n",
    "\n",
    "all_lemmas = []\n",
    "\n",
    "for purpose in bank_data['purpose'].unique():\n",
    "    all_lemmas += m.lemmatize(purpose)\n",
    "\n",
    "print(Counter(all_lemmas))\n",
    "\n",
    "def purpose_category(row):\n",
    "    string_purpose = row['purpose']\n",
    "    lemmas = m.lemmatize(string_purpose)\n",
    "    \n",
    "    def final_category(lemma):\n",
    "        if ('свадьба' in lemmas):\n",
    "            return 'Займ на свадьбу'\n",
    "        if ('жилье' in lemmas) or ('недвижимость' in lemmas):\n",
    "            return 'Займ на покупку недвижимости'\n",
    "        if 'образование' in lemmas:\n",
    "            return 'Займ на образование'\n",
    "        if 'автомобиль' in lemmas:\n",
    "            return 'Займ на покупку автомобиля'\n",
    "    return final_category(lemmas)\n",
    "\n",
    "\n",
    "bank_data['category'] = bank_data.apply(purpose_category, axis = 1)\n",
    "\n",
    "print('Разделяем все цели на 4 категории:')\n",
    "print(bank_data['category'].value_counts())"
   ]
  },
  {
   "cell_type": "markdown",
   "metadata": {},
   "source": [
    "### Вывод"
   ]
  },
  {
   "cell_type": "markdown",
   "metadata": {},
   "source": [
    "Применяем функцимю лемматизации к столбцу purpose, получаем столбец category - с обобщёнными категориями (всего выделено 4 категории)"
   ]
  },
  {
   "cell_type": "markdown",
   "metadata": {},
   "source": [
    "### Категоризация данных"
   ]
  },
  {
   "cell_type": "code",
   "execution_count": 205,
   "metadata": {},
   "outputs": [],
   "source": [
    "question_one = bank_data.pivot_table(index = 'children', columns = 'debt', values = 'dob_years', aggfunc = 'count')\n",
    "question_one.columns = ['Без долга', 'С долгом']\n",
    "question_one['Доля должников'] = (question_one['С долгом']/(question_one['С долгом'] + question_one['Без долга'])).map('{:.2%}'.format)\n",
    "\n",
    "question_two = bank_data.pivot_table(index = 'family_status', columns = 'debt', values = 'dob_years', aggfunc = 'count')\n",
    "question_two.columns = ['Без долга', 'С долгом']\n",
    "question_two['Доля должников'] = (question_two['С долгом']/(question_two['С долгом'] + question_two['Без долга'])).map('{:.2%}'.format)\n",
    "\n",
    "question_three_temp = bank_data[['total_income', 'debt', 'dob_years']].copy()\n",
    "percentile = bank_data['total_income'].describe()\n",
    "\n",
    "def total_income_and_debt(row):\n",
    "    total_income = row['total_income']\n",
    "    debt = row['debt']\n",
    "    if (total_income <= percentile[4]):\n",
    "        return '< 107 528'\n",
    "    if (total_income > percentile[4]) and (total_income <= percentile[5]):\n",
    "        return '107 528 - 142 594'\n",
    "    if (total_income > percentile[5]) and (total_income <= percentile[6]):\n",
    "        return '142 594 - 195 795'\n",
    "    if (total_income > percentile[6]):\n",
    "        return '> 195 795'\n",
    "\n",
    "question_three_temp['total_income_category'] = question_three_temp.apply(total_income_and_debt, axis = 1)\n",
    "\n",
    "question_three = question_three_temp.pivot_table(index = 'total_income_category', columns = 'debt', values = 'dob_years', aggfunc = 'count')\n",
    "question_three.columns = ['Без долга', 'С долгом']\n",
    "question_three['Доля должников'] = (question_three['С долгом']/(question_three['С долгом'] + question_three['Без долга'])).map('{:.2%}'.format)\n",
    "\n",
    "question_four = bank_data.pivot_table(index = 'category', columns = 'debt', values = 'dob_years', aggfunc = 'count')\n",
    "question_four.columns = ['Без долга', 'С долгом']\n",
    "question_four['Доля должников'] = (question_four['С долгом']/(question_four['С долгом'] + question_four['Без долга'])).map('{:.2%}'.format)"
   ]
  },
  {
   "cell_type": "markdown",
   "metadata": {},
   "source": [
    "### Вывод"
   ]
  },
  {
   "cell_type": "markdown",
   "metadata": {},
   "source": [
    "Провели категоризацию данных, написали функции для рассчёта значений, необходимых для ответов на поставленные вопросы"
   ]
  },
  {
   "cell_type": "markdown",
   "metadata": {},
   "source": [
    "### Шаг 3. Ответьте на вопросы"
   ]
  },
  {
   "cell_type": "markdown",
   "metadata": {},
   "source": [
    "- Есть ли зависимость между наличием детей и возвратом кредита в срок?"
   ]
  },
  {
   "cell_type": "code",
   "execution_count": 206,
   "metadata": {},
   "outputs": [
    {
     "name": "stdout",
     "output_type": "stream",
     "text": [
      "          Без долга  С долгом Доля должников\n",
      "children                                    \n",
      "0           13028.0    1063.0          7.54%\n",
      "1            4410.0     445.0          9.17%\n",
      "2            1858.0     194.0          9.45%\n",
      "3             303.0      27.0          8.18%\n",
      "4              37.0       4.0          9.76%\n",
      "5               9.0       NaN           nan%\n"
     ]
    }
   ],
   "source": [
    "print(question_one)"
   ]
  },
  {
   "cell_type": "markdown",
   "metadata": {},
   "source": [
    "### Вывод"
   ]
  },
  {
   "cell_type": "markdown",
   "metadata": {},
   "source": [
    "Исходя из полученных данных делаем вывод что люди без детей возвращают кредиты лучше, чем те, у кого есть дети. Между количеством детей и долей должников прямой зависимости нет, также можно выделить \"интересный\" момент - у кого 5-ть детей - нет долгов."
   ]
  },
  {
   "cell_type": "markdown",
   "metadata": {},
   "source": [
    "- Есть ли зависимость между семейным положением и возвратом кредита в срок?"
   ]
  },
  {
   "cell_type": "code",
   "execution_count": 207,
   "metadata": {},
   "outputs": [
    {
     "name": "stdout",
     "output_type": "stream",
     "text": [
      "                       Без долга  С долгом Доля должников\n",
      "family_status                                            \n",
      "в разводе                   1109        84          7.04%\n",
      "вдовец / вдова               892        63          6.60%\n",
      "гражданский брак            3754       385          9.30%\n",
      "женат / замужем            11362       928          7.55%\n",
      "не женат / не замужем       2528       273          9.75%\n"
     ]
    }
   ],
   "source": [
    "print(question_two)"
   ]
  },
  {
   "cell_type": "markdown",
   "metadata": {},
   "source": [
    "### Вывод"
   ]
  },
  {
   "cell_type": "markdown",
   "metadata": {},
   "source": [
    "Из полученных данных можем сделать следующие выводы: наиболее благополучними клиентами являются вдовы / вдовцы; наименее благополучными клиентами являются люди в гражданском браке и не женатые / не замужные."
   ]
  },
  {
   "cell_type": "markdown",
   "metadata": {},
   "source": [
    "- Есть ли зависимость между уровнем дохода и возвратом кредита в срок?"
   ]
  },
  {
   "cell_type": "code",
   "execution_count": 208,
   "metadata": {},
   "outputs": [
    {
     "name": "stdout",
     "output_type": "stream",
     "text": [
      "                       Без долга  С долгом Доля должников\n",
      "total_income_category                                    \n",
      "107 528 - 142 594           4981       480          8.79%\n",
      "142 594 - 195 795           4782       445          8.51%\n",
      "< 107 528                   4918       427          7.99%\n",
      "> 195 795                   4964       381          7.13%\n"
     ]
    }
   ],
   "source": [
    "print(question_three)"
   ]
  },
  {
   "cell_type": "markdown",
   "metadata": {},
   "source": [
    "### Вывод"
   ]
  },
  {
   "cell_type": "markdown",
   "metadata": {},
   "source": [
    "Исходя из полученных данных делаем вывод что наиболее \"благополучная\" группа людей с доходом более 195 795 рублей.\n",
    "\n",
    "Наиболее \"неблагополучными\" группами являются люди с доходом 142 594 - 195 795 рубле и люди с доходом 107 528 - 142 594 рублей."
   ]
  },
  {
   "cell_type": "markdown",
   "metadata": {},
   "source": [
    "- Как разные цели кредита влияют на его возврат в срок?"
   ]
  },
  {
   "cell_type": "code",
   "execution_count": 209,
   "metadata": {},
   "outputs": [
    {
     "name": "stdout",
     "output_type": "stream",
     "text": [
      "                              Без долга  С долгом Доля должников\n",
      "category                                                        \n",
      "Займ на образование                3629       369          9.23%\n",
      "Займ на покупку автомобиля         3889       401          9.35%\n",
      "Займ на покупку недвижимости       9995       780          7.24%\n",
      "Займ на свадьбу                    2132       183          7.90%\n"
     ]
    }
   ],
   "source": [
    "print(question_four)"
   ]
  },
  {
   "cell_type": "markdown",
   "metadata": {},
   "source": [
    "### Вывод"
   ]
  },
  {
   "cell_type": "markdown",
   "metadata": {},
   "source": [
    "Исходя из полученных значений можно сделать вывод что наиболее \"благополучными\" в плане возвратов являются кредиты на недвижисмость. Наименее \"благополучными\" являются кредины на образование и автомобиль."
   ]
  },
  {
   "cell_type": "markdown",
   "metadata": {},
   "source": [
    "### Шаг 4. Общий вывод"
   ]
  },
  {
   "cell_type": "markdown",
   "metadata": {},
   "source": [
    "Исходя из полученных данных составим портрет наиболее и наименее \"благополучного заёмщика\"\n",
    "\n",
    "Наиболее благополучный: человек без детей, вдова / вдовец, с доходом более 195.795 рублей, берущий кредит на покупку недвижисоти.\n",
    "\n",
    "Наименее благополучный: люди, не женатые / не замужные, с одним или несколькими детьми, с доходом 107.528 - 195.795 рублей, цель кредита - образование или покупка автомобиля. "
   ]
  }
 ],
 "metadata": {
  "kernelspec": {
   "display_name": "Python 3",
   "language": "python",
   "name": "python3"
  },
  "language_info": {
   "codemirror_mode": {
    "name": "ipython",
    "version": 3
   },
   "file_extension": ".py",
   "mimetype": "text/x-python",
   "name": "python",
   "nbconvert_exporter": "python",
   "pygments_lexer": "ipython3",
   "version": "3.8.5"
  },
  "toc": {
   "base_numbering": 1,
   "nav_menu": {},
   "number_sections": true,
   "sideBar": true,
   "skip_h1_title": false,
   "title_cell": "Table of Contents",
   "title_sidebar": "Contents",
   "toc_cell": false,
   "toc_position": {},
   "toc_section_display": true,
   "toc_window_display": false
  }
 },
 "nbformat": 4,
 "nbformat_minor": 2
}
