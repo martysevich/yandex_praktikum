{
 "cells": [
  {
   "cell_type": "markdown",
   "metadata": {},
   "source": [
    "# Описание проекта\n",
    "Вы работаете в интернет-магазине «Стримчик», который продаёт по всему миру компьютерные игры. Из открытых источников доступны исторические данные о продажах игр, оценки пользователей и экспертов, жанры и платформы (например, _Xbox_ или _PlayStation_ ). Вам нужно выявить определяющие успешность игры закономерности. Это позволит сделать ставку на потенциально популярный продукт и спланировать рекламные кампании.\n",
    "\n",
    "Перед вами данные до 2016 года. Представим, что сейчас декабрь 2016 г., и вы планируете кампанию на 2017-й. Нужно отработать принцип работы с данными. Неважно, прогнозируете ли вы продажи на 2017 год по данным 2016-го или же 2027-й — по данным 2026 года.\n",
    "\n",
    "В наборе данных попадается аббревиатура _ESRB (Entertainment Software Rating Board)_ — это ассоциация, определяющая возрастной рейтинг компьютерных игр. _ESRB_ оценивает игровой контент и присваивает ему подходящую возрастную категорию, например, «Для взрослых», «Для детей младшего возраста» или «Для подростков»."
   ]
  },
  {
   "cell_type": "markdown",
   "metadata": {},
   "source": [
    "# Описание данных\n",
    "* _Name_ — название игры\n",
    "* _Platform_ — платформа\n",
    "* _Year_of_Release_ — год выпуска\n",
    "* _Genre_ — жанр игры\n",
    "* _NA_sales_ — продажи в Северной Америке (миллионы проданных копий)\n",
    "* _EU_sales_ — продажи в Европе (миллионы проданных копий)\n",
    "* _JP_sales_ — продажи в Японии (миллионы проданных копий)\n",
    "* _Other_sales_ — продажи в других странах (миллионы проданных копий)\n",
    "* _Critic_Score_ — оценка критиков (максимум 100)\n",
    "* _User_Score_ — оценка пользователей (максимум 10)\n",
    "* _Rating_ — рейтинг от организации _ESRB (англ. Entertainment Software Rating Board)._ Эта ассоциация определяет рейтинг компьютерных игр и присваивает им подходящую возрастную категорию."
   ]
  },
  {
   "cell_type": "markdown",
   "metadata": {},
   "source": [
    "# Содержание\n",
    "\n",
    "[1  Шаг 1. Откройте файл с данными и изучите общую информацию](#Шаг-1.-Откройте-файл-с-данными-и-изучите-общую-информацию-1)\n",
    "\n",
    "[1.1  Выводы к первому шагу](#Выводы-к-первому-шагу-1.1)\n",
    "\n",
    "[2  Шаг 2. Подготовьте данные](#Шаг-2.-Подготовьте-данные-2)\n",
    "\n",
    "[2.1  Выводы ко второму шагу](#Выводы-ко-второму-шагу-2.1)\n",
    "\n",
    "[3  Шаг 3. Проведите исследовательский анализ данных](#Шаг-3.-Проведите-исследовательский-анализ-данных-3)\n",
    "\n",
    "[3.1  Выводы к третьему шагу](#Выводы-к-третьему-шагу-3.1)\n",
    "\n",
    "[4  Шаг 4. Составьте портрет пользователя каждого региона](#Шаг-4.-Составьте-портрет-пользователя-каждого-региона-4)\n",
    "\n",
    "[4.1  Выводы к четвёртому шагу](#Выводы-к-четвёртому-шагу-4.1)\n",
    "\n",
    "[5  Шаг 5. Проверьте гипотезы](#Шаг-5.-Проверьте-гипотезы-5)\n",
    "\n",
    "[5.1  Выводы к пятому шагу](#Выводы-к-пятому-шагу-5.1)\n",
    "\n",
    "[6  Шаг 6. Напишите общий вывод](#Шаг-6.-Напишите-общий-вывод-6)"
   ]
  },
  {
   "cell_type": "markdown",
   "metadata": {},
   "source": [
    "## Шаг 1. Откройте файл с данными и изучите общую информацию"
   ]
  },
  {
   "cell_type": "code",
   "execution_count": 1,
   "metadata": {},
   "outputs": [],
   "source": [
    "# подключаем необходимые библиотеки\n",
    "import pandas as pd\n",
    "import matplotlib.pyplot as plt\n",
    "import math\n",
    "import numpy as np\n",
    "import seaborn as sns\n",
    "from scipy import stats as st"
   ]
  },
  {
   "cell_type": "code",
   "execution_count": 2,
   "metadata": {},
   "outputs": [],
   "source": [
    "# открываем файл\n",
    "games_data = pd.read_csv('/datasets/games.csv')"
   ]
  },
  {
   "cell_type": "code",
   "execution_count": 3,
   "metadata": {},
   "outputs": [
    {
     "data": {
      "text/html": [
       "<div>\n",
       "<style scoped>\n",
       "    .dataframe tbody tr th:only-of-type {\n",
       "        vertical-align: middle;\n",
       "    }\n",
       "\n",
       "    .dataframe tbody tr th {\n",
       "        vertical-align: top;\n",
       "    }\n",
       "\n",
       "    .dataframe thead th {\n",
       "        text-align: right;\n",
       "    }\n",
       "</style>\n",
       "<table border=\"1\" class=\"dataframe\">\n",
       "  <thead>\n",
       "    <tr style=\"text-align: right;\">\n",
       "      <th></th>\n",
       "      <th>Name</th>\n",
       "      <th>Platform</th>\n",
       "      <th>Year_of_Release</th>\n",
       "      <th>Genre</th>\n",
       "      <th>NA_sales</th>\n",
       "      <th>EU_sales</th>\n",
       "      <th>JP_sales</th>\n",
       "      <th>Other_sales</th>\n",
       "      <th>Critic_Score</th>\n",
       "      <th>User_Score</th>\n",
       "      <th>Rating</th>\n",
       "    </tr>\n",
       "  </thead>\n",
       "  <tbody>\n",
       "    <tr>\n",
       "      <td>9290</td>\n",
       "      <td>Where the Wild Things Are</td>\n",
       "      <td>DS</td>\n",
       "      <td>2009.0</td>\n",
       "      <td>Platform</td>\n",
       "      <td>0.12</td>\n",
       "      <td>0.00</td>\n",
       "      <td>0.00</td>\n",
       "      <td>0.01</td>\n",
       "      <td>NaN</td>\n",
       "      <td>tbd</td>\n",
       "      <td>E</td>\n",
       "    </tr>\n",
       "    <tr>\n",
       "      <td>8100</td>\n",
       "      <td>Shadow The Hedgehog</td>\n",
       "      <td>XB</td>\n",
       "      <td>2005.0</td>\n",
       "      <td>Platform</td>\n",
       "      <td>0.13</td>\n",
       "      <td>0.04</td>\n",
       "      <td>0.00</td>\n",
       "      <td>0.01</td>\n",
       "      <td>49.0</td>\n",
       "      <td>5.5</td>\n",
       "      <td>E10+</td>\n",
       "    </tr>\n",
       "    <tr>\n",
       "      <td>15241</td>\n",
       "      <td>Hisshou Pachinko * Pachi-Slot Kouryaku Series ...</td>\n",
       "      <td>PSP</td>\n",
       "      <td>2010.0</td>\n",
       "      <td>Misc</td>\n",
       "      <td>0.00</td>\n",
       "      <td>0.00</td>\n",
       "      <td>0.02</td>\n",
       "      <td>0.00</td>\n",
       "      <td>NaN</td>\n",
       "      <td>NaN</td>\n",
       "      <td>NaN</td>\n",
       "    </tr>\n",
       "    <tr>\n",
       "      <td>14488</td>\n",
       "      <td>Puzzle &amp; Action: Tant-R</td>\n",
       "      <td>GEN</td>\n",
       "      <td>1994.0</td>\n",
       "      <td>Misc</td>\n",
       "      <td>0.00</td>\n",
       "      <td>0.00</td>\n",
       "      <td>0.03</td>\n",
       "      <td>0.00</td>\n",
       "      <td>NaN</td>\n",
       "      <td>NaN</td>\n",
       "      <td>NaN</td>\n",
       "    </tr>\n",
       "    <tr>\n",
       "      <td>9235</td>\n",
       "      <td>4x4 EVO 2</td>\n",
       "      <td>GC</td>\n",
       "      <td>2002.0</td>\n",
       "      <td>Racing</td>\n",
       "      <td>0.11</td>\n",
       "      <td>0.03</td>\n",
       "      <td>0.00</td>\n",
       "      <td>0.00</td>\n",
       "      <td>56.0</td>\n",
       "      <td>tbd</td>\n",
       "      <td>E</td>\n",
       "    </tr>\n",
       "    <tr>\n",
       "      <td>6439</td>\n",
       "      <td>NPPL: Championship Paintball 2009</td>\n",
       "      <td>PS2</td>\n",
       "      <td>2008.0</td>\n",
       "      <td>Shooter</td>\n",
       "      <td>0.13</td>\n",
       "      <td>0.10</td>\n",
       "      <td>0.00</td>\n",
       "      <td>0.03</td>\n",
       "      <td>NaN</td>\n",
       "      <td>8.3</td>\n",
       "      <td>E10+</td>\n",
       "    </tr>\n",
       "    <tr>\n",
       "      <td>7073</td>\n",
       "      <td>Hannah Montana: The Movie</td>\n",
       "      <td>PS3</td>\n",
       "      <td>2009.0</td>\n",
       "      <td>Adventure</td>\n",
       "      <td>0.14</td>\n",
       "      <td>0.06</td>\n",
       "      <td>0.00</td>\n",
       "      <td>0.03</td>\n",
       "      <td>NaN</td>\n",
       "      <td>3.4</td>\n",
       "      <td>E</td>\n",
       "    </tr>\n",
       "    <tr>\n",
       "      <td>12187</td>\n",
       "      <td>Kanji Sonomama DS Rakubiki Jiten</td>\n",
       "      <td>DS</td>\n",
       "      <td>2006.0</td>\n",
       "      <td>Misc</td>\n",
       "      <td>0.00</td>\n",
       "      <td>0.00</td>\n",
       "      <td>0.07</td>\n",
       "      <td>0.00</td>\n",
       "      <td>NaN</td>\n",
       "      <td>NaN</td>\n",
       "      <td>NaN</td>\n",
       "    </tr>\n",
       "    <tr>\n",
       "      <td>15247</td>\n",
       "      <td>Commandos: Strike Force</td>\n",
       "      <td>XB</td>\n",
       "      <td>2006.0</td>\n",
       "      <td>Shooter</td>\n",
       "      <td>0.02</td>\n",
       "      <td>0.00</td>\n",
       "      <td>0.00</td>\n",
       "      <td>0.00</td>\n",
       "      <td>62.0</td>\n",
       "      <td>tbd</td>\n",
       "      <td>T</td>\n",
       "    </tr>\n",
       "    <tr>\n",
       "      <td>13398</td>\n",
       "      <td>Taiko no Tatsujin Portable 2</td>\n",
       "      <td>PSP</td>\n",
       "      <td>2006.0</td>\n",
       "      <td>Misc</td>\n",
       "      <td>0.00</td>\n",
       "      <td>0.00</td>\n",
       "      <td>0.05</td>\n",
       "      <td>0.00</td>\n",
       "      <td>NaN</td>\n",
       "      <td>NaN</td>\n",
       "      <td>NaN</td>\n",
       "    </tr>\n",
       "  </tbody>\n",
       "</table>\n",
       "</div>"
      ],
      "text/plain": [
       "                                                    Name Platform  \\\n",
       "9290                           Where the Wild Things Are       DS   \n",
       "8100                                 Shadow The Hedgehog       XB   \n",
       "15241  Hisshou Pachinko * Pachi-Slot Kouryaku Series ...      PSP   \n",
       "14488                            Puzzle & Action: Tant-R      GEN   \n",
       "9235                                           4x4 EVO 2       GC   \n",
       "6439                   NPPL: Championship Paintball 2009      PS2   \n",
       "7073                           Hannah Montana: The Movie      PS3   \n",
       "12187                   Kanji Sonomama DS Rakubiki Jiten       DS   \n",
       "15247                            Commandos: Strike Force       XB   \n",
       "13398                       Taiko no Tatsujin Portable 2      PSP   \n",
       "\n",
       "       Year_of_Release      Genre  NA_sales  EU_sales  JP_sales  Other_sales  \\\n",
       "9290            2009.0   Platform      0.12      0.00      0.00         0.01   \n",
       "8100            2005.0   Platform      0.13      0.04      0.00         0.01   \n",
       "15241           2010.0       Misc      0.00      0.00      0.02         0.00   \n",
       "14488           1994.0       Misc      0.00      0.00      0.03         0.00   \n",
       "9235            2002.0     Racing      0.11      0.03      0.00         0.00   \n",
       "6439            2008.0    Shooter      0.13      0.10      0.00         0.03   \n",
       "7073            2009.0  Adventure      0.14      0.06      0.00         0.03   \n",
       "12187           2006.0       Misc      0.00      0.00      0.07         0.00   \n",
       "15247           2006.0    Shooter      0.02      0.00      0.00         0.00   \n",
       "13398           2006.0       Misc      0.00      0.00      0.05         0.00   \n",
       "\n",
       "       Critic_Score User_Score Rating  \n",
       "9290            NaN        tbd      E  \n",
       "8100           49.0        5.5   E10+  \n",
       "15241           NaN        NaN    NaN  \n",
       "14488           NaN        NaN    NaN  \n",
       "9235           56.0        tbd      E  \n",
       "6439            NaN        8.3   E10+  \n",
       "7073            NaN        3.4      E  \n",
       "12187           NaN        NaN    NaN  \n",
       "15247          62.0        tbd      T  \n",
       "13398           NaN        NaN    NaN  "
      ]
     },
     "execution_count": 3,
     "metadata": {},
     "output_type": "execute_result"
    }
   ],
   "source": [
    "games_data.sample(10)"
   ]
  },
  {
   "cell_type": "code",
   "execution_count": 4,
   "metadata": {},
   "outputs": [
    {
     "name": "stdout",
     "output_type": "stream",
     "text": [
      "Размер датасета: (16715, 11)\n"
     ]
    }
   ],
   "source": [
    "print('Размер датасета:', games_data.shape)"
   ]
  },
  {
   "cell_type": "code",
   "execution_count": 5,
   "metadata": {},
   "outputs": [
    {
     "name": "stdout",
     "output_type": "stream",
     "text": [
      "<class 'pandas.core.frame.DataFrame'>\n",
      "RangeIndex: 16715 entries, 0 to 16714\n",
      "Data columns (total 11 columns):\n",
      "Name               16713 non-null object\n",
      "Platform           16715 non-null object\n",
      "Year_of_Release    16446 non-null float64\n",
      "Genre              16713 non-null object\n",
      "NA_sales           16715 non-null float64\n",
      "EU_sales           16715 non-null float64\n",
      "JP_sales           16715 non-null float64\n",
      "Other_sales        16715 non-null float64\n",
      "Critic_Score       8137 non-null float64\n",
      "User_Score         10014 non-null object\n",
      "Rating             9949 non-null object\n",
      "dtypes: float64(6), object(5)\n",
      "memory usage: 1.4+ MB\n"
     ]
    }
   ],
   "source": [
    "games_data.info()"
   ]
  },
  {
   "cell_type": "code",
   "execution_count": 6,
   "metadata": {},
   "outputs": [
    {
     "data": {
      "text/html": [
       "<div>\n",
       "<style scoped>\n",
       "    .dataframe tbody tr th:only-of-type {\n",
       "        vertical-align: middle;\n",
       "    }\n",
       "\n",
       "    .dataframe tbody tr th {\n",
       "        vertical-align: top;\n",
       "    }\n",
       "\n",
       "    .dataframe thead th {\n",
       "        text-align: right;\n",
       "    }\n",
       "</style>\n",
       "<table border=\"1\" class=\"dataframe\">\n",
       "  <thead>\n",
       "    <tr style=\"text-align: right;\">\n",
       "      <th></th>\n",
       "      <th>Year_of_Release</th>\n",
       "      <th>NA_sales</th>\n",
       "      <th>EU_sales</th>\n",
       "      <th>JP_sales</th>\n",
       "      <th>Other_sales</th>\n",
       "      <th>Critic_Score</th>\n",
       "    </tr>\n",
       "  </thead>\n",
       "  <tbody>\n",
       "    <tr>\n",
       "      <td>count</td>\n",
       "      <td>16446.000000</td>\n",
       "      <td>16715.000000</td>\n",
       "      <td>16715.000000</td>\n",
       "      <td>16715.000000</td>\n",
       "      <td>16715.000000</td>\n",
       "      <td>8137.000000</td>\n",
       "    </tr>\n",
       "    <tr>\n",
       "      <td>mean</td>\n",
       "      <td>2006.484616</td>\n",
       "      <td>0.263377</td>\n",
       "      <td>0.145060</td>\n",
       "      <td>0.077617</td>\n",
       "      <td>0.047342</td>\n",
       "      <td>68.967679</td>\n",
       "    </tr>\n",
       "    <tr>\n",
       "      <td>std</td>\n",
       "      <td>5.877050</td>\n",
       "      <td>0.813604</td>\n",
       "      <td>0.503339</td>\n",
       "      <td>0.308853</td>\n",
       "      <td>0.186731</td>\n",
       "      <td>13.938165</td>\n",
       "    </tr>\n",
       "    <tr>\n",
       "      <td>min</td>\n",
       "      <td>1980.000000</td>\n",
       "      <td>0.000000</td>\n",
       "      <td>0.000000</td>\n",
       "      <td>0.000000</td>\n",
       "      <td>0.000000</td>\n",
       "      <td>13.000000</td>\n",
       "    </tr>\n",
       "    <tr>\n",
       "      <td>25%</td>\n",
       "      <td>2003.000000</td>\n",
       "      <td>0.000000</td>\n",
       "      <td>0.000000</td>\n",
       "      <td>0.000000</td>\n",
       "      <td>0.000000</td>\n",
       "      <td>60.000000</td>\n",
       "    </tr>\n",
       "    <tr>\n",
       "      <td>50%</td>\n",
       "      <td>2007.000000</td>\n",
       "      <td>0.080000</td>\n",
       "      <td>0.020000</td>\n",
       "      <td>0.000000</td>\n",
       "      <td>0.010000</td>\n",
       "      <td>71.000000</td>\n",
       "    </tr>\n",
       "    <tr>\n",
       "      <td>75%</td>\n",
       "      <td>2010.000000</td>\n",
       "      <td>0.240000</td>\n",
       "      <td>0.110000</td>\n",
       "      <td>0.040000</td>\n",
       "      <td>0.030000</td>\n",
       "      <td>79.000000</td>\n",
       "    </tr>\n",
       "    <tr>\n",
       "      <td>max</td>\n",
       "      <td>2016.000000</td>\n",
       "      <td>41.360000</td>\n",
       "      <td>28.960000</td>\n",
       "      <td>10.220000</td>\n",
       "      <td>10.570000</td>\n",
       "      <td>98.000000</td>\n",
       "    </tr>\n",
       "  </tbody>\n",
       "</table>\n",
       "</div>"
      ],
      "text/plain": [
       "       Year_of_Release      NA_sales      EU_sales      JP_sales  \\\n",
       "count     16446.000000  16715.000000  16715.000000  16715.000000   \n",
       "mean       2006.484616      0.263377      0.145060      0.077617   \n",
       "std           5.877050      0.813604      0.503339      0.308853   \n",
       "min        1980.000000      0.000000      0.000000      0.000000   \n",
       "25%        2003.000000      0.000000      0.000000      0.000000   \n",
       "50%        2007.000000      0.080000      0.020000      0.000000   \n",
       "75%        2010.000000      0.240000      0.110000      0.040000   \n",
       "max        2016.000000     41.360000     28.960000     10.220000   \n",
       "\n",
       "        Other_sales  Critic_Score  \n",
       "count  16715.000000   8137.000000  \n",
       "mean       0.047342     68.967679  \n",
       "std        0.186731     13.938165  \n",
       "min        0.000000     13.000000  \n",
       "25%        0.000000     60.000000  \n",
       "50%        0.010000     71.000000  \n",
       "75%        0.030000     79.000000  \n",
       "max       10.570000     98.000000  "
      ]
     },
     "execution_count": 6,
     "metadata": {},
     "output_type": "execute_result"
    }
   ],
   "source": [
    "games_data.describe()"
   ]
  },
  {
   "cell_type": "markdown",
   "metadata": {},
   "source": [
    "### Выводы к первому шагу\n",
    "\n",
    "В данном шаге был открыт датасет содержащий информацию о компьютерных играх: название, платформа на которой продавалась игра, дата выпуска, жанр, сумма продаж в зависимости от региона, оценка пользователей и критиков, а также возрастной рейтинг. Датасет состоит из 16 715 строк, преимущественно текстового типа и типа float, также видно что в датасете есть пропуски."
   ]
  },
  {
   "cell_type": "markdown",
   "metadata": {},
   "source": [
    "## Шаг 2. Подготовьте данные"
   ]
  },
  {
   "cell_type": "code",
   "execution_count": 7,
   "metadata": {},
   "outputs": [
    {
     "name": "stdout",
     "output_type": "stream",
     "text": [
      "Названия столбцов: Index(['Name', 'Platform', 'Year_of_Release', 'Genre', 'NA_sales', 'EU_sales',\n",
      "       'JP_sales', 'Other_sales', 'Critic_Score', 'User_Score', 'Rating'],\n",
      "      dtype='object')\n"
     ]
    }
   ],
   "source": [
    "print('Названия столбцов:', games_data.columns)"
   ]
  },
  {
   "cell_type": "code",
   "execution_count": 8,
   "metadata": {},
   "outputs": [],
   "source": [
    "# приводим названия столбцов к нижнему регистру\n",
    "games_data.set_axis(['name', 'platform', 'year_of_release', 'genre', 'na_sales', 'eu_sales', 'jp_sales',\n",
    "                     'other_sales', 'critic_score', 'user_score', 'rating'], axis = 'columns', inplace = True\n",
    "                   )"
   ]
  },
  {
   "cell_type": "code",
   "execution_count": 9,
   "metadata": {},
   "outputs": [
    {
     "data": {
      "text/html": [
       "<div>\n",
       "<style scoped>\n",
       "    .dataframe tbody tr th:only-of-type {\n",
       "        vertical-align: middle;\n",
       "    }\n",
       "\n",
       "    .dataframe tbody tr th {\n",
       "        vertical-align: top;\n",
       "    }\n",
       "\n",
       "    .dataframe thead th {\n",
       "        text-align: right;\n",
       "    }\n",
       "</style>\n",
       "<table border=\"1\" class=\"dataframe\">\n",
       "  <thead>\n",
       "    <tr style=\"text-align: right;\">\n",
       "      <th></th>\n",
       "      <th>name</th>\n",
       "      <th>platform</th>\n",
       "      <th>year_of_release</th>\n",
       "      <th>genre</th>\n",
       "      <th>na_sales</th>\n",
       "      <th>eu_sales</th>\n",
       "      <th>jp_sales</th>\n",
       "      <th>other_sales</th>\n",
       "      <th>critic_score</th>\n",
       "      <th>user_score</th>\n",
       "      <th>rating</th>\n",
       "    </tr>\n",
       "  </thead>\n",
       "  <tbody>\n",
       "    <tr>\n",
       "      <td>0</td>\n",
       "      <td>Wii Sports</td>\n",
       "      <td>Wii</td>\n",
       "      <td>2006.0</td>\n",
       "      <td>Sports</td>\n",
       "      <td>41.36</td>\n",
       "      <td>28.96</td>\n",
       "      <td>3.77</td>\n",
       "      <td>8.45</td>\n",
       "      <td>76.0</td>\n",
       "      <td>8</td>\n",
       "      <td>E</td>\n",
       "    </tr>\n",
       "    <tr>\n",
       "      <td>1</td>\n",
       "      <td>Super Mario Bros.</td>\n",
       "      <td>NES</td>\n",
       "      <td>1985.0</td>\n",
       "      <td>Platform</td>\n",
       "      <td>29.08</td>\n",
       "      <td>3.58</td>\n",
       "      <td>6.81</td>\n",
       "      <td>0.77</td>\n",
       "      <td>NaN</td>\n",
       "      <td>NaN</td>\n",
       "      <td>NaN</td>\n",
       "    </tr>\n",
       "    <tr>\n",
       "      <td>2</td>\n",
       "      <td>Mario Kart Wii</td>\n",
       "      <td>Wii</td>\n",
       "      <td>2008.0</td>\n",
       "      <td>Racing</td>\n",
       "      <td>15.68</td>\n",
       "      <td>12.76</td>\n",
       "      <td>3.79</td>\n",
       "      <td>3.29</td>\n",
       "      <td>82.0</td>\n",
       "      <td>8.3</td>\n",
       "      <td>E</td>\n",
       "    </tr>\n",
       "    <tr>\n",
       "      <td>3</td>\n",
       "      <td>Wii Sports Resort</td>\n",
       "      <td>Wii</td>\n",
       "      <td>2009.0</td>\n",
       "      <td>Sports</td>\n",
       "      <td>15.61</td>\n",
       "      <td>10.93</td>\n",
       "      <td>3.28</td>\n",
       "      <td>2.95</td>\n",
       "      <td>80.0</td>\n",
       "      <td>8</td>\n",
       "      <td>E</td>\n",
       "    </tr>\n",
       "    <tr>\n",
       "      <td>4</td>\n",
       "      <td>Pokemon Red/Pokemon Blue</td>\n",
       "      <td>GB</td>\n",
       "      <td>1996.0</td>\n",
       "      <td>Role-Playing</td>\n",
       "      <td>11.27</td>\n",
       "      <td>8.89</td>\n",
       "      <td>10.22</td>\n",
       "      <td>1.00</td>\n",
       "      <td>NaN</td>\n",
       "      <td>NaN</td>\n",
       "      <td>NaN</td>\n",
       "    </tr>\n",
       "  </tbody>\n",
       "</table>\n",
       "</div>"
      ],
      "text/plain": [
       "                       name platform  year_of_release         genre  na_sales  \\\n",
       "0                Wii Sports      Wii           2006.0        Sports     41.36   \n",
       "1         Super Mario Bros.      NES           1985.0      Platform     29.08   \n",
       "2            Mario Kart Wii      Wii           2008.0        Racing     15.68   \n",
       "3         Wii Sports Resort      Wii           2009.0        Sports     15.61   \n",
       "4  Pokemon Red/Pokemon Blue       GB           1996.0  Role-Playing     11.27   \n",
       "\n",
       "   eu_sales  jp_sales  other_sales  critic_score user_score rating  \n",
       "0     28.96      3.77         8.45          76.0          8      E  \n",
       "1      3.58      6.81         0.77           NaN        NaN    NaN  \n",
       "2     12.76      3.79         3.29          82.0        8.3      E  \n",
       "3     10.93      3.28         2.95          80.0          8      E  \n",
       "4      8.89     10.22         1.00           NaN        NaN    NaN  "
      ]
     },
     "execution_count": 9,
     "metadata": {},
     "output_type": "execute_result"
    }
   ],
   "source": [
    "games_data.head()"
   ]
  },
  {
   "cell_type": "code",
   "execution_count": 10,
   "metadata": {},
   "outputs": [
    {
     "data": {
      "text/plain": [
       "name                  2\n",
       "platform              0\n",
       "year_of_release     269\n",
       "genre                 2\n",
       "na_sales              0\n",
       "eu_sales              0\n",
       "jp_sales              0\n",
       "other_sales           0\n",
       "critic_score       8578\n",
       "user_score         6701\n",
       "rating             6766\n",
       "dtype: int64"
      ]
     },
     "execution_count": 10,
     "metadata": {},
     "output_type": "execute_result"
    }
   ],
   "source": [
    "games_data.isnull().sum()"
   ]
  },
  {
   "cell_type": "markdown",
   "metadata": {},
   "source": [
    "Удалим строки с пропусками в столбцах _genre_ и _name._ Таких строки всего 2, поэтому данное действие не понесёт критических изменений в датасете."
   ]
  },
  {
   "cell_type": "code",
   "execution_count": 11,
   "metadata": {},
   "outputs": [],
   "source": [
    "games_data = games_data.drop(games_data[(games_data['genre'].isnull() == True) & (games_data['name'].isnull() == True)].index).reset_index(drop = True)"
   ]
  },
  {
   "cell_type": "markdown",
   "metadata": {},
   "source": [
    "Пропуски в столбцах _critic_score_ и _user_score_ не трогаем, что бы они не исказили данные. Предполагаем что пропуски появились в тех местах, где нет оцнки критиков / пользователей, соответственно, например, игра не очень интересна."
   ]
  },
  {
   "cell_type": "code",
   "execution_count": 12,
   "metadata": {},
   "outputs": [],
   "source": [
    "games_data['user_score'] = games_data['user_score'].replace('tbd', 0)\n",
    "\n",
    "games_data['user_score'] = games_data['user_score'].astype('float')"
   ]
  },
  {
   "cell_type": "code",
   "execution_count": 13,
   "metadata": {},
   "outputs": [
    {
     "data": {
      "text/plain": [
       "13.0"
      ]
     },
     "execution_count": 13,
     "metadata": {},
     "output_type": "execute_result"
    }
   ],
   "source": [
    "games_data['critic_score'].min()"
   ]
  },
  {
   "cell_type": "code",
   "execution_count": 14,
   "metadata": {},
   "outputs": [
    {
     "data": {
      "text/plain": [
       "0.0"
      ]
     },
     "execution_count": 14,
     "metadata": {},
     "output_type": "execute_result"
    }
   ],
   "source": [
    "games_data['user_score'].min()"
   ]
  },
  {
   "cell_type": "markdown",
   "metadata": {},
   "source": [
    "Значение **K-A** столбца _rating_ заменим на **E** , т. к. **K-A** устаревшее обозначение."
   ]
  },
  {
   "cell_type": "code",
   "execution_count": 17,
   "metadata": {},
   "outputs": [
    {
     "name": "stdout",
     "output_type": "stream",
     "text": [
      "['E' nan 'M' 'T' 'E10+' 'K-A' 'AO' 'EC' 'RP']\n"
     ]
    }
   ],
   "source": [
    "print( games_data['rating'].unique())"
   ]
  },
  {
   "cell_type": "code",
   "execution_count": 18,
   "metadata": {},
   "outputs": [],
   "source": [
    "games_data['rating'] = games_data['rating'].replace('K-A', 'E')"
   ]
  },
  {
   "cell_type": "code",
   "execution_count": 19,
   "metadata": {},
   "outputs": [
    {
     "name": "stdout",
     "output_type": "stream",
     "text": [
      "<class 'pandas.core.frame.DataFrame'>\n",
      "RangeIndex: 16713 entries, 0 to 16712\n",
      "Data columns (total 11 columns):\n",
      "name               16713 non-null object\n",
      "platform           16713 non-null object\n",
      "year_of_release    16444 non-null float64\n",
      "genre              16713 non-null object\n",
      "na_sales           16713 non-null float64\n",
      "eu_sales           16713 non-null float64\n",
      "jp_sales           16713 non-null float64\n",
      "other_sales        16713 non-null float64\n",
      "critic_score       8137 non-null float64\n",
      "user_score         10014 non-null float64\n",
      "rating             9949 non-null object\n",
      "dtypes: float64(7), object(4)\n",
      "memory usage: 1.4+ MB\n"
     ]
    }
   ],
   "source": [
    "games_data.info()"
   ]
  },
  {
   "cell_type": "code",
   "execution_count": 20,
   "metadata": {},
   "outputs": [
    {
     "name": "stdout",
     "output_type": "stream",
     "text": [
      "Всего игр, без указания года: 1.61%\n"
     ]
    }
   ],
   "source": [
    "print('Всего игр, без указания года: {:.2%}'.format(games_data['year_of_release'].isnull().sum() / len(games_data)))"
   ]
  },
  {
   "cell_type": "code",
   "execution_count": 22,
   "metadata": {},
   "outputs": [],
   "source": [
    "games_data['summ_sales'] = games_data['na_sales'] + games_data['eu_sales'] + games_data['jp_sales'] + games_data['other_sales']"
   ]
  },
  {
   "cell_type": "code",
   "execution_count": 23,
   "metadata": {},
   "outputs": [
    {
     "name": "stdout",
     "output_type": "stream",
     "text": [
      "Число дубликатов в датасете: 0\n"
     ]
    }
   ],
   "source": [
    "# проверим датаест на дубдикаты\n",
    "\n",
    "print('Число дубликатов в датасете:', games_data.duplicated().sum())"
   ]
  },
  {
   "cell_type": "markdown",
   "metadata": {},
   "source": [
    "### Выводы ко второму шагу\n",
    "\n",
    "Во втором шаге были переименованы, согласно заданию, столбцы (приведены к нижнему регистру). Удалены строки с пропусками в столбцах _genre_ и _name,_ т. к. всего таких сроки - 2 штуки. Пропуски в столбцах _critic_score_ и _user_score_ не трогал, что бы не искажать данные. Значение _K-A_ столбца _rating_ заменили на _E,_ т. к. _K-A_ устаревшее обозначение. Игр, без указания года оказалось 1.61%, трогать их не будем, т. к. в итоге рассматриваем игры за конкретный период. Столбуц _critic_score_ привел к целочисленному типу. В столбце _user_score_ значения **tbd** _(предстоит определить)_ заменил на _0,_ т. к. данные игры ещё не были оценены. Пропусков в датасете не найдено. И в заключении была вычеслены общая сумма продаж по всем регионам."
   ]
  },
  {
   "cell_type": "markdown",
   "metadata": {},
   "source": [
    "## Шаг 3. Проведите исследовательский анализ данных"
   ]
  },
  {
   "cell_type": "code",
   "execution_count": 24,
   "metadata": {},
   "outputs": [
    {
     "data": {
      "text/plain": [
       "<matplotlib.axes._subplots.AxesSubplot at 0x7f4544b837d0>"
      ]
     },
     "execution_count": 24,
     "metadata": {},
     "output_type": "execute_result"
    },
    {
     "data": {
      "image/png": "[encoded data removed]",
      "text/plain": [
       "<Figure size 432x288 with 1 Axes>"
      ]
     },
     "metadata": {
      "needs_background": "light"
     },
     "output_type": "display_data"
    }
   ],
   "source": [
    "#games_data['year_of_release'].hist(bins = 36, range = (1980, 2016))\n",
    "\n",
    "games_data['year_of_release'].hist(bins = 37)"
   ]
  },
  {
   "cell_type": "code",
   "execution_count": 25,
   "metadata": {},
   "outputs": [],
   "source": [
    "# выделим ТОП-5 платформ\n",
    "games_data_platform_top = games_data.pivot_table(index = 'platform', values = 'summ_sales', aggfunc = 'sum')"
   ]
  },
  {
   "cell_type": "code",
   "execution_count": 26,
   "metadata": {},
   "outputs": [
    {
     "data": {
      "text/html": [
       "<div>\n",
       "<style scoped>\n",
       "    .dataframe tbody tr th:only-of-type {\n",
       "        vertical-align: middle;\n",
       "    }\n",
       "\n",
       "    .dataframe tbody tr th {\n",
       "        vertical-align: top;\n",
       "    }\n",
       "\n",
       "    .dataframe thead th {\n",
       "        text-align: right;\n",
       "    }\n",
       "</style>\n",
       "<table border=\"1\" class=\"dataframe\">\n",
       "  <thead>\n",
       "    <tr style=\"text-align: right;\">\n",
       "      <th></th>\n",
       "      <th>summ_sales</th>\n",
       "    </tr>\n",
       "    <tr>\n",
       "      <th>platform</th>\n",
       "      <th></th>\n",
       "    </tr>\n",
       "  </thead>\n",
       "  <tbody>\n",
       "    <tr>\n",
       "      <td>PS2</td>\n",
       "      <td>1255.77</td>\n",
       "    </tr>\n",
       "    <tr>\n",
       "      <td>X360</td>\n",
       "      <td>971.42</td>\n",
       "    </tr>\n",
       "    <tr>\n",
       "      <td>PS3</td>\n",
       "      <td>939.65</td>\n",
       "    </tr>\n",
       "    <tr>\n",
       "      <td>Wii</td>\n",
       "      <td>907.51</td>\n",
       "    </tr>\n",
       "    <tr>\n",
       "      <td>DS</td>\n",
       "      <td>806.12</td>\n",
       "    </tr>\n",
       "  </tbody>\n",
       "</table>\n",
       "</div>"
      ],
      "text/plain": [
       "          summ_sales\n",
       "platform            \n",
       "PS2          1255.77\n",
       "X360          971.42\n",
       "PS3           939.65\n",
       "Wii           907.51\n",
       "DS            806.12"
      ]
     },
     "execution_count": 26,
     "metadata": {},
     "output_type": "execute_result"
    }
   ],
   "source": [
    "# отсортируем по убыванию\n",
    "games_data_platform_top.sort_values(by = 'summ_sales', ascending = False).head()"
   ]
  },
  {
   "cell_type": "code",
   "execution_count": 27,
   "metadata": {},
   "outputs": [
    {
     "data": {
      "image/png": "[encoded data removed]",
      "text/plain": [
       "<Figure size 1080x504 with 1 Axes>"
      ]
     },
     "metadata": {
      "needs_background": "light"
     },
     "output_type": "display_data"
    },
    {
     "data": {
      "image/png": "[encoded data removed]",
      "text/plain": [
       "<Figure size 1080x504 with 1 Axes>"
      ]
     },
     "metadata": {
      "needs_background": "light"
     },
     "output_type": "display_data"
    },
    {
     "data": {
      "image/png": "[encoded data removed]",
      "text/plain": [
       "<Figure size 1080x504 with 1 Axes>"
      ]
     },
     "metadata": {
      "needs_background": "light"
     },
     "output_type": "display_data"
    },
    {
     "data": {
      "image/png": "[encoded data removed]",
      "text/plain": [
       "<Figure size 1080x504 with 1 Axes>"
      ]
     },
     "metadata": {
      "needs_background": "light"
     },
     "output_type": "display_data"
    },
    {
     "data": {
      "image/png": "[encoded data removed]",
      "text/plain": [
       "<Figure size 1080x504 with 1 Axes>"
      ]
     },
     "metadata": {
      "needs_background": "light"
     },
     "output_type": "display_data"
    }
   ],
   "source": [
    "top_platform = ['PS2', 'X360', 'PS3', 'Wii', 'DS']\n",
    "games_data_platform_year = games_data.pivot_table(index = ['platform', 'year_of_release'], values = 'summ_sales', aggfunc = 'sum')\n",
    "\n",
    "for platform in top_platform:\n",
    "    games_data_platform_year_for = games_data_platform_year.query('platform == @platform')\n",
    "    games_data_platform_year_for.plot(y = 'summ_sales', label = platform, grid = True, figsize=(15, 7))\n",
    "    plt.title('График зависимоти общей выручки платформы ' + platform + ' от года')\n",
    "    plt.xlabel('Платформа')\n",
    "    plt.ylabel('Общая выручка')"
   ]
  },
  {
   "cell_type": "markdown",
   "metadata": {},
   "source": [
    "Из графиков делаем следующие выводы:\n",
    "* пик продаж игр платформы PS2 приходится на 2001 - 2006 годы\n",
    "* пик продаж игр платформы Х360 приходится на 2007 - 2013 годы\n",
    "* пик продаж игр платформы PS3 приходится на 2007 - 2014 годы\n",
    "* пик продаж игр платформы Wii приходится на 2006 - 2011 годы\n",
    "* пик продаж игр платформы DS приходится на 2005 - 2010 годы"
   ]
  },
  {
   "cell_type": "markdown",
   "metadata": {},
   "source": [
    "Выбираем период 2013 - 2015, т. к. данных за 2016 год нет, отрезок 2013 - 2015 г. является наиболее актуальным (выбрали полупериод, с учётом того что платнормы развиваются)."
   ]
  },
  {
   "cell_type": "code",
   "execution_count": 28,
   "metadata": {},
   "outputs": [],
   "source": [
    "games_data_current_period = games_data.query('(year_of_release >= 2013) & (year_of_release <= 2015)')"
   ]
  },
  {
   "cell_type": "code",
   "execution_count": 29,
   "metadata": {},
   "outputs": [],
   "source": [
    "# выделим ТОП-5 платформ\n",
    "games_data_platform_top_period = games_data_current_period.pivot_table(index = 'platform', values = 'summ_sales', aggfunc = 'sum')"
   ]
  },
  {
   "cell_type": "code",
   "execution_count": 30,
   "metadata": {},
   "outputs": [
    {
     "data": {
      "text/html": [
       "<div>\n",
       "<style scoped>\n",
       "    .dataframe tbody tr th:only-of-type {\n",
       "        vertical-align: middle;\n",
       "    }\n",
       "\n",
       "    .dataframe tbody tr th {\n",
       "        vertical-align: top;\n",
       "    }\n",
       "\n",
       "    .dataframe thead th {\n",
       "        text-align: right;\n",
       "    }\n",
       "</style>\n",
       "<table border=\"1\" class=\"dataframe\">\n",
       "  <thead>\n",
       "    <tr style=\"text-align: right;\">\n",
       "      <th></th>\n",
       "      <th>summ_sales</th>\n",
       "    </tr>\n",
       "    <tr>\n",
       "      <th>platform</th>\n",
       "      <th></th>\n",
       "    </tr>\n",
       "  </thead>\n",
       "  <tbody>\n",
       "    <tr>\n",
       "      <td>PS4</td>\n",
       "      <td>244.89</td>\n",
       "    </tr>\n",
       "    <tr>\n",
       "      <td>PS3</td>\n",
       "      <td>177.83</td>\n",
       "    </tr>\n",
       "    <tr>\n",
       "      <td>X360</td>\n",
       "      <td>135.28</td>\n",
       "    </tr>\n",
       "    <tr>\n",
       "      <td>XOne</td>\n",
       "      <td>133.17</td>\n",
       "    </tr>\n",
       "    <tr>\n",
       "      <td>3DS</td>\n",
       "      <td>128.11</td>\n",
       "    </tr>\n",
       "    <tr>\n",
       "      <td>WiiU</td>\n",
       "      <td>60.03</td>\n",
       "    </tr>\n",
       "    <tr>\n",
       "      <td>PC</td>\n",
       "      <td>34.18</td>\n",
       "    </tr>\n",
       "    <tr>\n",
       "      <td>PSV</td>\n",
       "      <td>28.74</td>\n",
       "    </tr>\n",
       "  </tbody>\n",
       "</table>\n",
       "</div>"
      ],
      "text/plain": [
       "          summ_sales\n",
       "platform            \n",
       "PS4           244.89\n",
       "PS3           177.83\n",
       "X360          135.28\n",
       "XOne          133.17\n",
       "3DS           128.11\n",
       "WiiU           60.03\n",
       "PC             34.18\n",
       "PSV            28.74"
      ]
     },
     "execution_count": 30,
     "metadata": {},
     "output_type": "execute_result"
    }
   ],
   "source": [
    "games_data_platform_top_period.sort_values(by = 'summ_sales', ascending = False).head(8)"
   ]
  },
  {
   "cell_type": "code",
   "execution_count": 31,
   "metadata": {},
   "outputs": [
    {
     "data": {
      "image/png": "[encoded data removed]",
      "text/plain": [
       "<Figure size 1080x504 with 1 Axes>"
      ]
     },
     "metadata": {
      "needs_background": "light"
     },
     "output_type": "display_data"
    }
   ],
   "source": [
    "plt.figure(figsize=(15,7))\n",
    "sns.boxplot(data=games_data_current_period, x='summ_sales',y='platform', width=0.5,palette='GnBu_d')\n",
    "plt.xlim(0, 1.5)\n",
    "plt.title('Ящик с усами платформ и их суммарных продаж')\n",
    "plt.xlabel('Суммарные продажи, млн.')\n",
    "plt.ylabel('Платформа')\n",
    "plt.show()"
   ]
  },
  {
   "cell_type": "markdown",
   "metadata": {},
   "source": [
    "Из диаграммы размаха можно сделать следующие выводы:\n",
    "* большая часть проданных игр платформы PS4 лежит в диапазоне: 0,1 - 1,1 миллионов, медиана лежит на уровне 0,3 миллионов\n",
    "* большая часть проданных игр платформы PS3 лежит в диапазоне: 0,05 - 0,57 миллионов, медиана лежит на уровне 0,2 миллионов\n",
    "* большая часть проданных игр платформы X360 лежит в диапазоне: 0,1 - 0,9 миллионов, медиана лежит на уровне 0,3 миллионов\n",
    "* большая часть проданных игр платформы XOne лежит в диапазоне: 0,15 - 1,15 миллионов, медиана лежит на уровне 0,35 миллионов\n",
    "* большая часть проданных игр платформы 3DS лежит в диапазоне: 0,04 - 0,3 миллионов, медиана лежит на уровне 0,1 миллионов\n",
    "\n",
    "* большая часть проданных игр платформы WiiU лежит в диапазоне: 0,05 - 0,6 миллионов, медиана лежит на уровне 0,2 миллионов\n",
    "* большая часть проданных игр платформы PC лежит в диапазоне: 0,02 - 0,28 миллионов, медиана лежит на уровне 0,1 миллионов\n",
    "* большая часть проданных игр платформы PSV лежит в диапазоне: 0,01 - 0,13 миллионов, медиана лежит на уровне 0,05 миллионов"
   ]
  },
  {
   "cell_type": "code",
   "execution_count": 32,
   "metadata": {},
   "outputs": [],
   "source": [
    "games_data_current_period_PS4 = games_data_current_period.query('platform == \"PS4\"')"
   ]
  },
  {
   "cell_type": "code",
   "execution_count": 33,
   "metadata": {},
   "outputs": [
    {
     "data": {
      "text/html": [
       "<div>\n",
       "<style scoped>\n",
       "    .dataframe tbody tr th:only-of-type {\n",
       "        vertical-align: middle;\n",
       "    }\n",
       "\n",
       "    .dataframe tbody tr th {\n",
       "        vertical-align: top;\n",
       "    }\n",
       "\n",
       "    .dataframe thead th {\n",
       "        text-align: right;\n",
       "    }\n",
       "</style>\n",
       "<table border=\"1\" class=\"dataframe\">\n",
       "  <thead>\n",
       "    <tr style=\"text-align: right;\">\n",
       "      <th></th>\n",
       "      <th>name</th>\n",
       "      <th>platform</th>\n",
       "      <th>year_of_release</th>\n",
       "      <th>genre</th>\n",
       "      <th>na_sales</th>\n",
       "      <th>eu_sales</th>\n",
       "      <th>jp_sales</th>\n",
       "      <th>other_sales</th>\n",
       "      <th>critic_score</th>\n",
       "      <th>user_score</th>\n",
       "      <th>rating</th>\n",
       "      <th>summ_sales</th>\n",
       "    </tr>\n",
       "  </thead>\n",
       "  <tbody>\n",
       "    <tr>\n",
       "      <td>31</td>\n",
       "      <td>Call of Duty: Black Ops 3</td>\n",
       "      <td>PS4</td>\n",
       "      <td>2015.0</td>\n",
       "      <td>Shooter</td>\n",
       "      <td>6.03</td>\n",
       "      <td>5.86</td>\n",
       "      <td>0.36</td>\n",
       "      <td>2.38</td>\n",
       "      <td>NaN</td>\n",
       "      <td>NaN</td>\n",
       "      <td>NaN</td>\n",
       "      <td>14.63</td>\n",
       "    </tr>\n",
       "    <tr>\n",
       "      <td>42</td>\n",
       "      <td>Grand Theft Auto V</td>\n",
       "      <td>PS4</td>\n",
       "      <td>2014.0</td>\n",
       "      <td>Action</td>\n",
       "      <td>3.96</td>\n",
       "      <td>6.31</td>\n",
       "      <td>0.38</td>\n",
       "      <td>1.97</td>\n",
       "      <td>97.0</td>\n",
       "      <td>8.3</td>\n",
       "      <td>M</td>\n",
       "      <td>12.62</td>\n",
       "    </tr>\n",
       "    <tr>\n",
       "      <td>77</td>\n",
       "      <td>FIFA 16</td>\n",
       "      <td>PS4</td>\n",
       "      <td>2015.0</td>\n",
       "      <td>Sports</td>\n",
       "      <td>1.12</td>\n",
       "      <td>6.12</td>\n",
       "      <td>0.06</td>\n",
       "      <td>1.28</td>\n",
       "      <td>82.0</td>\n",
       "      <td>4.3</td>\n",
       "      <td>E</td>\n",
       "      <td>8.58</td>\n",
       "    </tr>\n",
       "    <tr>\n",
       "      <td>87</td>\n",
       "      <td>Star Wars Battlefront (2015)</td>\n",
       "      <td>PS4</td>\n",
       "      <td>2015.0</td>\n",
       "      <td>Shooter</td>\n",
       "      <td>2.99</td>\n",
       "      <td>3.49</td>\n",
       "      <td>0.22</td>\n",
       "      <td>1.28</td>\n",
       "      <td>NaN</td>\n",
       "      <td>NaN</td>\n",
       "      <td>NaN</td>\n",
       "      <td>7.98</td>\n",
       "    </tr>\n",
       "    <tr>\n",
       "      <td>92</td>\n",
       "      <td>Call of Duty: Advanced Warfare</td>\n",
       "      <td>PS4</td>\n",
       "      <td>2014.0</td>\n",
       "      <td>Shooter</td>\n",
       "      <td>2.81</td>\n",
       "      <td>3.48</td>\n",
       "      <td>0.14</td>\n",
       "      <td>1.23</td>\n",
       "      <td>83.0</td>\n",
       "      <td>5.7</td>\n",
       "      <td>M</td>\n",
       "      <td>7.66</td>\n",
       "    </tr>\n",
       "  </tbody>\n",
       "</table>\n",
       "</div>"
      ],
      "text/plain": [
       "                              name platform  year_of_release    genre  \\\n",
       "31       Call of Duty: Black Ops 3      PS4           2015.0  Shooter   \n",
       "42              Grand Theft Auto V      PS4           2014.0   Action   \n",
       "77                         FIFA 16      PS4           2015.0   Sports   \n",
       "87    Star Wars Battlefront (2015)      PS4           2015.0  Shooter   \n",
       "92  Call of Duty: Advanced Warfare      PS4           2014.0  Shooter   \n",
       "\n",
       "    na_sales  eu_sales  jp_sales  other_sales  critic_score  user_score  \\\n",
       "31      6.03      5.86      0.36         2.38           NaN         NaN   \n",
       "42      3.96      6.31      0.38         1.97          97.0         8.3   \n",
       "77      1.12      6.12      0.06         1.28          82.0         4.3   \n",
       "87      2.99      3.49      0.22         1.28           NaN         NaN   \n",
       "92      2.81      3.48      0.14         1.23          83.0         5.7   \n",
       "\n",
       "   rating  summ_sales  \n",
       "31    NaN       14.63  \n",
       "42      M       12.62  \n",
       "77      E        8.58  \n",
       "87    NaN        7.98  \n",
       "92      M        7.66  "
      ]
     },
     "execution_count": 33,
     "metadata": {},
     "output_type": "execute_result"
    }
   ],
   "source": [
    "games_data_current_period_PS4.head()"
   ]
  },
  {
   "cell_type": "code",
   "execution_count": 34,
   "metadata": {},
   "outputs": [
    {
     "data": {
      "image/png": "[encoded data removed]",
      "text/plain": [
       "<Figure size 864x432 with 1 Axes>"
      ]
     },
     "metadata": {
      "needs_background": "light"
     },
     "output_type": "display_data"
    }
   ],
   "source": [
    "games_data_current_period_PS4.plot(x = 'critic_score', y = 'summ_sales', kind = 'scatter', alpha = .7, figsize=(12, 6))\n",
    "plt.title('График зависимоти оценки критиков от общей выручки платформы PS4')\n",
    "plt.xlabel('Оценка критиков')\n",
    "plt.ylabel('Общая выручка')\n",
    "plt.show()"
   ]
  },
  {
   "cell_type": "code",
   "execution_count": 35,
   "metadata": {},
   "outputs": [
    {
     "data": {
      "image/png": "[encoded data removed]",
      "text/plain": [
       "<Figure size 864x432 with 1 Axes>"
      ]
     },
     "metadata": {
      "needs_background": "light"
     },
     "output_type": "display_data"
    }
   ],
   "source": [
    "games_data_current_period_PS4.plot(x = 'user_score', y = 'summ_sales', kind = 'scatter', alpha = .7, figsize=(12, 6))\n",
    "plt.title('График зависимоти оценки пользователей от общей выручки платформы PS4')\n",
    "plt.xlabel('Оценка пользователей')\n",
    "plt.ylabel('Общая выручка')\n",
    "plt.show()"
   ]
  },
  {
   "cell_type": "code",
   "execution_count": 36,
   "metadata": {},
   "outputs": [
    {
     "name": "stdout",
     "output_type": "stream",
     "text": [
      "Коэффициент корреляции между отзывами критиков и суммарными продажами: 0.4318482049982005\n"
     ]
    }
   ],
   "source": [
    "print('Коэффициент корреляции между отзывами критиков и суммарными продажами:', games_data_current_period_PS4['critic_score'].corr(games_data_current_period_PS4['summ_sales']))"
   ]
  },
  {
   "cell_type": "code",
   "execution_count": 37,
   "metadata": {},
   "outputs": [
    {
     "name": "stdout",
     "output_type": "stream",
     "text": [
      "Коэффициент корреляции между отзывами пользователей и суммарными продажами: 0.04030786276228141\n"
     ]
    }
   ],
   "source": [
    "print('Коэффициент корреляции между отзывами пользователей и суммарными продажами:', games_data_current_period_PS4['user_score'].corr(games_data_current_period_PS4['summ_sales']))"
   ]
  },
  {
   "cell_type": "markdown",
   "metadata": {},
   "source": [
    "Из графика зависимоти оценки критиков от общей выручки платформы PS4 можно сделать вывод о том, что чем выше оценка критиков, тем выше продажи игры. Оценки от 60 - 70 баллов уже достаточно неплохо влияют на количество проданых игр. Из графика зависимоти оценки пользователей от общей выручки платформы PS4 можно сделать вывод о том, что чем выше оценка пользователей, тем выше продажи игры. С помощью коэфициента корреляции делаем вывод, что в целом эта зависимость положительная, связь относится к категории слабой. Также примечателен тот факт, что оценка критиков влияет практически также на продажи игры, как и оценка пользователей."
   ]
  },
  {
   "cell_type": "code",
   "execution_count": 38,
   "metadata": {},
   "outputs": [],
   "source": [
    "games_data_current_period_X360 = games_data_current_period.query('platform == \"X360\"')"
   ]
  },
  {
   "cell_type": "code",
   "execution_count": 39,
   "metadata": {},
   "outputs": [
    {
     "data": {
      "image/png": "[encoded data removed]",
      "text/plain": [
       "<Figure size 864x432 with 1 Axes>"
      ]
     },
     "metadata": {
      "needs_background": "light"
     },
     "output_type": "display_data"
    }
   ],
   "source": [
    "games_data_current_period_X360.plot(x = 'critic_score', y = 'summ_sales', kind = 'scatter', alpha = .7, figsize=(12, 6))\n",
    "plt.title('График зависимоти оценки критиков от общей выручки платформы X360')\n",
    "plt.xlabel('Оценка критиков')\n",
    "plt.ylabel('Общая выручка')\n",
    "plt.show()"
   ]
  },
  {
   "cell_type": "code",
   "execution_count": 40,
   "metadata": {},
   "outputs": [
    {
     "data": {
      "image/png": "[encoded data removed]",
      "text/plain": [
       "<Figure size 864x432 with 1 Axes>"
      ]
     },
     "metadata": {
      "needs_background": "light"
     },
     "output_type": "display_data"
    }
   ],
   "source": [
    "games_data_current_period_X360.plot(x = 'user_score', y = 'summ_sales', kind = 'scatter', alpha = .7, figsize=(12, 6))\n",
    "plt.title('График зависимоти оценки пользователей от общей выручки платформы X360')\n",
    "plt.xlabel('Оценка пользователей')\n",
    "plt.ylabel('Общая выручка')\n",
    "plt.show()"
   ]
  },
  {
   "cell_type": "code",
   "execution_count": 41,
   "metadata": {},
   "outputs": [
    {
     "name": "stdout",
     "output_type": "stream",
     "text": [
      "Коэффициент корреляции между отзывами критиков и суммарными продажами: 0.3503445460228664\n"
     ]
    }
   ],
   "source": [
    "print('Коэффициент корреляции между отзывами критиков и суммарными продажами:', games_data_current_period_X360['critic_score'].corr(games_data_current_period_X360['summ_sales']))"
   ]
  },
  {
   "cell_type": "code",
   "execution_count": 42,
   "metadata": {},
   "outputs": [
    {
     "name": "stdout",
     "output_type": "stream",
     "text": [
      "Коэффициент корреляции между отзывами пользователей и суммарными продажами: 0.013301715998654281\n"
     ]
    }
   ],
   "source": [
    "print('Коэффициент корреляции между отзывами пользователей и суммарными продажами:', games_data_current_period_X360['user_score'].corr(games_data_current_period_X360['summ_sales']))"
   ]
  },
  {
   "cell_type": "markdown",
   "metadata": {},
   "source": [
    "Из графика зависимоти оценки критиков от общей выручки платформы X360 можно сделать вывод о том, что чем выше оценка критиков, тем выше продажи игры. Оценки от 70 - 80 баллов влияют на количество проданых игр. Из графика зависимоти оценки пользователей от общей выручки платформы X360 можно сделать вывод о том, что чем выше оценка пользователей, тем выше продажи игры. Однако с помощью коэфициента корреляции делаем вывод, что в целом эта зависимость хоть и положительная, но не сильно большая. Также примечателен тот факт, что оценка пользователей практически не влияет на продажи игры.\n",
    "\n",
    "Также сравнивая с показателями платформы PS4 делаем вывод что показатели платформы X360 менее явные."
   ]
  },
  {
   "cell_type": "code",
   "execution_count": 43,
   "metadata": {},
   "outputs": [],
   "source": [
    "games_data_current_period_3DS = games_data_current_period.query('platform == \"3DS\"')"
   ]
  },
  {
   "cell_type": "code",
   "execution_count": 44,
   "metadata": {},
   "outputs": [
    {
     "data": {
      "image/png": "[encoded data removed]",
      "text/plain": [
       "<Figure size 864x432 with 1 Axes>"
      ]
     },
     "metadata": {
      "needs_background": "light"
     },
     "output_type": "display_data"
    }
   ],
   "source": [
    "games_data_current_period_3DS.plot(x = 'critic_score', y = 'summ_sales', kind = 'scatter', alpha = .7, figsize=(12, 6))\n",
    "plt.title('График зависимоти оценки критиков от общей выручки платформы 3DS')\n",
    "plt.xlabel('Оценка критиков')\n",
    "plt.ylabel('Общая выручка')\n",
    "plt.show()"
   ]
  },
  {
   "cell_type": "code",
   "execution_count": 45,
   "metadata": {},
   "outputs": [
    {
     "data": {
      "image/png": "[encoded data removed]",
      "text/plain": [
       "<Figure size 864x432 with 1 Axes>"
      ]
     },
     "metadata": {
      "needs_background": "light"
     },
     "output_type": "display_data"
    }
   ],
   "source": [
    "games_data_current_period_3DS.plot(x = 'user_score', y = 'summ_sales', kind = 'scatter', alpha = .7, figsize=(12, 6))\n",
    "plt.title('График зависимоти оценки пользователей от общей выручки платформы 3DS')\n",
    "plt.xlabel('Оценка пользователей')\n",
    "plt.ylabel('Общая выручка')\n",
    "plt.show()"
   ]
  },
  {
   "cell_type": "code",
   "execution_count": 46,
   "metadata": {},
   "outputs": [
    {
     "name": "stdout",
     "output_type": "stream",
     "text": [
      "Коэффициент корреляции между отзывами критиков и суммарными продажами: 0.38432600457452254\n"
     ]
    }
   ],
   "source": [
    "print('Коэффициент корреляции между отзывами критиков и суммарными продажами:', games_data_current_period_3DS['critic_score'].corr(games_data_current_period_3DS['summ_sales']))"
   ]
  },
  {
   "cell_type": "code",
   "execution_count": 47,
   "metadata": {},
   "outputs": [
    {
     "name": "stdout",
     "output_type": "stream",
     "text": [
      "Коэффициент корреляции между отзывами пользователей и суммарными продажами: 0.36136335769207606\n"
     ]
    }
   ],
   "source": [
    "print('Коэффициент корреляции между отзывами пользователей и суммарными продажами:', games_data_current_period_3DS['user_score'].corr(games_data_current_period_3DS['summ_sales']))"
   ]
  },
  {
   "cell_type": "markdown",
   "metadata": {},
   "source": [
    "Из графика зависимоти оценки критиков от общей выручки платформы 3DS можно сделать вывод о том, что чем выше оценка критиков, тем выше продажи игры. Из графика зависимоти оценки пользователей от общей выручки платформы 3DS можно сделать вывод о том, что чем выше оценка пользователей, тем выше продажи игры. Однако с помощью коэфициента корреляции делаем вывод, что в целом эта зависимость хоть и положительная, но не сильно большая, относится к категории слабой связи. Также примечателен тот факт, что оценка критиков практически в равной степени влияет на продажи игры, как и оценка пользователей.\n",
    "\n",
    "Примечателен тот факт, что у популярной платнофмы PS4 связь между оценками польхователей и критиков сильнее чем у платформы 3DS. Но при этом критики и пользователи в равной степени влияют на продажи."
   ]
  },
  {
   "cell_type": "code",
   "execution_count": 48,
   "metadata": {},
   "outputs": [
    {
     "data": {
      "text/html": [
       "<div>\n",
       "<style scoped>\n",
       "    .dataframe tbody tr th:only-of-type {\n",
       "        vertical-align: middle;\n",
       "    }\n",
       "\n",
       "    .dataframe tbody tr th {\n",
       "        vertical-align: top;\n",
       "    }\n",
       "\n",
       "    .dataframe thead th {\n",
       "        text-align: right;\n",
       "    }\n",
       "</style>\n",
       "<table border=\"1\" class=\"dataframe\">\n",
       "  <thead>\n",
       "    <tr style=\"text-align: right;\">\n",
       "      <th></th>\n",
       "      <th>name</th>\n",
       "      <th>platform</th>\n",
       "      <th>year_of_release</th>\n",
       "      <th>genre</th>\n",
       "      <th>na_sales</th>\n",
       "      <th>eu_sales</th>\n",
       "      <th>jp_sales</th>\n",
       "      <th>other_sales</th>\n",
       "      <th>critic_score</th>\n",
       "      <th>user_score</th>\n",
       "      <th>rating</th>\n",
       "      <th>summ_sales</th>\n",
       "    </tr>\n",
       "  </thead>\n",
       "  <tbody>\n",
       "    <tr>\n",
       "      <td>16</td>\n",
       "      <td>Grand Theft Auto V</td>\n",
       "      <td>PS3</td>\n",
       "      <td>2013.0</td>\n",
       "      <td>Action</td>\n",
       "      <td>7.02</td>\n",
       "      <td>9.09</td>\n",
       "      <td>0.98</td>\n",
       "      <td>3.96</td>\n",
       "      <td>97.0</td>\n",
       "      <td>8.2</td>\n",
       "      <td>M</td>\n",
       "      <td>21.05</td>\n",
       "    </tr>\n",
       "    <tr>\n",
       "      <td>23</td>\n",
       "      <td>Grand Theft Auto V</td>\n",
       "      <td>X360</td>\n",
       "      <td>2013.0</td>\n",
       "      <td>Action</td>\n",
       "      <td>9.66</td>\n",
       "      <td>5.14</td>\n",
       "      <td>0.06</td>\n",
       "      <td>1.41</td>\n",
       "      <td>97.0</td>\n",
       "      <td>8.1</td>\n",
       "      <td>M</td>\n",
       "      <td>16.27</td>\n",
       "    </tr>\n",
       "    <tr>\n",
       "      <td>31</td>\n",
       "      <td>Call of Duty: Black Ops 3</td>\n",
       "      <td>PS4</td>\n",
       "      <td>2015.0</td>\n",
       "      <td>Shooter</td>\n",
       "      <td>6.03</td>\n",
       "      <td>5.86</td>\n",
       "      <td>0.36</td>\n",
       "      <td>2.38</td>\n",
       "      <td>NaN</td>\n",
       "      <td>NaN</td>\n",
       "      <td>NaN</td>\n",
       "      <td>14.63</td>\n",
       "    </tr>\n",
       "    <tr>\n",
       "      <td>33</td>\n",
       "      <td>Pokemon X/Pokemon Y</td>\n",
       "      <td>3DS</td>\n",
       "      <td>2013.0</td>\n",
       "      <td>Role-Playing</td>\n",
       "      <td>5.28</td>\n",
       "      <td>4.19</td>\n",
       "      <td>4.35</td>\n",
       "      <td>0.78</td>\n",
       "      <td>NaN</td>\n",
       "      <td>NaN</td>\n",
       "      <td>NaN</td>\n",
       "      <td>14.60</td>\n",
       "    </tr>\n",
       "    <tr>\n",
       "      <td>42</td>\n",
       "      <td>Grand Theft Auto V</td>\n",
       "      <td>PS4</td>\n",
       "      <td>2014.0</td>\n",
       "      <td>Action</td>\n",
       "      <td>3.96</td>\n",
       "      <td>6.31</td>\n",
       "      <td>0.38</td>\n",
       "      <td>1.97</td>\n",
       "      <td>97.0</td>\n",
       "      <td>8.3</td>\n",
       "      <td>M</td>\n",
       "      <td>12.62</td>\n",
       "    </tr>\n",
       "  </tbody>\n",
       "</table>\n",
       "</div>"
      ],
      "text/plain": [
       "                         name platform  year_of_release         genre  \\\n",
       "16         Grand Theft Auto V      PS3           2013.0        Action   \n",
       "23         Grand Theft Auto V     X360           2013.0        Action   \n",
       "31  Call of Duty: Black Ops 3      PS4           2015.0       Shooter   \n",
       "33        Pokemon X/Pokemon Y      3DS           2013.0  Role-Playing   \n",
       "42         Grand Theft Auto V      PS4           2014.0        Action   \n",
       "\n",
       "    na_sales  eu_sales  jp_sales  other_sales  critic_score  user_score  \\\n",
       "16      7.02      9.09      0.98         3.96          97.0         8.2   \n",
       "23      9.66      5.14      0.06         1.41          97.0         8.1   \n",
       "31      6.03      5.86      0.36         2.38           NaN         NaN   \n",
       "33      5.28      4.19      4.35         0.78           NaN         NaN   \n",
       "42      3.96      6.31      0.38         1.97          97.0         8.3   \n",
       "\n",
       "   rating  summ_sales  \n",
       "16      M       21.05  \n",
       "23      M       16.27  \n",
       "31    NaN       14.63  \n",
       "33    NaN       14.60  \n",
       "42      M       12.62  "
      ]
     },
     "execution_count": 48,
     "metadata": {},
     "output_type": "execute_result"
    }
   ],
   "source": [
    "games_data_current_period.head()"
   ]
  },
  {
   "cell_type": "code",
   "execution_count": 49,
   "metadata": {},
   "outputs": [],
   "source": [
    "games_data_current_period_genre = games_data_current_period.pivot_table(index = ['genre'], values = 'summ_sales', aggfunc = 'sum')"
   ]
  },
  {
   "cell_type": "code",
   "execution_count": 50,
   "metadata": {},
   "outputs": [
    {
     "data": {
      "text/html": [
       "<div>\n",
       "<style scoped>\n",
       "    .dataframe tbody tr th:only-of-type {\n",
       "        vertical-align: middle;\n",
       "    }\n",
       "\n",
       "    .dataframe tbody tr th {\n",
       "        vertical-align: top;\n",
       "    }\n",
       "\n",
       "    .dataframe thead th {\n",
       "        text-align: right;\n",
       "    }\n",
       "</style>\n",
       "<table border=\"1\" class=\"dataframe\">\n",
       "  <thead>\n",
       "    <tr style=\"text-align: right;\">\n",
       "      <th></th>\n",
       "      <th>summ_sales</th>\n",
       "    </tr>\n",
       "    <tr>\n",
       "      <th>genre</th>\n",
       "      <th></th>\n",
       "    </tr>\n",
       "  </thead>\n",
       "  <tbody>\n",
       "    <tr>\n",
       "      <td>Action</td>\n",
       "      <td>291.76</td>\n",
       "    </tr>\n",
       "    <tr>\n",
       "      <td>Shooter</td>\n",
       "      <td>194.76</td>\n",
       "    </tr>\n",
       "    <tr>\n",
       "      <td>Role-Playing</td>\n",
       "      <td>127.71</td>\n",
       "    </tr>\n",
       "    <tr>\n",
       "      <td>Sports</td>\n",
       "      <td>127.16</td>\n",
       "    </tr>\n",
       "    <tr>\n",
       "      <td>Misc</td>\n",
       "      <td>60.22</td>\n",
       "    </tr>\n",
       "  </tbody>\n",
       "</table>\n",
       "</div>"
      ],
      "text/plain": [
       "              summ_sales\n",
       "genre                   \n",
       "Action            291.76\n",
       "Shooter           194.76\n",
       "Role-Playing      127.71\n",
       "Sports            127.16\n",
       "Misc               60.22"
      ]
     },
     "execution_count": 50,
     "metadata": {},
     "output_type": "execute_result"
    }
   ],
   "source": [
    "games_data_current_period_genre.sort_values(by = 'summ_sales', ascending = False).head(5)"
   ]
  },
  {
   "cell_type": "code",
   "execution_count": 51,
   "metadata": {},
   "outputs": [
    {
     "data": {
      "image/png": "[encoded data removed]",
      "text/plain": [
       "<Figure size 1080x504 with 1 Axes>"
      ]
     },
     "metadata": {
      "needs_background": "light"
     },
     "output_type": "display_data"
    }
   ],
   "source": [
    "games_data_current_period_genre.plot(kind = 'bar', alpha = 1, grid = True, figsize=(15,7))\n",
    "\n",
    "plt.title('Зависимость жанра от общих продаж')\n",
    "plt.xlabel('Жанр')\n",
    "plt.ylabel('Общие продажи')\n",
    "\n",
    "plt.show()"
   ]
  },
  {
   "cell_type": "markdown",
   "metadata": {},
   "source": [
    "Из полученныз данных делаем вывод что наиболее востребованными являются жанры: _Action,_ _Sports,_ _Shooter._ Наименее востребованными являются жанры _Puzzle_ и _Strategy._"
   ]
  },
  {
   "cell_type": "markdown",
   "metadata": {},
   "source": [
    "### Выводы к третьему шагу\n",
    "\n",
    "Выполнив данный пункт делаем следующие выводы:\n",
    "* из гистограммы делаем вывод что количество выпускаемых игр резко увеличилось с 2002 года.\n",
    "* из графиков делаем следующие выводы:\n",
    " * пик продаж игр платформы PS2 приходится на 2001 - 2006 годы\n",
    " * пик продаж игр платформы Х360 приходится на 2007 - 2013 годы\n",
    " * пик продаж игр платформы PS3 приходится на 2007 - 2014 годы\n",
    " * пик продаж игр платформы Wii приходится на 2006 - 2011 годы\n",
    " * пик продаж игр платформы DS приходится на 2005 - 2010 годы\n",
    "* на оснавании полученных выше данных выбираем для исследования следующий период: 2006 - 2014 г.\n",
    "* из диаграммы размаха можно сделать следующие выводы:\n",
    " * большая часть проданных игр платформы PS4 лежит в диапазоне: 0,1 - 1,1 миллионов, медиана лежит на уровне 0,3 миллионов\n",
    " * большая часть проданных игр платформы PS3 лежит в диапазоне: 0,05 - 0,57 миллионов, медиана лежит на уровне 0,2 миллионов\n",
    " * большая часть проданных игр платформы X360 лежит в диапазоне: 0,1 - 0,9 миллионов, медиана лежит на уровне 0,3 миллионов\n",
    " * большая часть проданных игр платформы XOne лежит в диапазоне: 0,15 - 1,15 миллионов, медиана лежит на уровне 0,35 миллионов\n",
    " * большая часть проданных игр платформы 3DS лежит в диапазоне: 0,04 - 0,3 миллионов, медиана лежит на уровне 0,1 миллионов\n",
    "* из диаграммы размаха можно сделать следующие выводы:\n",
    " * большая часть проданных игр платформы WiiU лежит в диапазоне: 0,05 - 0,6 миллионов, медиана лежит на уровне 0,2 миллионов\n",
    " * большая часть проданных игр платформы PC лежит в диапазоне: 0,02 - 0,28 миллионов, медиана лежит на уровне 0,1 миллионов\n",
    " * большая часть проданных игр платформы PSV лежит в диапазоне: 0,01 - 0,13 миллионов, медиана лежит на уровне 0,05 миллионов\n",
    "\n",
    "* из графика зависимоти оценки критиков от общей выручки платформы PS4 можно сделать вывод о том, что чем выше оценка критиков, тем выше продажи игры. Оценки от 60 - 70 баллов уже достаточно неплохо влияют на количество проданых игр. Из графика зависимоти оценки пользователей от общей выручки платформы PS4 можно сделать вывод о том, что чем выше оценка пользователей, тем выше продажи игры. С помощью коэфициента корреляции делаем вывод, что в целом эта зависимость положительная, связь относится к категории слабой. Также примечателен тот факт, что оценка критиков влияет практически также на продажи игры, как и оценка пользователей.\n",
    "\n",
    "* из графика зависимоти оценки критиков от общей выручки платформы X360 можно сделать вывод о том, что чем выше оценка критиков, тем выше продажи игры. Оценки от 70 - 80 баллов влияют на количество проданых игр. Из графика зависимоти оценки пользователей от общей выручки платформы X360 можно сделать вывод о том, что чем выше оценка пользователей, тем выше продажи игры. Однако с помощью коэфициента корреляции делаем вывод, что в целом эта зависимость хоть и положительная, но не сильно большая. Также примечателен тот факт, что оценка пользователей практически не влияет на продажи игры. Также сравнивая с показателями платформы PS4 делаем вывод что показатели платформы X360 менее явные.\n",
    "\n",
    "* из графика зависимоти оценки критиков от общей выручки платформы 3DS можно сделать вывод о том, что чем выше оценка критиков, тем выше продажи игры. Из графика зависимоти оценки пользователей от общей выручки платформы 3DS можно сделать вывод о том, что чем выше оценка пользователей, тем выше продажи игры. Однако с помощью коэфициента корреляции делаем вывод, что в целом эта зависимость хоть и положительная, но не сильно большая, относится к категории слабой связи. Также примечателен тот факт, что оценка критиков практически в равной степени влияет на продажи игры, как и оценка пользователей. Примечателен тот факт, что у популярной платнофмы PS4 связь между оценками польхователей и критиков сильнее чем у платформы 3DS. Но при этом критики и пользователи в равной степени влияют на продажи.\n",
    "\n",
    "* из полученныз данных делаем вывод что наиболее востребованными являются жанры: Action, Sports, Shooter. Наименее востребованными являются жанры Puzzle и Strategy."
   ]
  },
  {
   "cell_type": "markdown",
   "metadata": {},
   "source": [
    "## Шаг 4. Составьте портрет пользователя каждого региона"
   ]
  },
  {
   "cell_type": "code",
   "execution_count": 52,
   "metadata": {},
   "outputs": [
    {
     "data": {
      "text/html": [
       "<div>\n",
       "<style scoped>\n",
       "    .dataframe tbody tr th:only-of-type {\n",
       "        vertical-align: middle;\n",
       "    }\n",
       "\n",
       "    .dataframe tbody tr th {\n",
       "        vertical-align: top;\n",
       "    }\n",
       "\n",
       "    .dataframe thead th {\n",
       "        text-align: right;\n",
       "    }\n",
       "</style>\n",
       "<table border=\"1\" class=\"dataframe\">\n",
       "  <thead>\n",
       "    <tr style=\"text-align: right;\">\n",
       "      <th></th>\n",
       "      <th>name</th>\n",
       "      <th>platform</th>\n",
       "      <th>year_of_release</th>\n",
       "      <th>genre</th>\n",
       "      <th>na_sales</th>\n",
       "      <th>eu_sales</th>\n",
       "      <th>jp_sales</th>\n",
       "      <th>other_sales</th>\n",
       "      <th>critic_score</th>\n",
       "      <th>user_score</th>\n",
       "      <th>rating</th>\n",
       "      <th>summ_sales</th>\n",
       "    </tr>\n",
       "  </thead>\n",
       "  <tbody>\n",
       "    <tr>\n",
       "      <td>0</td>\n",
       "      <td>Wii Sports</td>\n",
       "      <td>Wii</td>\n",
       "      <td>2006.0</td>\n",
       "      <td>Sports</td>\n",
       "      <td>41.36</td>\n",
       "      <td>28.96</td>\n",
       "      <td>3.77</td>\n",
       "      <td>8.45</td>\n",
       "      <td>76.0</td>\n",
       "      <td>8.0</td>\n",
       "      <td>E</td>\n",
       "      <td>82.54</td>\n",
       "    </tr>\n",
       "    <tr>\n",
       "      <td>1</td>\n",
       "      <td>Super Mario Bros.</td>\n",
       "      <td>NES</td>\n",
       "      <td>1985.0</td>\n",
       "      <td>Platform</td>\n",
       "      <td>29.08</td>\n",
       "      <td>3.58</td>\n",
       "      <td>6.81</td>\n",
       "      <td>0.77</td>\n",
       "      <td>NaN</td>\n",
       "      <td>NaN</td>\n",
       "      <td>NaN</td>\n",
       "      <td>40.24</td>\n",
       "    </tr>\n",
       "    <tr>\n",
       "      <td>2</td>\n",
       "      <td>Mario Kart Wii</td>\n",
       "      <td>Wii</td>\n",
       "      <td>2008.0</td>\n",
       "      <td>Racing</td>\n",
       "      <td>15.68</td>\n",
       "      <td>12.76</td>\n",
       "      <td>3.79</td>\n",
       "      <td>3.29</td>\n",
       "      <td>82.0</td>\n",
       "      <td>8.3</td>\n",
       "      <td>E</td>\n",
       "      <td>35.52</td>\n",
       "    </tr>\n",
       "    <tr>\n",
       "      <td>3</td>\n",
       "      <td>Wii Sports Resort</td>\n",
       "      <td>Wii</td>\n",
       "      <td>2009.0</td>\n",
       "      <td>Sports</td>\n",
       "      <td>15.61</td>\n",
       "      <td>10.93</td>\n",
       "      <td>3.28</td>\n",
       "      <td>2.95</td>\n",
       "      <td>80.0</td>\n",
       "      <td>8.0</td>\n",
       "      <td>E</td>\n",
       "      <td>32.77</td>\n",
       "    </tr>\n",
       "    <tr>\n",
       "      <td>4</td>\n",
       "      <td>Pokemon Red/Pokemon Blue</td>\n",
       "      <td>GB</td>\n",
       "      <td>1996.0</td>\n",
       "      <td>Role-Playing</td>\n",
       "      <td>11.27</td>\n",
       "      <td>8.89</td>\n",
       "      <td>10.22</td>\n",
       "      <td>1.00</td>\n",
       "      <td>NaN</td>\n",
       "      <td>NaN</td>\n",
       "      <td>NaN</td>\n",
       "      <td>31.38</td>\n",
       "    </tr>\n",
       "  </tbody>\n",
       "</table>\n",
       "</div>"
      ],
      "text/plain": [
       "                       name platform  year_of_release         genre  na_sales  \\\n",
       "0                Wii Sports      Wii           2006.0        Sports     41.36   \n",
       "1         Super Mario Bros.      NES           1985.0      Platform     29.08   \n",
       "2            Mario Kart Wii      Wii           2008.0        Racing     15.68   \n",
       "3         Wii Sports Resort      Wii           2009.0        Sports     15.61   \n",
       "4  Pokemon Red/Pokemon Blue       GB           1996.0  Role-Playing     11.27   \n",
       "\n",
       "   eu_sales  jp_sales  other_sales  critic_score  user_score rating  \\\n",
       "0     28.96      3.77         8.45          76.0         8.0      E   \n",
       "1      3.58      6.81         0.77           NaN         NaN    NaN   \n",
       "2     12.76      3.79         3.29          82.0         8.3      E   \n",
       "3     10.93      3.28         2.95          80.0         8.0      E   \n",
       "4      8.89     10.22         1.00           NaN         NaN    NaN   \n",
       "\n",
       "   summ_sales  \n",
       "0       82.54  \n",
       "1       40.24  \n",
       "2       35.52  \n",
       "3       32.77  \n",
       "4       31.38  "
      ]
     },
     "execution_count": 52,
     "metadata": {},
     "output_type": "execute_result"
    }
   ],
   "source": [
    "games_data.head()"
   ]
  },
  {
   "cell_type": "code",
   "execution_count": 53,
   "metadata": {},
   "outputs": [],
   "source": [
    "games_data_region_platform = games_data.pivot_table(index = 'platform', values = ['na_sales', 'eu_sales', 'jp_sales'], aggfunc = ['sum'])"
   ]
  },
  {
   "cell_type": "code",
   "execution_count": 54,
   "metadata": {},
   "outputs": [
    {
     "data": {
      "text/html": [
       "<div>\n",
       "<style scoped>\n",
       "    .dataframe tbody tr th:only-of-type {\n",
       "        vertical-align: middle;\n",
       "    }\n",
       "\n",
       "    .dataframe tbody tr th {\n",
       "        vertical-align: top;\n",
       "    }\n",
       "\n",
       "    .dataframe thead tr th {\n",
       "        text-align: left;\n",
       "    }\n",
       "\n",
       "    .dataframe thead tr:last-of-type th {\n",
       "        text-align: right;\n",
       "    }\n",
       "</style>\n",
       "<table border=\"1\" class=\"dataframe\">\n",
       "  <thead>\n",
       "    <tr>\n",
       "      <th></th>\n",
       "      <th colspan=\"3\" halign=\"left\">sum</th>\n",
       "    </tr>\n",
       "    <tr>\n",
       "      <th></th>\n",
       "      <th>eu_sales</th>\n",
       "      <th>jp_sales</th>\n",
       "      <th>na_sales</th>\n",
       "    </tr>\n",
       "    <tr>\n",
       "      <th>platform</th>\n",
       "      <th></th>\n",
       "      <th></th>\n",
       "      <th></th>\n",
       "    </tr>\n",
       "  </thead>\n",
       "  <tbody>\n",
       "    <tr>\n",
       "      <td>PS2</td>\n",
       "      <td>339.29</td>\n",
       "      <td>139.20</td>\n",
       "      <td>583.84</td>\n",
       "    </tr>\n",
       "    <tr>\n",
       "      <td>PS3</td>\n",
       "      <td>330.29</td>\n",
       "      <td>80.19</td>\n",
       "      <td>393.49</td>\n",
       "    </tr>\n",
       "    <tr>\n",
       "      <td>X360</td>\n",
       "      <td>270.76</td>\n",
       "      <td>12.43</td>\n",
       "      <td>602.47</td>\n",
       "    </tr>\n",
       "    <tr>\n",
       "      <td>Wii</td>\n",
       "      <td>262.21</td>\n",
       "      <td>69.33</td>\n",
       "      <td>496.90</td>\n",
       "    </tr>\n",
       "    <tr>\n",
       "      <td>PS</td>\n",
       "      <td>213.61</td>\n",
       "      <td>139.82</td>\n",
       "      <td>336.52</td>\n",
       "    </tr>\n",
       "  </tbody>\n",
       "</table>\n",
       "</div>"
      ],
      "text/plain": [
       "              sum                  \n",
       "         eu_sales jp_sales na_sales\n",
       "platform                           \n",
       "PS2        339.29   139.20   583.84\n",
       "PS3        330.29    80.19   393.49\n",
       "X360       270.76    12.43   602.47\n",
       "Wii        262.21    69.33   496.90\n",
       "PS         213.61   139.82   336.52"
      ]
     },
     "execution_count": 54,
     "metadata": {},
     "output_type": "execute_result"
    }
   ],
   "source": [
    "games_data_region_platform.sort_values(by = [('sum', 'eu_sales')], ascending = False).head()"
   ]
  },
  {
   "cell_type": "code",
   "execution_count": 55,
   "metadata": {},
   "outputs": [
    {
     "data": {
      "text/html": [
       "<div>\n",
       "<style scoped>\n",
       "    .dataframe tbody tr th:only-of-type {\n",
       "        vertical-align: middle;\n",
       "    }\n",
       "\n",
       "    .dataframe tbody tr th {\n",
       "        vertical-align: top;\n",
       "    }\n",
       "\n",
       "    .dataframe thead tr th {\n",
       "        text-align: left;\n",
       "    }\n",
       "\n",
       "    .dataframe thead tr:last-of-type th {\n",
       "        text-align: right;\n",
       "    }\n",
       "</style>\n",
       "<table border=\"1\" class=\"dataframe\">\n",
       "  <thead>\n",
       "    <tr>\n",
       "      <th></th>\n",
       "      <th colspan=\"3\" halign=\"left\">sum</th>\n",
       "    </tr>\n",
       "    <tr>\n",
       "      <th></th>\n",
       "      <th>eu_sales</th>\n",
       "      <th>jp_sales</th>\n",
       "      <th>na_sales</th>\n",
       "    </tr>\n",
       "    <tr>\n",
       "      <th>platform</th>\n",
       "      <th></th>\n",
       "      <th></th>\n",
       "      <th></th>\n",
       "    </tr>\n",
       "  </thead>\n",
       "  <tbody>\n",
       "    <tr>\n",
       "      <td>DS</td>\n",
       "      <td>188.89</td>\n",
       "      <td>175.57</td>\n",
       "      <td>382.40</td>\n",
       "    </tr>\n",
       "    <tr>\n",
       "      <td>PS</td>\n",
       "      <td>213.61</td>\n",
       "      <td>139.82</td>\n",
       "      <td>336.52</td>\n",
       "    </tr>\n",
       "    <tr>\n",
       "      <td>PS2</td>\n",
       "      <td>339.29</td>\n",
       "      <td>139.20</td>\n",
       "      <td>583.84</td>\n",
       "    </tr>\n",
       "    <tr>\n",
       "      <td>SNES</td>\n",
       "      <td>19.04</td>\n",
       "      <td>116.55</td>\n",
       "      <td>61.23</td>\n",
       "    </tr>\n",
       "    <tr>\n",
       "      <td>3DS</td>\n",
       "      <td>61.48</td>\n",
       "      <td>100.67</td>\n",
       "      <td>83.49</td>\n",
       "    </tr>\n",
       "  </tbody>\n",
       "</table>\n",
       "</div>"
      ],
      "text/plain": [
       "              sum                  \n",
       "         eu_sales jp_sales na_sales\n",
       "platform                           \n",
       "DS         188.89   175.57   382.40\n",
       "PS         213.61   139.82   336.52\n",
       "PS2        339.29   139.20   583.84\n",
       "SNES        19.04   116.55    61.23\n",
       "3DS         61.48   100.67    83.49"
      ]
     },
     "execution_count": 55,
     "metadata": {},
     "output_type": "execute_result"
    }
   ],
   "source": [
    "games_data_region_platform.sort_values(by = [('sum', 'jp_sales')], ascending = False).head()"
   ]
  },
  {
   "cell_type": "code",
   "execution_count": 56,
   "metadata": {},
   "outputs": [
    {
     "data": {
      "text/html": [
       "<div>\n",
       "<style scoped>\n",
       "    .dataframe tbody tr th:only-of-type {\n",
       "        vertical-align: middle;\n",
       "    }\n",
       "\n",
       "    .dataframe tbody tr th {\n",
       "        vertical-align: top;\n",
       "    }\n",
       "\n",
       "    .dataframe thead tr th {\n",
       "        text-align: left;\n",
       "    }\n",
       "\n",
       "    .dataframe thead tr:last-of-type th {\n",
       "        text-align: right;\n",
       "    }\n",
       "</style>\n",
       "<table border=\"1\" class=\"dataframe\">\n",
       "  <thead>\n",
       "    <tr>\n",
       "      <th></th>\n",
       "      <th colspan=\"3\" halign=\"left\">sum</th>\n",
       "    </tr>\n",
       "    <tr>\n",
       "      <th></th>\n",
       "      <th>eu_sales</th>\n",
       "      <th>jp_sales</th>\n",
       "      <th>na_sales</th>\n",
       "    </tr>\n",
       "    <tr>\n",
       "      <th>platform</th>\n",
       "      <th></th>\n",
       "      <th></th>\n",
       "      <th></th>\n",
       "    </tr>\n",
       "  </thead>\n",
       "  <tbody>\n",
       "    <tr>\n",
       "      <td>X360</td>\n",
       "      <td>270.76</td>\n",
       "      <td>12.43</td>\n",
       "      <td>602.47</td>\n",
       "    </tr>\n",
       "    <tr>\n",
       "      <td>PS2</td>\n",
       "      <td>339.29</td>\n",
       "      <td>139.20</td>\n",
       "      <td>583.84</td>\n",
       "    </tr>\n",
       "    <tr>\n",
       "      <td>Wii</td>\n",
       "      <td>262.21</td>\n",
       "      <td>69.33</td>\n",
       "      <td>496.90</td>\n",
       "    </tr>\n",
       "    <tr>\n",
       "      <td>PS3</td>\n",
       "      <td>330.29</td>\n",
       "      <td>80.19</td>\n",
       "      <td>393.49</td>\n",
       "    </tr>\n",
       "    <tr>\n",
       "      <td>DS</td>\n",
       "      <td>188.89</td>\n",
       "      <td>175.57</td>\n",
       "      <td>382.40</td>\n",
       "    </tr>\n",
       "  </tbody>\n",
       "</table>\n",
       "</div>"
      ],
      "text/plain": [
       "              sum                  \n",
       "         eu_sales jp_sales na_sales\n",
       "platform                           \n",
       "X360       270.76    12.43   602.47\n",
       "PS2        339.29   139.20   583.84\n",
       "Wii        262.21    69.33   496.90\n",
       "PS3        330.29    80.19   393.49\n",
       "DS         188.89   175.57   382.40"
      ]
     },
     "execution_count": 56,
     "metadata": {},
     "output_type": "execute_result"
    }
   ],
   "source": [
    "games_data_region_platform.sort_values(by = [('sum', 'na_sales')], ascending = False).head()"
   ]
  },
  {
   "cell_type": "code",
   "execution_count": 57,
   "metadata": {},
   "outputs": [],
   "source": [
    "games_data_region_genre = games_data.pivot_table(index = 'genre', values = ['na_sales', 'eu_sales', 'jp_sales'], aggfunc = ['sum'])"
   ]
  },
  {
   "cell_type": "code",
   "execution_count": 58,
   "metadata": {},
   "outputs": [
    {
     "data": {
      "text/html": [
       "<div>\n",
       "<style scoped>\n",
       "    .dataframe tbody tr th:only-of-type {\n",
       "        vertical-align: middle;\n",
       "    }\n",
       "\n",
       "    .dataframe tbody tr th {\n",
       "        vertical-align: top;\n",
       "    }\n",
       "\n",
       "    .dataframe thead tr th {\n",
       "        text-align: left;\n",
       "    }\n",
       "\n",
       "    .dataframe thead tr:last-of-type th {\n",
       "        text-align: right;\n",
       "    }\n",
       "</style>\n",
       "<table border=\"1\" class=\"dataframe\">\n",
       "  <thead>\n",
       "    <tr>\n",
       "      <th></th>\n",
       "      <th colspan=\"3\" halign=\"left\">sum</th>\n",
       "    </tr>\n",
       "    <tr>\n",
       "      <th></th>\n",
       "      <th>eu_sales</th>\n",
       "      <th>jp_sales</th>\n",
       "      <th>na_sales</th>\n",
       "    </tr>\n",
       "    <tr>\n",
       "      <th>genre</th>\n",
       "      <th></th>\n",
       "      <th></th>\n",
       "      <th></th>\n",
       "    </tr>\n",
       "  </thead>\n",
       "  <tbody>\n",
       "    <tr>\n",
       "      <td>Action</td>\n",
       "      <td>519.13</td>\n",
       "      <td>161.43</td>\n",
       "      <td>879.01</td>\n",
       "    </tr>\n",
       "    <tr>\n",
       "      <td>Sports</td>\n",
       "      <td>376.79</td>\n",
       "      <td>135.54</td>\n",
       "      <td>684.43</td>\n",
       "    </tr>\n",
       "    <tr>\n",
       "      <td>Shooter</td>\n",
       "      <td>317.34</td>\n",
       "      <td>38.76</td>\n",
       "      <td>592.24</td>\n",
       "    </tr>\n",
       "    <tr>\n",
       "      <td>Racing</td>\n",
       "      <td>236.51</td>\n",
       "      <td>56.71</td>\n",
       "      <td>359.35</td>\n",
       "    </tr>\n",
       "    <tr>\n",
       "      <td>Misc</td>\n",
       "      <td>212.74</td>\n",
       "      <td>108.11</td>\n",
       "      <td>407.27</td>\n",
       "    </tr>\n",
       "  </tbody>\n",
       "</table>\n",
       "</div>"
      ],
      "text/plain": [
       "             sum                  \n",
       "        eu_sales jp_sales na_sales\n",
       "genre                             \n",
       "Action    519.13   161.43   879.01\n",
       "Sports    376.79   135.54   684.43\n",
       "Shooter   317.34    38.76   592.24\n",
       "Racing    236.51    56.71   359.35\n",
       "Misc      212.74   108.11   407.27"
      ]
     },
     "execution_count": 58,
     "metadata": {},
     "output_type": "execute_result"
    }
   ],
   "source": [
    "games_data_region_genre.sort_values(by = [('sum', 'eu_sales')], ascending = False).head()"
   ]
  },
  {
   "cell_type": "code",
   "execution_count": 59,
   "metadata": {},
   "outputs": [
    {
     "data": {
      "text/html": [
       "<div>\n",
       "<style scoped>\n",
       "    .dataframe tbody tr th:only-of-type {\n",
       "        vertical-align: middle;\n",
       "    }\n",
       "\n",
       "    .dataframe tbody tr th {\n",
       "        vertical-align: top;\n",
       "    }\n",
       "\n",
       "    .dataframe thead tr th {\n",
       "        text-align: left;\n",
       "    }\n",
       "\n",
       "    .dataframe thead tr:last-of-type th {\n",
       "        text-align: right;\n",
       "    }\n",
       "</style>\n",
       "<table border=\"1\" class=\"dataframe\">\n",
       "  <thead>\n",
       "    <tr>\n",
       "      <th></th>\n",
       "      <th colspan=\"3\" halign=\"left\">sum</th>\n",
       "    </tr>\n",
       "    <tr>\n",
       "      <th></th>\n",
       "      <th>eu_sales</th>\n",
       "      <th>jp_sales</th>\n",
       "      <th>na_sales</th>\n",
       "    </tr>\n",
       "    <tr>\n",
       "      <th>genre</th>\n",
       "      <th></th>\n",
       "      <th></th>\n",
       "      <th></th>\n",
       "    </tr>\n",
       "  </thead>\n",
       "  <tbody>\n",
       "    <tr>\n",
       "      <td>Role-Playing</td>\n",
       "      <td>188.71</td>\n",
       "      <td>355.41</td>\n",
       "      <td>330.81</td>\n",
       "    </tr>\n",
       "    <tr>\n",
       "      <td>Action</td>\n",
       "      <td>519.13</td>\n",
       "      <td>161.43</td>\n",
       "      <td>879.01</td>\n",
       "    </tr>\n",
       "    <tr>\n",
       "      <td>Sports</td>\n",
       "      <td>376.79</td>\n",
       "      <td>135.54</td>\n",
       "      <td>684.43</td>\n",
       "    </tr>\n",
       "    <tr>\n",
       "      <td>Platform</td>\n",
       "      <td>200.35</td>\n",
       "      <td>130.83</td>\n",
       "      <td>445.50</td>\n",
       "    </tr>\n",
       "    <tr>\n",
       "      <td>Misc</td>\n",
       "      <td>212.74</td>\n",
       "      <td>108.11</td>\n",
       "      <td>407.27</td>\n",
       "    </tr>\n",
       "  </tbody>\n",
       "</table>\n",
       "</div>"
      ],
      "text/plain": [
       "                  sum                  \n",
       "             eu_sales jp_sales na_sales\n",
       "genre                                  \n",
       "Role-Playing   188.71   355.41   330.81\n",
       "Action         519.13   161.43   879.01\n",
       "Sports         376.79   135.54   684.43\n",
       "Platform       200.35   130.83   445.50\n",
       "Misc           212.74   108.11   407.27"
      ]
     },
     "execution_count": 59,
     "metadata": {},
     "output_type": "execute_result"
    }
   ],
   "source": [
    "games_data_region_genre.sort_values(by = [('sum', 'jp_sales')], ascending = False).head()"
   ]
  },
  {
   "cell_type": "code",
   "execution_count": 60,
   "metadata": {},
   "outputs": [
    {
     "data": {
      "text/html": [
       "<div>\n",
       "<style scoped>\n",
       "    .dataframe tbody tr th:only-of-type {\n",
       "        vertical-align: middle;\n",
       "    }\n",
       "\n",
       "    .dataframe tbody tr th {\n",
       "        vertical-align: top;\n",
       "    }\n",
       "\n",
       "    .dataframe thead tr th {\n",
       "        text-align: left;\n",
       "    }\n",
       "\n",
       "    .dataframe thead tr:last-of-type th {\n",
       "        text-align: right;\n",
       "    }\n",
       "</style>\n",
       "<table border=\"1\" class=\"dataframe\">\n",
       "  <thead>\n",
       "    <tr>\n",
       "      <th></th>\n",
       "      <th colspan=\"3\" halign=\"left\">sum</th>\n",
       "    </tr>\n",
       "    <tr>\n",
       "      <th></th>\n",
       "      <th>eu_sales</th>\n",
       "      <th>jp_sales</th>\n",
       "      <th>na_sales</th>\n",
       "    </tr>\n",
       "    <tr>\n",
       "      <th>genre</th>\n",
       "      <th></th>\n",
       "      <th></th>\n",
       "      <th></th>\n",
       "    </tr>\n",
       "  </thead>\n",
       "  <tbody>\n",
       "    <tr>\n",
       "      <td>Action</td>\n",
       "      <td>519.13</td>\n",
       "      <td>161.43</td>\n",
       "      <td>879.01</td>\n",
       "    </tr>\n",
       "    <tr>\n",
       "      <td>Sports</td>\n",
       "      <td>376.79</td>\n",
       "      <td>135.54</td>\n",
       "      <td>684.43</td>\n",
       "    </tr>\n",
       "    <tr>\n",
       "      <td>Shooter</td>\n",
       "      <td>317.34</td>\n",
       "      <td>38.76</td>\n",
       "      <td>592.24</td>\n",
       "    </tr>\n",
       "    <tr>\n",
       "      <td>Platform</td>\n",
       "      <td>200.35</td>\n",
       "      <td>130.83</td>\n",
       "      <td>445.50</td>\n",
       "    </tr>\n",
       "    <tr>\n",
       "      <td>Misc</td>\n",
       "      <td>212.74</td>\n",
       "      <td>108.11</td>\n",
       "      <td>407.27</td>\n",
       "    </tr>\n",
       "  </tbody>\n",
       "</table>\n",
       "</div>"
      ],
      "text/plain": [
       "              sum                  \n",
       "         eu_sales jp_sales na_sales\n",
       "genre                              \n",
       "Action     519.13   161.43   879.01\n",
       "Sports     376.79   135.54   684.43\n",
       "Shooter    317.34    38.76   592.24\n",
       "Platform   200.35   130.83   445.50\n",
       "Misc       212.74   108.11   407.27"
      ]
     },
     "execution_count": 60,
     "metadata": {},
     "output_type": "execute_result"
    }
   ],
   "source": [
    "games_data_region_genre.sort_values(by = [('sum', 'na_sales')], ascending = False).head()"
   ]
  },
  {
   "cell_type": "code",
   "execution_count": 61,
   "metadata": {},
   "outputs": [],
   "source": [
    "games_data_region_rating = games_data.pivot_table(index = 'rating', values = ['na_sales', 'eu_sales', 'jp_sales'], aggfunc = ['sum'])"
   ]
  },
  {
   "cell_type": "code",
   "execution_count": 62,
   "metadata": {},
   "outputs": [
    {
     "data": {
      "text/html": [
       "<div>\n",
       "<style scoped>\n",
       "    .dataframe tbody tr th:only-of-type {\n",
       "        vertical-align: middle;\n",
       "    }\n",
       "\n",
       "    .dataframe tbody tr th {\n",
       "        vertical-align: top;\n",
       "    }\n",
       "\n",
       "    .dataframe thead tr th {\n",
       "        text-align: left;\n",
       "    }\n",
       "\n",
       "    .dataframe thead tr:last-of-type th {\n",
       "        text-align: right;\n",
       "    }\n",
       "</style>\n",
       "<table border=\"1\" class=\"dataframe\">\n",
       "  <thead>\n",
       "    <tr>\n",
       "      <th></th>\n",
       "      <th colspan=\"3\" halign=\"left\">sum</th>\n",
       "    </tr>\n",
       "    <tr>\n",
       "      <th></th>\n",
       "      <th>eu_sales</th>\n",
       "      <th>jp_sales</th>\n",
       "      <th>na_sales</th>\n",
       "    </tr>\n",
       "    <tr>\n",
       "      <th>rating</th>\n",
       "      <th></th>\n",
       "      <th></th>\n",
       "      <th></th>\n",
       "    </tr>\n",
       "  </thead>\n",
       "  <tbody>\n",
       "    <tr>\n",
       "      <td>E</td>\n",
       "      <td>710.52</td>\n",
       "      <td>199.57</td>\n",
       "      <td>1295.55</td>\n",
       "    </tr>\n",
       "    <tr>\n",
       "      <td>M</td>\n",
       "      <td>483.97</td>\n",
       "      <td>64.24</td>\n",
       "      <td>748.48</td>\n",
       "    </tr>\n",
       "    <tr>\n",
       "      <td>T</td>\n",
       "      <td>427.03</td>\n",
       "      <td>151.40</td>\n",
       "      <td>759.75</td>\n",
       "    </tr>\n",
       "    <tr>\n",
       "      <td>E10+</td>\n",
       "      <td>188.52</td>\n",
       "      <td>40.20</td>\n",
       "      <td>353.32</td>\n",
       "    </tr>\n",
       "    <tr>\n",
       "      <td>AO</td>\n",
       "      <td>0.61</td>\n",
       "      <td>0.00</td>\n",
       "      <td>1.26</td>\n",
       "    </tr>\n",
       "  </tbody>\n",
       "</table>\n",
       "</div>"
      ],
      "text/plain": [
       "            sum                  \n",
       "       eu_sales jp_sales na_sales\n",
       "rating                           \n",
       "E        710.52   199.57  1295.55\n",
       "M        483.97    64.24   748.48\n",
       "T        427.03   151.40   759.75\n",
       "E10+     188.52    40.20   353.32\n",
       "AO         0.61     0.00     1.26"
      ]
     },
     "execution_count": 62,
     "metadata": {},
     "output_type": "execute_result"
    }
   ],
   "source": [
    "games_data_region_rating.sort_values(by = [('sum', 'eu_sales')], ascending = False).head()"
   ]
  },
  {
   "cell_type": "code",
   "execution_count": 63,
   "metadata": {},
   "outputs": [
    {
     "data": {
      "text/html": [
       "<div>\n",
       "<style scoped>\n",
       "    .dataframe tbody tr th:only-of-type {\n",
       "        vertical-align: middle;\n",
       "    }\n",
       "\n",
       "    .dataframe tbody tr th {\n",
       "        vertical-align: top;\n",
       "    }\n",
       "\n",
       "    .dataframe thead tr th {\n",
       "        text-align: left;\n",
       "    }\n",
       "\n",
       "    .dataframe thead tr:last-of-type th {\n",
       "        text-align: right;\n",
       "    }\n",
       "</style>\n",
       "<table border=\"1\" class=\"dataframe\">\n",
       "  <thead>\n",
       "    <tr>\n",
       "      <th></th>\n",
       "      <th colspan=\"3\" halign=\"left\">sum</th>\n",
       "    </tr>\n",
       "    <tr>\n",
       "      <th></th>\n",
       "      <th>eu_sales</th>\n",
       "      <th>jp_sales</th>\n",
       "      <th>na_sales</th>\n",
       "    </tr>\n",
       "    <tr>\n",
       "      <th>rating</th>\n",
       "      <th></th>\n",
       "      <th></th>\n",
       "      <th></th>\n",
       "    </tr>\n",
       "  </thead>\n",
       "  <tbody>\n",
       "    <tr>\n",
       "      <td>E</td>\n",
       "      <td>710.52</td>\n",
       "      <td>199.57</td>\n",
       "      <td>1295.55</td>\n",
       "    </tr>\n",
       "    <tr>\n",
       "      <td>T</td>\n",
       "      <td>427.03</td>\n",
       "      <td>151.40</td>\n",
       "      <td>759.75</td>\n",
       "    </tr>\n",
       "    <tr>\n",
       "      <td>M</td>\n",
       "      <td>483.97</td>\n",
       "      <td>64.24</td>\n",
       "      <td>748.48</td>\n",
       "    </tr>\n",
       "    <tr>\n",
       "      <td>E10+</td>\n",
       "      <td>188.52</td>\n",
       "      <td>40.20</td>\n",
       "      <td>353.32</td>\n",
       "    </tr>\n",
       "    <tr>\n",
       "      <td>AO</td>\n",
       "      <td>0.61</td>\n",
       "      <td>0.00</td>\n",
       "      <td>1.26</td>\n",
       "    </tr>\n",
       "  </tbody>\n",
       "</table>\n",
       "</div>"
      ],
      "text/plain": [
       "            sum                  \n",
       "       eu_sales jp_sales na_sales\n",
       "rating                           \n",
       "E        710.52   199.57  1295.55\n",
       "T        427.03   151.40   759.75\n",
       "M        483.97    64.24   748.48\n",
       "E10+     188.52    40.20   353.32\n",
       "AO         0.61     0.00     1.26"
      ]
     },
     "execution_count": 63,
     "metadata": {},
     "output_type": "execute_result"
    }
   ],
   "source": [
    "games_data_region_rating.sort_values(by = [('sum', 'jp_sales')], ascending = False).head()"
   ]
  },
  {
   "cell_type": "code",
   "execution_count": 64,
   "metadata": {},
   "outputs": [
    {
     "data": {
      "text/html": [
       "<div>\n",
       "<style scoped>\n",
       "    .dataframe tbody tr th:only-of-type {\n",
       "        vertical-align: middle;\n",
       "    }\n",
       "\n",
       "    .dataframe tbody tr th {\n",
       "        vertical-align: top;\n",
       "    }\n",
       "\n",
       "    .dataframe thead tr th {\n",
       "        text-align: left;\n",
       "    }\n",
       "\n",
       "    .dataframe thead tr:last-of-type th {\n",
       "        text-align: right;\n",
       "    }\n",
       "</style>\n",
       "<table border=\"1\" class=\"dataframe\">\n",
       "  <thead>\n",
       "    <tr>\n",
       "      <th></th>\n",
       "      <th colspan=\"3\" halign=\"left\">sum</th>\n",
       "    </tr>\n",
       "    <tr>\n",
       "      <th></th>\n",
       "      <th>eu_sales</th>\n",
       "      <th>jp_sales</th>\n",
       "      <th>na_sales</th>\n",
       "    </tr>\n",
       "    <tr>\n",
       "      <th>rating</th>\n",
       "      <th></th>\n",
       "      <th></th>\n",
       "      <th></th>\n",
       "    </tr>\n",
       "  </thead>\n",
       "  <tbody>\n",
       "    <tr>\n",
       "      <td>E</td>\n",
       "      <td>710.52</td>\n",
       "      <td>199.57</td>\n",
       "      <td>1295.55</td>\n",
       "    </tr>\n",
       "    <tr>\n",
       "      <td>T</td>\n",
       "      <td>427.03</td>\n",
       "      <td>151.40</td>\n",
       "      <td>759.75</td>\n",
       "    </tr>\n",
       "    <tr>\n",
       "      <td>M</td>\n",
       "      <td>483.97</td>\n",
       "      <td>64.24</td>\n",
       "      <td>748.48</td>\n",
       "    </tr>\n",
       "    <tr>\n",
       "      <td>E10+</td>\n",
       "      <td>188.52</td>\n",
       "      <td>40.20</td>\n",
       "      <td>353.32</td>\n",
       "    </tr>\n",
       "    <tr>\n",
       "      <td>EC</td>\n",
       "      <td>0.11</td>\n",
       "      <td>0.00</td>\n",
       "      <td>1.53</td>\n",
       "    </tr>\n",
       "  </tbody>\n",
       "</table>\n",
       "</div>"
      ],
      "text/plain": [
       "            sum                  \n",
       "       eu_sales jp_sales na_sales\n",
       "rating                           \n",
       "E        710.52   199.57  1295.55\n",
       "T        427.03   151.40   759.75\n",
       "M        483.97    64.24   748.48\n",
       "E10+     188.52    40.20   353.32\n",
       "EC         0.11     0.00     1.53"
      ]
     },
     "execution_count": 64,
     "metadata": {},
     "output_type": "execute_result"
    }
   ],
   "source": [
    "games_data_region_rating.sort_values(by = [('sum', 'na_sales')], ascending = False).head()"
   ]
  },
  {
   "cell_type": "code",
   "execution_count": 65,
   "metadata": {},
   "outputs": [
    {
     "data": {
      "image/png": "[encoded data removed]",
      "text/plain": [
       "<Figure size 1080x360 with 1 Axes>"
      ]
     },
     "metadata": {
      "needs_background": "light"
     },
     "output_type": "display_data"
    }
   ],
   "source": [
    "ax1 = games_data_region_platform[('sum', 'na_sales')].plot(kind = 'bar', alpha = 1, grid = True, color = '#0000FF', label = 'NA', figsize=(15,5))\n",
    "ax2 = games_data_region_platform[('sum', 'eu_sales')].plot(kind = 'bar', alpha = 1, grid = True, color = '#008000',label = 'EU', figsize=(15,5))\n",
    "ax3 = games_data_region_platform[('sum', 'jp_sales')].plot(kind = 'bar', alpha = 1, grid = True, color = '#FFFF00',label = 'JP', figsize=(15,5))\n",
    "\n",
    "ax1.set_title('Зависимость платформы от общих продаж')\n",
    "ax1.set_xlabel('Платформа')\n",
    "ax1.set_ylabel('Общие продажи')\n",
    "\n",
    "ax1.legend(loc = 'upper right')\n",
    "ax2.legend(loc = 'upper right')\n",
    "ax3.legend(loc = 'upper right')\n",
    "\n",
    "plt.show()"
   ]
  },
  {
   "cell_type": "code",
   "execution_count": 66,
   "metadata": {},
   "outputs": [
    {
     "data": {
      "image/png": "[encoded data removed]",
      "text/plain": [
       "<Figure size 1080x360 with 1 Axes>"
      ]
     },
     "metadata": {
      "needs_background": "light"
     },
     "output_type": "display_data"
    }
   ],
   "source": [
    "ax1 = games_data_region_genre[('sum', 'na_sales')].plot(kind = 'bar', alpha = 1, grid = True, color = '#0000FF', label = 'NA', figsize=(15,5))\n",
    "ax2 = games_data_region_genre[('sum', 'eu_sales')].plot(kind = 'bar', alpha = 1, grid = True, color = '#008000',label = 'EU', figsize=(15,5))\n",
    "ax3 = games_data_region_genre[('sum', 'jp_sales')].plot(kind = 'bar', alpha = 1, grid = True, color = '#FFFF00',label = 'JP', figsize=(15,5))\n",
    "\n",
    "ax1.set_title('Зависимость жанра от общих продаж')\n",
    "ax1.set_xlabel('Жанр')\n",
    "ax1.set_ylabel('Общие продажи')\n",
    "\n",
    "ax1.legend(loc = 'upper right')\n",
    "ax2.legend(loc = 'upper right')\n",
    "ax3.legend(loc = 'upper right')\n",
    "\n",
    "plt.show()"
   ]
  },
  {
   "cell_type": "code",
   "execution_count": 67,
   "metadata": {},
   "outputs": [
    {
     "data": {
      "image/png": "[encoded data removed]",
      "text/plain": [
       "<Figure size 1080x360 with 1 Axes>"
      ]
     },
     "metadata": {
      "needs_background": "light"
     },
     "output_type": "display_data"
    }
   ],
   "source": [
    "ax1 = games_data_region_rating[('sum', 'na_sales')].plot(kind = 'bar', alpha = 1, grid = True, color = '#0000FF', label = 'NA', figsize=(15,5))\n",
    "ax2 = games_data_region_rating[('sum', 'eu_sales')].plot(kind = 'bar', alpha = 1, grid = True, color = '#008000',label = 'EU', figsize=(15,5))\n",
    "ax3 = games_data_region_rating[('sum', 'jp_sales')].plot(kind = 'bar', alpha = 1, grid = True, color = '#FFFF00',label = 'JP', figsize=(15,5))\n",
    "\n",
    "ax1.set_title('Зависимость рейтинга ESRB от общих продаж')\n",
    "ax1.set_xlabel('Рейтинг ESRB')\n",
    "ax1.set_ylabel('Общие продажи')\n",
    "\n",
    "ax1.legend(loc = 'upper right')\n",
    "ax2.legend(loc = 'upper right')\n",
    "ax3.legend(loc = 'upper right')\n",
    "\n",
    "plt.show()"
   ]
  },
  {
   "cell_type": "markdown",
   "metadata": {},
   "source": [
    "### Выводы к четвёртому шагу\n",
    "\n",
    "Из полученых данных делаем следующие выводы:\n",
    "В Европе более популярны:\n",
    "* платформы:\n",
    " * PS2\n",
    " * PS3\n",
    " * X360\n",
    " * Wii\n",
    " * PS\n",
    "* жанры:\n",
    " * Action\n",
    " * Sports\n",
    " * Shooter\n",
    " * Racing\n",
    " * Misc\n",
    "* рейтинг:\n",
    " * E\n",
    " * M\n",
    " * T\n",
    " * E10+\n",
    " * AO\n",
    "\n",
    "В Северной Америке более популярны:\n",
    "* платформы:\n",
    " * X360\n",
    " * PS2\n",
    " * Wii\n",
    " * PS3\n",
    " * DS\n",
    "* жанры:\n",
    " * Action\n",
    " * Sports\n",
    " * Shooter\n",
    " * Platform\n",
    " * Misc\n",
    "* рейтинг:\n",
    " * E\n",
    " * T\n",
    " * M\n",
    " * E10+\n",
    " * EC\n",
    "\n",
    "В Японии более популярны:\n",
    "* платформы:\n",
    " * DS\n",
    " * PS\n",
    " * PS2\n",
    " * SNES\n",
    " * 3DS\n",
    "* жанры:\n",
    " * Role-Playing\t\n",
    " * Action\n",
    " * Sports\n",
    " * Platform\n",
    " * Misc\n",
    "* рейтинг:\n",
    " * E\n",
    " * T\n",
    " * M\n",
    " * E10+\n",
    " * AO\n",
    " \n",
    " Также по указанным параметрам приведены графики для более наглядной визуализации данных."
   ]
  },
  {
   "cell_type": "markdown",
   "metadata": {},
   "source": [
    "## Шаг 5. Проверьте гипотезы"
   ]
  },
  {
   "cell_type": "code",
   "execution_count": 68,
   "metadata": {},
   "outputs": [],
   "source": [
    "games_data['user_score'] = games_data['user_score'].fillna(-1)\n",
    "games_data['critic_score'] = games_data['critic_score'].fillna(-1)\n",
    "\n",
    "games_data_hypothesis = games_data.query('user_score >= 0 & critic_score >= 0')"
   ]
  },
  {
   "cell_type": "markdown",
   "metadata": {},
   "source": [
    "Заменяем пропуски на маркерное значение \"-1\" и убираем его при построении датасетов для анализа."
   ]
  },
  {
   "cell_type": "code",
   "execution_count": 69,
   "metadata": {},
   "outputs": [],
   "source": [
    "games_data_xbox_one = games_data_hypothesis.query('platform == \"XOne\"')\n",
    "games_data_pc = games_data_hypothesis.query('platform == \"PC\"')"
   ]
  },
  {
   "cell_type": "code",
   "execution_count": 70,
   "metadata": {},
   "outputs": [
    {
     "name": "stdout",
     "output_type": "stream",
     "text": [
      "Дисперсия выборки Xbox: 2.503350340136054\n",
      "Дисперсия выборки PC: 2.5154993820671057\n"
     ]
    }
   ],
   "source": [
    "print('Дисперсия выборки Xbox:', np.var(games_data_xbox_one['user_score']))\n",
    "print('Дисперсия выборки PC:', np.var(games_data_pc['user_score']))"
   ]
  },
  {
   "cell_type": "code",
   "execution_count": 71,
   "metadata": {},
   "outputs": [
    {
     "data": {
      "text/html": [
       "<div>\n",
       "<style scoped>\n",
       "    .dataframe tbody tr th:only-of-type {\n",
       "        vertical-align: middle;\n",
       "    }\n",
       "\n",
       "    .dataframe tbody tr th {\n",
       "        vertical-align: top;\n",
       "    }\n",
       "\n",
       "    .dataframe thead th {\n",
       "        text-align: right;\n",
       "    }\n",
       "</style>\n",
       "<table border=\"1\" class=\"dataframe\">\n",
       "  <thead>\n",
       "    <tr style=\"text-align: right;\">\n",
       "      <th></th>\n",
       "      <th>name</th>\n",
       "      <th>platform</th>\n",
       "      <th>year_of_release</th>\n",
       "      <th>genre</th>\n",
       "      <th>na_sales</th>\n",
       "      <th>eu_sales</th>\n",
       "      <th>jp_sales</th>\n",
       "      <th>other_sales</th>\n",
       "      <th>critic_score</th>\n",
       "      <th>user_score</th>\n",
       "      <th>rating</th>\n",
       "      <th>summ_sales</th>\n",
       "    </tr>\n",
       "  </thead>\n",
       "  <tbody>\n",
       "    <tr>\n",
       "      <td>165</td>\n",
       "      <td>Grand Theft Auto V</td>\n",
       "      <td>XOne</td>\n",
       "      <td>2014.0</td>\n",
       "      <td>Action</td>\n",
       "      <td>2.81</td>\n",
       "      <td>2.19</td>\n",
       "      <td>0.00</td>\n",
       "      <td>0.47</td>\n",
       "      <td>97.0</td>\n",
       "      <td>7.9</td>\n",
       "      <td>M</td>\n",
       "      <td>5.47</td>\n",
       "    </tr>\n",
       "    <tr>\n",
       "      <td>179</td>\n",
       "      <td>Call of Duty: Advanced Warfare</td>\n",
       "      <td>XOne</td>\n",
       "      <td>2014.0</td>\n",
       "      <td>Shooter</td>\n",
       "      <td>3.22</td>\n",
       "      <td>1.55</td>\n",
       "      <td>0.01</td>\n",
       "      <td>0.48</td>\n",
       "      <td>81.0</td>\n",
       "      <td>5.4</td>\n",
       "      <td>M</td>\n",
       "      <td>5.26</td>\n",
       "    </tr>\n",
       "    <tr>\n",
       "      <td>242</td>\n",
       "      <td>Halo 5: Guardians</td>\n",
       "      <td>XOne</td>\n",
       "      <td>2015.0</td>\n",
       "      <td>Shooter</td>\n",
       "      <td>2.78</td>\n",
       "      <td>1.27</td>\n",
       "      <td>0.03</td>\n",
       "      <td>0.41</td>\n",
       "      <td>84.0</td>\n",
       "      <td>6.4</td>\n",
       "      <td>T</td>\n",
       "      <td>4.49</td>\n",
       "    </tr>\n",
       "    <tr>\n",
       "      <td>270</td>\n",
       "      <td>Fallout 4</td>\n",
       "      <td>XOne</td>\n",
       "      <td>2015.0</td>\n",
       "      <td>Role-Playing</td>\n",
       "      <td>2.51</td>\n",
       "      <td>1.32</td>\n",
       "      <td>0.01</td>\n",
       "      <td>0.38</td>\n",
       "      <td>88.0</td>\n",
       "      <td>6.2</td>\n",
       "      <td>M</td>\n",
       "      <td>4.22</td>\n",
       "    </tr>\n",
       "    <tr>\n",
       "      <td>373</td>\n",
       "      <td>Assassin's Creed: Unity</td>\n",
       "      <td>XOne</td>\n",
       "      <td>2014.0</td>\n",
       "      <td>Action</td>\n",
       "      <td>2.27</td>\n",
       "      <td>0.90</td>\n",
       "      <td>0.00</td>\n",
       "      <td>0.33</td>\n",
       "      <td>72.0</td>\n",
       "      <td>4.1</td>\n",
       "      <td>M</td>\n",
       "      <td>3.50</td>\n",
       "    </tr>\n",
       "  </tbody>\n",
       "</table>\n",
       "</div>"
      ],
      "text/plain": [
       "                               name platform  year_of_release         genre  \\\n",
       "165              Grand Theft Auto V     XOne           2014.0        Action   \n",
       "179  Call of Duty: Advanced Warfare     XOne           2014.0       Shooter   \n",
       "242               Halo 5: Guardians     XOne           2015.0       Shooter   \n",
       "270                       Fallout 4     XOne           2015.0  Role-Playing   \n",
       "373         Assassin's Creed: Unity     XOne           2014.0        Action   \n",
       "\n",
       "     na_sales  eu_sales  jp_sales  other_sales  critic_score  user_score  \\\n",
       "165      2.81      2.19      0.00         0.47          97.0         7.9   \n",
       "179      3.22      1.55      0.01         0.48          81.0         5.4   \n",
       "242      2.78      1.27      0.03         0.41          84.0         6.4   \n",
       "270      2.51      1.32      0.01         0.38          88.0         6.2   \n",
       "373      2.27      0.90      0.00         0.33          72.0         4.1   \n",
       "\n",
       "    rating  summ_sales  \n",
       "165      M        5.47  \n",
       "179      M        5.26  \n",
       "242      T        4.49  \n",
       "270      M        4.22  \n",
       "373      M        3.50  "
      ]
     },
     "execution_count": 71,
     "metadata": {},
     "output_type": "execute_result"
    }
   ],
   "source": [
    "games_data_xbox_one.head()"
   ]
  },
  {
   "cell_type": "markdown",
   "metadata": {},
   "source": [
    "Гипотеза о том, что средние пользовательские рейтинги платформ Xbox One и PC одинаковые.\n",
    "\n",
    "H0: Средние пользовательские рейтинги платформ Xbox One и PC равны\n",
    "\n",
    "H1: Средние пользовательские рейтинги платформ Xbox One и PC отличаются"
   ]
  },
  {
   "cell_type": "code",
   "execution_count": 72,
   "metadata": {},
   "outputs": [
    {
     "name": "stdout",
     "output_type": "stream",
     "text": [
      "p-значение: 1.751901366556751e-05\n",
      "Отвергаем нулевую гипотезу\n"
     ]
    }
   ],
   "source": [
    "# критический уровень статистической значимости\n",
    "alpha = .05\n",
    "\n",
    "results = st.ttest_ind(games_data_xbox_one['user_score'], games_data_pc['user_score'], equal_var = True)\n",
    "\n",
    "print('p-значение:', results.pvalue) \n",
    "\n",
    "if (results.pvalue < alpha):\n",
    "    print(\"Отвергаем нулевую гипотезу\")\n",
    "else:\n",
    "    print(\"Не получилось отвергнуть нулевую гипотезу\")"
   ]
  },
  {
   "cell_type": "code",
   "execution_count": 73,
   "metadata": {},
   "outputs": [],
   "source": [
    "games_data_action = games_data_hypothesis.query('genre == \"Action\"')\n",
    "games_data_sports = games_data_hypothesis.query('genre == \"Sports\"')"
   ]
  },
  {
   "cell_type": "code",
   "execution_count": 74,
   "metadata": {},
   "outputs": [
    {
     "name": "stdout",
     "output_type": "stream",
     "text": [
      "Дисперсия выборки Action: 6.674591392326689\n",
      "Дисперсия выборки Sports: 9.166650182426226\n"
     ]
    }
   ],
   "source": [
    "print('Дисперсия выборки Action:', np.var(games_data_action['user_score']))\n",
    "print('Дисперсия выборки Sports:', np.var(games_data_sports['user_score']))"
   ]
  },
  {
   "cell_type": "markdown",
   "metadata": {},
   "source": [
    "Гипотеза о том, что средние пользовательские рейтинги жанров Action и Sports разные.\n",
    "\n",
    "H0: Средние пользовательские рейтинги жанров Action и Sports НЕ различается\n",
    "\n",
    "H1: Средние пользовательские рейтинги жанров Action и Sports различается"
   ]
  },
  {
   "cell_type": "code",
   "execution_count": 75,
   "metadata": {},
   "outputs": [
    {
     "name": "stdout",
     "output_type": "stream",
     "text": [
      "p-значение: 5.991658848324538e-06\n",
      "Отвергаем нулевую гипотезу\n"
     ]
    }
   ],
   "source": [
    "# критический уровень статистической значимости\n",
    "alpha = .05\n",
    "\n",
    "results = st.ttest_ind(games_data_action['user_score'], games_data_sports['user_score'], equal_var = False)\n",
    "\n",
    "print('p-значение:', results.pvalue) \n",
    "\n",
    "if (results.pvalue < alpha):\n",
    "    print(\"Отвергаем нулевую гипотезу\")\n",
    "else:\n",
    "    print(\"Не получилось отвергнуть нулевую гипотезу\")"
   ]
  },
  {
   "cell_type": "markdown",
   "metadata": {},
   "source": [
    "### Выводы к пятому шагу\n",
    "\n",
    "В данном пункте проверялось две гипотезы:\n",
    "* гипотеза о том, что средние пользовательские рейтинги платформ Xbox One и PC одинаковые.\n",
    "* гипотеза о том, что средние пользовательские рейтинги жанров Action и Sports разные.\n",
    "\n",
    "В результате проверки гипотез установлено, что:\n",
    "* Средние пользовательские рейтинги платформ Xbox One и PC **отличаются**\n",
    "* Средние пользовательские рейтинги жанров Action и Sports **различается**\n",
    "\n",
    "Параметр _alpha = .05_ задавался исходя из его стандартного значения.\n",
    "Аргумент _equal_var = True_ использовался в таком виде, т. к. дисперсии выборок были близки друг к другу."
   ]
  },
  {
   "cell_type": "markdown",
   "metadata": {},
   "source": [
    "## Шаг 6. Напишите общий вывод"
   ]
  },
  {
   "cell_type": "markdown",
   "metadata": {},
   "source": [
    "В результате проделанной работы можно сделать следующие выводы:\n",
    "\n",
    "\n",
    "В начале был открыт датасет содержащий информацию о компьютерных играх: название, платформа на которой продавалась игра, дата выпуска, жанр, сумма продаж в зависимости от региона, оценка пользователей и критиков, а также возрастной рейтинг. Датасет состоит из 16 715 строк, преимущественно текстового типа и типа float, также видно что в датасете есть пропуски.\n",
    "\n",
    "Во втором шаге были переименованы, согласно заданию, столбцы (приведены к нижнему регистру). Удалены строки с пропусками в столбцах _genre_ и _name,_ т. к. всего таких сроки - 2 штуки. Пропуски в столбцах _critic_score_ и _user_score_ не трогал, что бы не искажать данные. Значение _K-A_ столбца _rating_ заменили на _E,_ т. к. _K-A_ устаревшее обозначение. Игр, без указания года оказалось 1.61%, трогать их не будем, т. к. в итоге рассматриваем игры за конкретный период. Столбуц _critic_score_ привел к целочисленному типу. В столбце _user_score_ значения **tbd** _(предстоит определить)_ заменил на _0,_ т. к. данные игры ещё не были оценены. Пропусков в датасете не найдено. И в заключении была вычеслены общая сумма продаж по всем регионам.\n",
    "\n",
    "В результате проведения исследовательского анализа делаем выводы:\n",
    "* из гистограммы делаем вывод что количество выпускаемых игр резко увеличилось с 2002 года.\n",
    "* из графиков делаем следующие выводы:\n",
    " * пик продаж игр платформы PS2 приходится на 2001 - 2006 годы\n",
    " * пик продаж игр платформы Х360 приходится на 2007 - 2013 годы\n",
    " * пик продаж игр платформы PS3 приходится на 2007 - 2014 годы\n",
    " * пик продаж игр платформы Wii приходится на 2006 - 2011 годы\n",
    " * пик продаж игр платформы DS приходится на 2005 - 2010 годы\n",
    "* на оснавании полученных выше данных выбираем для исследования следующий период: 2006 - 2014 г.\n",
    "* из диаграммы размаха можно сделать следующие выводы:\n",
    " * большая часть проданных игр платформы PS4 лежит в диапазоне: 0,1 - 1,1 миллионов, медиана лежит на уровне 0,3 миллионов\n",
    " * большая часть проданных игр платформы PS3 лежит в диапазоне: 0,05 - 0,57 миллионов, медиана лежит на уровне 0,2 миллионов\n",
    " * большая часть проданных игр платформы X360 лежит в диапазоне: 0,1 - 0,9 миллионов, медиана лежит на уровне 0,3 миллионов\n",
    " * большая часть проданных игр платформы XOne лежит в диапазоне: 0,15 - 1,15 миллионов, медиана лежит на уровне 0,35 миллионов\n",
    " * большая часть проданных игр платформы 3DS лежит в диапазоне: 0,04 - 0,3 миллионов, медиана лежит на уровне 0,1 миллионов\n",
    "* из диаграммы размаха можно сделать следующие выводы:\n",
    " * большая часть проданных игр платформы WiiU лежит в диапазоне: 0,05 - 0,6 миллионов, медиана лежит на уровне 0,2 миллионов\n",
    " * большая часть проданных игр платформы PC лежит в диапазоне: 0,02 - 0,28 миллионов, медиана лежит на уровне 0,1 миллионов\n",
    " * большая часть проданных игр платформы PSV лежит в диапазоне: 0,01 - 0,13 миллионов, медиана лежит на уровне 0,05 миллионов\n",
    "\n",
    "* из графика зависимоти оценки критиков от общей выручки платформы PS4 можно сделать вывод о том, что чем выше оценка критиков, тем выше продажи игры. Оценки от 60 - 70 баллов уже достаточно неплохо влияют на количество проданых игр. Из графика зависимоти оценки пользователей от общей выручки платформы PS4 можно сделать вывод о том, что чем выше оценка пользователей, тем выше продажи игры. С помощью коэфициента корреляции делаем вывод, что в целом эта зависимость положительная, связь относится к категории слабой. Также примечателен тот факт, что оценка критиков влияет практически также на продажи игры, как и оценка пользователей.\n",
    "\n",
    "* из графика зависимоти оценки критиков от общей выручки платформы X360 можно сделать вывод о том, что чем выше оценка критиков, тем выше продажи игры. Оценки от 70 - 80 баллов влияют на количество проданых игр. Из графика зависимоти оценки пользователей от общей выручки платформы X360 можно сделать вывод о том, что чем выше оценка пользователей, тем выше продажи игры. Однако с помощью коэфициента корреляции делаем вывод, что в целом эта зависимость хоть и положительная, но не сильно большая. Также примечателен тот факт, что оценка пользователей практически не влияет на продажи игры. Также сравнивая с показателями платформы PS4 делаем вывод что показатели платформы X360 менее явные.\n",
    "\n",
    "* из графика зависимоти оценки критиков от общей выручки платформы 3DS можно сделать вывод о том, что чем выше оценка критиков, тем выше продажи игры. Из графика зависимоти оценки пользователей от общей выручки платформы 3DS можно сделать вывод о том, что чем выше оценка пользователей, тем выше продажи игры. Однако с помощью коэфициента корреляции делаем вывод, что в целом эта зависимость хоть и положительная, но не сильно большая, относится к категории слабой связи. Также примечателен тот факт, что оценка критиков практически в равной степени влияет на продажи игры, как и оценка пользователей. Примечателен тот факт, что у популярной платнофмы PS4 связь между оценками польхователей и критиков сильнее чем у платформы 3DS. Но при этом критики и пользователи в равной степени влияют на продажи.\n",
    "\n",
    "* из полученныз данных делаем вывод что наиболее востребованными являются жанры: Action, Sports, Shooter. Наименее востребованными являются жанры Puzzle и Strategy.\n",
    "\n",
    "Портрет пользователя каждого региона выглядит следующим образом:\n",
    "\n",
    "В Европе более популярны:\n",
    "* платформы:\n",
    " * PS2\n",
    " * PS3\n",
    " * X360\n",
    " * Wii\n",
    " * PS\n",
    "* жанры:\n",
    " * Action\n",
    " * Sports\n",
    " * Shooter\n",
    " * Racing\n",
    " * Misc\n",
    "* рейтинг:\n",
    " * E\n",
    " * M\n",
    " * T\n",
    " * E10+\n",
    " * AO\n",
    "\n",
    "В Северной Америке более популярны:\n",
    "* платформы:\n",
    " * X360\n",
    " * PS2\n",
    " * Wii\n",
    " * PS3\n",
    " * DS\n",
    "* жанры:\n",
    " * Action\n",
    " * Sports\n",
    " * Shooter\n",
    " * Platform\n",
    " * Misc\n",
    "* рейтинг:\n",
    " * E\n",
    " * T\n",
    " * M\n",
    " * E10+\n",
    " * EC\n",
    "\n",
    "В Японии более популярны:\n",
    "* платформы:\n",
    " * DS\n",
    " * PS\n",
    " * PS2\n",
    " * SNES\n",
    " * 3DS\n",
    "* жанры:\n",
    " * Role-Playing\t\n",
    " * Action\n",
    " * Sports\n",
    " * Platform\n",
    " * Misc\n",
    "* рейтинг:\n",
    " * E\n",
    " * T\n",
    " * M\n",
    " * E10+\n",
    " * AO\n",
    "\n",
    "\n",
    "В заключении были проверены две гипотезы:\n",
    "* гипотеза о том, что средние пользовательские рейтинги платформ Xbox One и PC одинаковые.\n",
    "* гипотеза о том, что средние пользовательские рейтинги жанров Action и Sports разные.\n",
    "\n",
    "В результате проверки гипотез установлено, что:\n",
    "* Средние пользовательские рейтинги платформ Xbox One и PC **отличаются**\n",
    "* Средние пользовательские рейтинги жанров Action и Sports **различается**"
   ]
  }
 ],
 "metadata": {
  "kernelspec": {
   "display_name": "Python 3",
   "language": "python",
   "name": "python3"
  },
  "language_info": {
   "codemirror_mode": {
    "name": "ipython",
    "version": 3
   },
   "file_extension": ".py",
   "mimetype": "text/x-python",
   "name": "python",
   "nbconvert_exporter": "python",
   "pygments_lexer": "ipython3",
   "version": "3.8.5"
  },
  "toc": {
   "base_numbering": 1,
   "nav_menu": {},
   "number_sections": true,
   "sideBar": true,
   "skip_h1_title": true,
   "title_cell": "Table of Contents",
   "title_sidebar": "Contents",
   "toc_cell": false,
   "toc_position": {},
   "toc_section_display": true,
   "toc_window_display": false
  }
 },
 "nbformat": 4,
 "nbformat_minor": 2
}
