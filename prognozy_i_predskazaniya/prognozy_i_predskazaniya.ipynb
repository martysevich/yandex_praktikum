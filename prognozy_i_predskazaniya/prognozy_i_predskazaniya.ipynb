{
 "cells": [
  {
   "cell_type": "markdown",
   "metadata": {},
   "source": [
    "# Задача\n",
    "\n",
    "Сеть фитнес-центров «Культурист-датасаентист» разрабатывает стратегию взаимодействия с клиентами на основе аналитических данных.\n",
    "\n",
    "Распространённая проблема фитнес-клубов и других сервисов — отток клиентов. Как понять, что клиент больше не с вами? Можно записать в отток тех, кто попросил закрыть договор или удалил аккаунт. Однако клиенты не всегда уходят демонстративно: чаще перестают пользоваться сервисом тихо.\n",
    "\n",
    "Индикаторы оттока зависят от специфики отрасли. Когда пользователь редко, но стабильно закупается в интернет-магазине — не похоже, что он «отвалился». А вот если две недели не заходит на канал с ежедневно обновляемым контентом, дела плохи: подписчик заскучал и, кажется, оставил вас.\n",
    "\n",
    "Для фитнес-центра можно считать, что клиент попал в отток, если за последний месяц ни разу не посетил спортзал. Конечно, не исключено, что он уехал на Бали и по приезде обязательно продолжит ходить на фитнес. Однако чаще бывает наоборот. Если клиент начал новую жизнь с понедельника, немного походил в спортзал, а потом пропал — скорее всего, он не вернётся.\n",
    "\n",
    "Чтобы бороться с оттоком, отдел по работе с клиентами «Культуриста-датасаентиста» перевёл в электронный вид множество клиентских анкет. Ваша задача — провести анализ и подготовить план действий по удержанию клиентов."
   ]
  },
  {
   "cell_type": "markdown",
   "metadata": {},
   "source": [
    "**Набор данных включает следующие поля:**\n",
    "* _'Churn'_ — факт оттока в текущем месяце;\n",
    "* Текущие поля в датасете:\n",
    " * Данные клиента за предыдущий до проверки факта оттока месяц:\n",
    "   * _'gender'_ — пол;\n",
    "   * _'Near_Location'_ — проживание или работа в районе, где находится фитнес-центр;\n",
    "   * _'Partner'_ — сотрудник компании-партнёра клуба (сотрудничество с компаниями, чьи сотрудники могут получать скидки на абонемент — в таком случае фитнес-центр хранит информацию о работодателе клиента);\n",
    "   * _Promo_friends_ — факт первоначальной записи в рамках акции «приведи друга» (использовал промо-код от знакомого при оплате первого абонемента);\n",
    "   * _'Phone'_ — наличие контактного телефона;\n",
    "   * _'Age'_ — возраст;\n",
    "   * _'Lifetime'_ — время с момента первого обращения в фитнес-центр (в месяцах).\n",
    "* Информация на основе журнала посещений, покупок и информация о текущем статусе абонемента клиента:\n",
    "  * _'Contract_period'_ — длительность текущего действующего абонемента (месяц, 3 месяца, 6 месяцев, год);\n",
    "  * _'Month_to_end_contract'_ — срок до окончания текущего действующего абонемента (в месяцах);\n",
    "  * _'Group_visits'_ — факт посещения групповых занятий;\n",
    "  * _'Avg_class_frequency_total'_ — средняя частота посещений в неделю за все время с начала действия абонемента;\n",
    "  * _'Avg_class_frequency_current_month'_ — средняя частота посещений в неделю за предыдущий месяц;\n",
    "  * _'Avg_additional_charges_total'_ — суммарная выручка от других услуг фитнес-центра: кафе, спорт-товары, косметический и массажный салон."
   ]
  },
  {
   "cell_type": "markdown",
   "metadata": {},
   "source": [
    "# Содержание\n",
    "\n",
    "[Шаг 1. Загрузка данных](#Шаг-1.-Загрузка-данных)\n",
    "\n",
    "[Шаг 2. Проведение исследовательского анализа данных (EDA)](#Шаг-2.-Проведение-исследовательского-анализа-данных-(EDA))\n",
    "\n",
    "[Выводы к шагу 2](#Выводы-к-шагу-2)\n",
    "\n",
    "[Шаг 3. Построение модели прогнозирования оттока клиентов](#Шаг-3.-Построение-модели-прогнозирования-оттока-клиентов)\n",
    "\n",
    "[Выводы к шагу 3](#Выводы-к-шагу-3)\n",
    "\n",
    "[Шаг 4. Кластеризация клиентов](#Шаг-4.-Кластеризация-клиентов)\n",
    "\n",
    "[Выводы к шагу 4](#Выводы-к-шагу-4)\n",
    "\n",
    "[Общий вывод](#Общий-вывод)"
   ]
  },
  {
   "cell_type": "markdown",
   "metadata": {},
   "source": [
    "# Шаг 1. Загрузка данных"
   ]
  },
  {
   "cell_type": "code",
   "execution_count": 1,
   "metadata": {
    "scrolled": false
   },
   "outputs": [],
   "source": [
    "# подключим необходимые библиотеки\n",
    "import matplotlib.pyplot as plt\n",
    "import seaborn as sns\n",
    "import pandas as pd\n",
    "import numpy as np\n",
    "import warnings\n",
    "\n",
    "from sklearn.metrics import accuracy_score, precision_score, recall_score, f1_score\n",
    "from scipy.cluster.hierarchy import dendrogram, linkage\n",
    "from sklearn.model_selection import train_test_split\n",
    "from sklearn.linear_model import LogisticRegression\n",
    "from sklearn.ensemble import RandomForestClassifier\n",
    "from sklearn.preprocessing import StandardScaler\n",
    "from sklearn.cluster import KMeans"
   ]
  },
  {
   "cell_type": "code",
   "execution_count": 2,
   "metadata": {
    "scrolled": false
   },
   "outputs": [],
   "source": [
    "warnings.filterwarnings(\"ignore\")"
   ]
  },
  {
   "cell_type": "code",
   "execution_count": 3,
   "metadata": {
    "scrolled": false
   },
   "outputs": [],
   "source": [
    "fitness = pd.read_csv('/datasets/gym_churn.csv')"
   ]
  },
  {
   "cell_type": "code",
   "execution_count": 4,
   "metadata": {
    "scrolled": false
   },
   "outputs": [
    {
     "data": {
      "text/html": [
       "<div>\n",
       "<style scoped>\n",
       "    .dataframe tbody tr th:only-of-type {\n",
       "        vertical-align: middle;\n",
       "    }\n",
       "\n",
       "    .dataframe tbody tr th {\n",
       "        vertical-align: top;\n",
       "    }\n",
       "\n",
       "    .dataframe thead th {\n",
       "        text-align: right;\n",
       "    }\n",
       "</style>\n",
       "<table border=\"1\" class=\"dataframe\">\n",
       "  <thead>\n",
       "    <tr style=\"text-align: right;\">\n",
       "      <th></th>\n",
       "      <th>gender</th>\n",
       "      <th>Near_Location</th>\n",
       "      <th>Partner</th>\n",
       "      <th>Promo_friends</th>\n",
       "      <th>Phone</th>\n",
       "      <th>Contract_period</th>\n",
       "      <th>Group_visits</th>\n",
       "      <th>Age</th>\n",
       "      <th>Avg_additional_charges_total</th>\n",
       "      <th>Month_to_end_contract</th>\n",
       "      <th>Lifetime</th>\n",
       "      <th>Avg_class_frequency_total</th>\n",
       "      <th>Avg_class_frequency_current_month</th>\n",
       "      <th>Churn</th>\n",
       "    </tr>\n",
       "  </thead>\n",
       "  <tbody>\n",
       "    <tr>\n",
       "      <td>0</td>\n",
       "      <td>1</td>\n",
       "      <td>1</td>\n",
       "      <td>1</td>\n",
       "      <td>1</td>\n",
       "      <td>0</td>\n",
       "      <td>6</td>\n",
       "      <td>1</td>\n",
       "      <td>29</td>\n",
       "      <td>14.227470</td>\n",
       "      <td>5.0</td>\n",
       "      <td>3</td>\n",
       "      <td>0.020398</td>\n",
       "      <td>0.000000</td>\n",
       "      <td>0</td>\n",
       "    </tr>\n",
       "    <tr>\n",
       "      <td>1</td>\n",
       "      <td>0</td>\n",
       "      <td>1</td>\n",
       "      <td>0</td>\n",
       "      <td>0</td>\n",
       "      <td>1</td>\n",
       "      <td>12</td>\n",
       "      <td>1</td>\n",
       "      <td>31</td>\n",
       "      <td>113.202938</td>\n",
       "      <td>12.0</td>\n",
       "      <td>7</td>\n",
       "      <td>1.922936</td>\n",
       "      <td>1.910244</td>\n",
       "      <td>0</td>\n",
       "    </tr>\n",
       "    <tr>\n",
       "      <td>2</td>\n",
       "      <td>0</td>\n",
       "      <td>1</td>\n",
       "      <td>1</td>\n",
       "      <td>0</td>\n",
       "      <td>1</td>\n",
       "      <td>1</td>\n",
       "      <td>0</td>\n",
       "      <td>28</td>\n",
       "      <td>129.448479</td>\n",
       "      <td>1.0</td>\n",
       "      <td>2</td>\n",
       "      <td>1.859098</td>\n",
       "      <td>1.736502</td>\n",
       "      <td>0</td>\n",
       "    </tr>\n",
       "    <tr>\n",
       "      <td>3</td>\n",
       "      <td>0</td>\n",
       "      <td>1</td>\n",
       "      <td>1</td>\n",
       "      <td>1</td>\n",
       "      <td>1</td>\n",
       "      <td>12</td>\n",
       "      <td>1</td>\n",
       "      <td>33</td>\n",
       "      <td>62.669863</td>\n",
       "      <td>12.0</td>\n",
       "      <td>2</td>\n",
       "      <td>3.205633</td>\n",
       "      <td>3.357215</td>\n",
       "      <td>0</td>\n",
       "    </tr>\n",
       "    <tr>\n",
       "      <td>4</td>\n",
       "      <td>1</td>\n",
       "      <td>1</td>\n",
       "      <td>1</td>\n",
       "      <td>1</td>\n",
       "      <td>1</td>\n",
       "      <td>1</td>\n",
       "      <td>0</td>\n",
       "      <td>26</td>\n",
       "      <td>198.362265</td>\n",
       "      <td>1.0</td>\n",
       "      <td>3</td>\n",
       "      <td>1.113884</td>\n",
       "      <td>1.120078</td>\n",
       "      <td>0</td>\n",
       "    </tr>\n",
       "  </tbody>\n",
       "</table>\n",
       "</div>"
      ],
      "text/plain": [
       "   gender  Near_Location  Partner  Promo_friends  Phone  Contract_period  \\\n",
       "0       1              1        1              1      0                6   \n",
       "1       0              1        0              0      1               12   \n",
       "2       0              1        1              0      1                1   \n",
       "3       0              1        1              1      1               12   \n",
       "4       1              1        1              1      1                1   \n",
       "\n",
       "   Group_visits  Age  Avg_additional_charges_total  Month_to_end_contract  \\\n",
       "0             1   29                     14.227470                    5.0   \n",
       "1             1   31                    113.202938                   12.0   \n",
       "2             0   28                    129.448479                    1.0   \n",
       "3             1   33                     62.669863                   12.0   \n",
       "4             0   26                    198.362265                    1.0   \n",
       "\n",
       "   Lifetime  Avg_class_frequency_total  Avg_class_frequency_current_month  \\\n",
       "0         3                   0.020398                           0.000000   \n",
       "1         7                   1.922936                           1.910244   \n",
       "2         2                   1.859098                           1.736502   \n",
       "3         2                   3.205633                           3.357215   \n",
       "4         3                   1.113884                           1.120078   \n",
       "\n",
       "   Churn  \n",
       "0      0  \n",
       "1      0  \n",
       "2      0  \n",
       "3      0  \n",
       "4      0  "
      ]
     },
     "execution_count": 4,
     "metadata": {},
     "output_type": "execute_result"
    }
   ],
   "source": [
    "fitness.head()"
   ]
  },
  {
   "cell_type": "markdown",
   "metadata": {},
   "source": [
    "# Шаг 2. Проведение исследовательского анализа данных (EDA)"
   ]
  },
  {
   "cell_type": "code",
   "execution_count": 5,
   "metadata": {
    "scrolled": false
   },
   "outputs": [],
   "source": [
    "fitness.columns = fitness.columns.str.lower().str.replace(' ', '_')"
   ]
  },
  {
   "cell_type": "code",
   "execution_count": 6,
   "metadata": {
    "scrolled": false
   },
   "outputs": [
    {
     "data": {
      "text/plain": [
       "(4000, 14)"
      ]
     },
     "execution_count": 6,
     "metadata": {},
     "output_type": "execute_result"
    }
   ],
   "source": [
    "fitness.shape"
   ]
  },
  {
   "cell_type": "code",
   "execution_count": 7,
   "metadata": {
    "scrolled": false
   },
   "outputs": [
    {
     "name": "stdout",
     "output_type": "stream",
     "text": [
      "<class 'pandas.core.frame.DataFrame'>\n",
      "RangeIndex: 4000 entries, 0 to 3999\n",
      "Data columns (total 14 columns):\n",
      "gender                               4000 non-null int64\n",
      "near_location                        4000 non-null int64\n",
      "partner                              4000 non-null int64\n",
      "promo_friends                        4000 non-null int64\n",
      "phone                                4000 non-null int64\n",
      "contract_period                      4000 non-null int64\n",
      "group_visits                         4000 non-null int64\n",
      "age                                  4000 non-null int64\n",
      "avg_additional_charges_total         4000 non-null float64\n",
      "month_to_end_contract                4000 non-null float64\n",
      "lifetime                             4000 non-null int64\n",
      "avg_class_frequency_total            4000 non-null float64\n",
      "avg_class_frequency_current_month    4000 non-null float64\n",
      "churn                                4000 non-null int64\n",
      "dtypes: float64(4), int64(10)\n",
      "memory usage: 437.6 KB\n"
     ]
    }
   ],
   "source": [
    "fitness.info()"
   ]
  },
  {
   "cell_type": "code",
   "execution_count": 8,
   "metadata": {
    "scrolled": false
   },
   "outputs": [
    {
     "data": {
      "text/plain": [
       "gender                               0\n",
       "near_location                        0\n",
       "partner                              0\n",
       "promo_friends                        0\n",
       "phone                                0\n",
       "contract_period                      0\n",
       "group_visits                         0\n",
       "age                                  0\n",
       "avg_additional_charges_total         0\n",
       "month_to_end_contract                0\n",
       "lifetime                             0\n",
       "avg_class_frequency_total            0\n",
       "avg_class_frequency_current_month    0\n",
       "churn                                0\n",
       "dtype: int64"
      ]
     },
     "execution_count": 8,
     "metadata": {},
     "output_type": "execute_result"
    }
   ],
   "source": [
    "fitness.isnull().sum()"
   ]
  },
  {
   "cell_type": "code",
   "execution_count": 9,
   "metadata": {
    "scrolled": false
   },
   "outputs": [
    {
     "data": {
      "text/plain": [
       "0"
      ]
     },
     "execution_count": 9,
     "metadata": {},
     "output_type": "execute_result"
    }
   ],
   "source": [
    "fitness.duplicated().sum()"
   ]
  },
  {
   "cell_type": "code",
   "execution_count": 31,
   "metadata": {
    "scrolled": false
   },
   "outputs": [
    {
     "data": {
      "text/html": [
       "<div>\n",
       "<style scoped>\n",
       "    .dataframe tbody tr th:only-of-type {\n",
       "        vertical-align: middle;\n",
       "    }\n",
       "\n",
       "    .dataframe tbody tr th {\n",
       "        vertical-align: top;\n",
       "    }\n",
       "\n",
       "    .dataframe thead th {\n",
       "        text-align: right;\n",
       "    }\n",
       "</style>\n",
       "<table border=\"1\" class=\"dataframe\">\n",
       "  <thead>\n",
       "    <tr style=\"text-align: right;\">\n",
       "      <th></th>\n",
       "      <th>gender</th>\n",
       "      <th>near_location</th>\n",
       "      <th>partner</th>\n",
       "      <th>promo_friends</th>\n",
       "      <th>phone</th>\n",
       "      <th>contract_period</th>\n",
       "      <th>group_visits</th>\n",
       "      <th>age</th>\n",
       "      <th>avg_additional_charges_total</th>\n",
       "      <th>month_to_end_contract</th>\n",
       "      <th>lifetime</th>\n",
       "      <th>avg_class_frequency_total</th>\n",
       "      <th>avg_class_frequency_current_month</th>\n",
       "      <th>churn</th>\n",
       "      <th>cluster</th>\n",
       "    </tr>\n",
       "  </thead>\n",
       "  <tbody>\n",
       "    <tr>\n",
       "      <td>count</td>\n",
       "      <td>4000.000000</td>\n",
       "      <td>4000.000000</td>\n",
       "      <td>4000.000000</td>\n",
       "      <td>4000.000000</td>\n",
       "      <td>4000.000000</td>\n",
       "      <td>4000.000000</td>\n",
       "      <td>4000.000000</td>\n",
       "      <td>4000.000000</td>\n",
       "      <td>4000.000000</td>\n",
       "      <td>4000.000000</td>\n",
       "      <td>4000.000000</td>\n",
       "      <td>4000.000000</td>\n",
       "      <td>4000.000000</td>\n",
       "      <td>4000.000000</td>\n",
       "      <td>4000.000000</td>\n",
       "    </tr>\n",
       "    <tr>\n",
       "      <td>mean</td>\n",
       "      <td>0.510250</td>\n",
       "      <td>0.845250</td>\n",
       "      <td>0.486750</td>\n",
       "      <td>0.308500</td>\n",
       "      <td>0.903500</td>\n",
       "      <td>4.681250</td>\n",
       "      <td>0.412250</td>\n",
       "      <td>29.184250</td>\n",
       "      <td>146.943728</td>\n",
       "      <td>4.322750</td>\n",
       "      <td>3.724750</td>\n",
       "      <td>1.879020</td>\n",
       "      <td>1.767052</td>\n",
       "      <td>0.265250</td>\n",
       "      <td>1.669000</td>\n",
       "    </tr>\n",
       "    <tr>\n",
       "      <td>std</td>\n",
       "      <td>0.499957</td>\n",
       "      <td>0.361711</td>\n",
       "      <td>0.499887</td>\n",
       "      <td>0.461932</td>\n",
       "      <td>0.295313</td>\n",
       "      <td>4.549706</td>\n",
       "      <td>0.492301</td>\n",
       "      <td>3.258367</td>\n",
       "      <td>96.355602</td>\n",
       "      <td>4.191297</td>\n",
       "      <td>3.749267</td>\n",
       "      <td>0.972245</td>\n",
       "      <td>1.052906</td>\n",
       "      <td>0.441521</td>\n",
       "      <td>1.418253</td>\n",
       "    </tr>\n",
       "    <tr>\n",
       "      <td>min</td>\n",
       "      <td>0.000000</td>\n",
       "      <td>0.000000</td>\n",
       "      <td>0.000000</td>\n",
       "      <td>0.000000</td>\n",
       "      <td>0.000000</td>\n",
       "      <td>1.000000</td>\n",
       "      <td>0.000000</td>\n",
       "      <td>18.000000</td>\n",
       "      <td>0.148205</td>\n",
       "      <td>1.000000</td>\n",
       "      <td>0.000000</td>\n",
       "      <td>0.000000</td>\n",
       "      <td>0.000000</td>\n",
       "      <td>0.000000</td>\n",
       "      <td>0.000000</td>\n",
       "    </tr>\n",
       "    <tr>\n",
       "      <td>25%</td>\n",
       "      <td>0.000000</td>\n",
       "      <td>1.000000</td>\n",
       "      <td>0.000000</td>\n",
       "      <td>0.000000</td>\n",
       "      <td>1.000000</td>\n",
       "      <td>1.000000</td>\n",
       "      <td>0.000000</td>\n",
       "      <td>27.000000</td>\n",
       "      <td>68.868830</td>\n",
       "      <td>1.000000</td>\n",
       "      <td>1.000000</td>\n",
       "      <td>1.180875</td>\n",
       "      <td>0.963003</td>\n",
       "      <td>0.000000</td>\n",
       "      <td>0.000000</td>\n",
       "    </tr>\n",
       "    <tr>\n",
       "      <td>50%</td>\n",
       "      <td>1.000000</td>\n",
       "      <td>1.000000</td>\n",
       "      <td>0.000000</td>\n",
       "      <td>0.000000</td>\n",
       "      <td>1.000000</td>\n",
       "      <td>1.000000</td>\n",
       "      <td>0.000000</td>\n",
       "      <td>29.000000</td>\n",
       "      <td>136.220159</td>\n",
       "      <td>1.000000</td>\n",
       "      <td>3.000000</td>\n",
       "      <td>1.832768</td>\n",
       "      <td>1.719574</td>\n",
       "      <td>0.000000</td>\n",
       "      <td>1.000000</td>\n",
       "    </tr>\n",
       "    <tr>\n",
       "      <td>75%</td>\n",
       "      <td>1.000000</td>\n",
       "      <td>1.000000</td>\n",
       "      <td>1.000000</td>\n",
       "      <td>1.000000</td>\n",
       "      <td>1.000000</td>\n",
       "      <td>6.000000</td>\n",
       "      <td>1.000000</td>\n",
       "      <td>31.000000</td>\n",
       "      <td>210.949625</td>\n",
       "      <td>6.000000</td>\n",
       "      <td>5.000000</td>\n",
       "      <td>2.536078</td>\n",
       "      <td>2.510336</td>\n",
       "      <td>1.000000</td>\n",
       "      <td>3.000000</td>\n",
       "    </tr>\n",
       "    <tr>\n",
       "      <td>max</td>\n",
       "      <td>1.000000</td>\n",
       "      <td>1.000000</td>\n",
       "      <td>1.000000</td>\n",
       "      <td>1.000000</td>\n",
       "      <td>1.000000</td>\n",
       "      <td>12.000000</td>\n",
       "      <td>1.000000</td>\n",
       "      <td>41.000000</td>\n",
       "      <td>552.590740</td>\n",
       "      <td>12.000000</td>\n",
       "      <td>31.000000</td>\n",
       "      <td>6.023668</td>\n",
       "      <td>6.146783</td>\n",
       "      <td>1.000000</td>\n",
       "      <td>4.000000</td>\n",
       "    </tr>\n",
       "  </tbody>\n",
       "</table>\n",
       "</div>"
      ],
      "text/plain": [
       "            gender  near_location      partner  promo_friends        phone  \\\n",
       "count  4000.000000    4000.000000  4000.000000    4000.000000  4000.000000   \n",
       "mean      0.510250       0.845250     0.486750       0.308500     0.903500   \n",
       "std       0.499957       0.361711     0.499887       0.461932     0.295313   \n",
       "min       0.000000       0.000000     0.000000       0.000000     0.000000   \n",
       "25%       0.000000       1.000000     0.000000       0.000000     1.000000   \n",
       "50%       1.000000       1.000000     0.000000       0.000000     1.000000   \n",
       "75%       1.000000       1.000000     1.000000       1.000000     1.000000   \n",
       "max       1.000000       1.000000     1.000000       1.000000     1.000000   \n",
       "\n",
       "       contract_period  group_visits          age  \\\n",
       "count      4000.000000   4000.000000  4000.000000   \n",
       "mean          4.681250      0.412250    29.184250   \n",
       "std           4.549706      0.492301     3.258367   \n",
       "min           1.000000      0.000000    18.000000   \n",
       "25%           1.000000      0.000000    27.000000   \n",
       "50%           1.000000      0.000000    29.000000   \n",
       "75%           6.000000      1.000000    31.000000   \n",
       "max          12.000000      1.000000    41.000000   \n",
       "\n",
       "       avg_additional_charges_total  month_to_end_contract     lifetime  \\\n",
       "count                   4000.000000            4000.000000  4000.000000   \n",
       "mean                     146.943728               4.322750     3.724750   \n",
       "std                       96.355602               4.191297     3.749267   \n",
       "min                        0.148205               1.000000     0.000000   \n",
       "25%                       68.868830               1.000000     1.000000   \n",
       "50%                      136.220159               1.000000     3.000000   \n",
       "75%                      210.949625               6.000000     5.000000   \n",
       "max                      552.590740              12.000000    31.000000   \n",
       "\n",
       "       avg_class_frequency_total  avg_class_frequency_current_month  \\\n",
       "count                4000.000000                        4000.000000   \n",
       "mean                    1.879020                           1.767052   \n",
       "std                     0.972245                           1.052906   \n",
       "min                     0.000000                           0.000000   \n",
       "25%                     1.180875                           0.963003   \n",
       "50%                     1.832768                           1.719574   \n",
       "75%                     2.536078                           2.510336   \n",
       "max                     6.023668                           6.146783   \n",
       "\n",
       "             churn      cluster  \n",
       "count  4000.000000  4000.000000  \n",
       "mean      0.265250     1.669000  \n",
       "std       0.441521     1.418253  \n",
       "min       0.000000     0.000000  \n",
       "25%       0.000000     0.000000  \n",
       "50%       0.000000     1.000000  \n",
       "75%       1.000000     3.000000  \n",
       "max       1.000000     4.000000  "
      ]
     },
     "execution_count": 31,
     "metadata": {},
     "output_type": "execute_result"
    }
   ],
   "source": [
    "fitness.describe()"
   ]
  },
  {
   "cell_type": "code",
   "execution_count": 11,
   "metadata": {
    "scrolled": false
   },
   "outputs": [
    {
     "data": {
      "text/html": [
       "<div>\n",
       "<style scoped>\n",
       "    .dataframe tbody tr th:only-of-type {\n",
       "        vertical-align: middle;\n",
       "    }\n",
       "\n",
       "    .dataframe tbody tr th {\n",
       "        vertical-align: top;\n",
       "    }\n",
       "\n",
       "    .dataframe thead th {\n",
       "        text-align: right;\n",
       "    }\n",
       "</style>\n",
       "<table border=\"1\" class=\"dataframe\">\n",
       "  <thead>\n",
       "    <tr style=\"text-align: right;\">\n",
       "      <th>churn</th>\n",
       "      <th>0</th>\n",
       "      <th>1</th>\n",
       "    </tr>\n",
       "  </thead>\n",
       "  <tbody>\n",
       "    <tr>\n",
       "      <td>gender</td>\n",
       "      <td>0.510037</td>\n",
       "      <td>0.510839</td>\n",
       "    </tr>\n",
       "    <tr>\n",
       "      <td>near_location</td>\n",
       "      <td>0.873086</td>\n",
       "      <td>0.768143</td>\n",
       "    </tr>\n",
       "    <tr>\n",
       "      <td>partner</td>\n",
       "      <td>0.534195</td>\n",
       "      <td>0.355325</td>\n",
       "    </tr>\n",
       "    <tr>\n",
       "      <td>promo_friends</td>\n",
       "      <td>0.353522</td>\n",
       "      <td>0.183789</td>\n",
       "    </tr>\n",
       "    <tr>\n",
       "      <td>phone</td>\n",
       "      <td>0.903709</td>\n",
       "      <td>0.902922</td>\n",
       "    </tr>\n",
       "    <tr>\n",
       "      <td>contract_period</td>\n",
       "      <td>5.747193</td>\n",
       "      <td>1.728558</td>\n",
       "    </tr>\n",
       "    <tr>\n",
       "      <td>group_visits</td>\n",
       "      <td>0.464103</td>\n",
       "      <td>0.268615</td>\n",
       "    </tr>\n",
       "    <tr>\n",
       "      <td>age</td>\n",
       "      <td>29.976523</td>\n",
       "      <td>26.989632</td>\n",
       "    </tr>\n",
       "    <tr>\n",
       "      <td>avg_additional_charges_total</td>\n",
       "      <td>158.445715</td>\n",
       "      <td>115.082899</td>\n",
       "    </tr>\n",
       "    <tr>\n",
       "      <td>month_to_end_contract</td>\n",
       "      <td>5.283089</td>\n",
       "      <td>1.662582</td>\n",
       "    </tr>\n",
       "    <tr>\n",
       "      <td>lifetime</td>\n",
       "      <td>4.711807</td>\n",
       "      <td>0.990575</td>\n",
       "    </tr>\n",
       "    <tr>\n",
       "      <td>avg_class_frequency_total</td>\n",
       "      <td>2.024876</td>\n",
       "      <td>1.474995</td>\n",
       "    </tr>\n",
       "    <tr>\n",
       "      <td>avg_class_frequency_current_month</td>\n",
       "      <td>2.027882</td>\n",
       "      <td>1.044546</td>\n",
       "    </tr>\n",
       "  </tbody>\n",
       "</table>\n",
       "</div>"
      ],
      "text/plain": [
       "churn                                       0           1\n",
       "gender                               0.510037    0.510839\n",
       "near_location                        0.873086    0.768143\n",
       "partner                              0.534195    0.355325\n",
       "promo_friends                        0.353522    0.183789\n",
       "phone                                0.903709    0.902922\n",
       "contract_period                      5.747193    1.728558\n",
       "group_visits                         0.464103    0.268615\n",
       "age                                 29.976523   26.989632\n",
       "avg_additional_charges_total       158.445715  115.082899\n",
       "month_to_end_contract                5.283089    1.662582\n",
       "lifetime                             4.711807    0.990575\n",
       "avg_class_frequency_total            2.024876    1.474995\n",
       "avg_class_frequency_current_month    2.027882    1.044546"
      ]
     },
     "execution_count": 11,
     "metadata": {},
     "output_type": "execute_result"
    }
   ],
   "source": [
    "fitness.groupby('churn').mean().T"
   ]
  },
  {
   "cell_type": "code",
   "execution_count": 12,
   "metadata": {
    "scrolled": false
   },
   "outputs": [
    {
     "data": {
      "image/png": "[encoded data removed]",
      "text/plain": [
       "<Figure size 720x360 with 1 Axes>"
      ]
     },
     "metadata": {
      "needs_background": "light"
     },
     "output_type": "display_data"
    },
    {
     "data": {
      "image/png": "[encoded data removed]",
      "text/plain": [
       "<Figure size 720x360 with 1 Axes>"
      ]
     },
     "metadata": {
      "needs_background": "light"
     },
     "output_type": "display_data"
    },
    {
     "data": {
      "image/png": "[encoded data removed]",
      "text/plain": [
       "<Figure size 720x360 with 1 Axes>"
      ]
     },
     "metadata": {
      "needs_background": "light"
     },
     "output_type": "display_data"
    },
    {
     "data": {
      "image/png": "[encoded data removed]",
      "text/plain": [
       "<Figure size 720x360 with 1 Axes>"
      ]
     },
     "metadata": {
      "needs_background": "light"
     },
     "output_type": "display_data"
    },
    {
     "data": {
      "image/png": "[encoded data removed]",
      "text/plain": [
       "<Figure size 720x360 with 1 Axes>"
      ]
     },
     "metadata": {
      "needs_background": "light"
     },
     "output_type": "display_data"
    },
    {
     "data": {
      "image/png": "[encoded data removed]",
      "text/plain": [
       "<Figure size 720x360 with 1 Axes>"
      ]
     },
     "metadata": {
      "needs_background": "light"
     },
     "output_type": "display_data"
    },
    {
     "data": {
      "image/png": "[encoded data removed]",
      "text/plain": [
       "<Figure size 720x360 with 1 Axes>"
      ]
     },
     "metadata": {
      "needs_background": "light"
     },
     "output_type": "display_data"
    },
    {
     "data": {
      "image/png": "[encoded data removed]",
      "text/plain": [
       "<Figure size 720x360 with 1 Axes>"
      ]
     },
     "metadata": {
      "needs_background": "light"
     },
     "output_type": "display_data"
    },
    {
     "data": {
      "image/png": "[encoded data removed]",
      "text/plain": [
       "<Figure size 720x360 with 1 Axes>"
      ]
     },
     "metadata": {
      "needs_background": "light"
     },
     "output_type": "display_data"
    },
    {
     "data": {
      "image/png": "[encoded data removed]",
      "text/plain": [
       "<Figure size 720x360 with 1 Axes>"
      ]
     },
     "metadata": {
      "needs_background": "light"
     },
     "output_type": "display_data"
    }
   ],
   "source": [
    "for col in ['gender', 'near_location', 'partner', 'promo_friends', 'phone', 'age', 'lifetime', 'contract_period', 'month_to_end_contract', 'group_visits']:\n",
    "    plt.figure(figsize=(10, 5))\n",
    "    sns.countplot(x = fitness[col], hue = 'churn', data = fitness, palette='colorblind')\n",
    "    plt.title(col)\n",
    "    plt.ylabel('Количество')\n",
    "    plt.show()"
   ]
  },
  {
   "cell_type": "code",
   "execution_count": 13,
   "metadata": {
    "scrolled": false
   },
   "outputs": [
    {
     "data": {
      "image/png": "[encoded data removed]",
      "text/plain": [
       "<Figure size 504x504 with 1 Axes>"
      ]
     },
     "metadata": {
      "needs_background": "light"
     },
     "output_type": "display_data"
    },
    {
     "data": {
      "image/png": "[encoded data removed]",
      "text/plain": [
       "<Figure size 504x504 with 1 Axes>"
      ]
     },
     "metadata": {
      "needs_background": "light"
     },
     "output_type": "display_data"
    },
    {
     "data": {
      "image/png": "[encoded data removed]",
      "text/plain": [
       "<Figure size 504x504 with 1 Axes>"
      ]
     },
     "metadata": {
      "needs_background": "light"
     },
     "output_type": "display_data"
    }
   ],
   "source": [
    "for col in ['avg_additional_charges_total', 'avg_class_frequency_total', 'avg_class_frequency_current_month']:\n",
    "    plt.figure(figsize = (7, 7))\n",
    "    sns.boxplot(x = 'churn', y = fitness[col], data = fitness)\n",
    "    plt.title(col)\n",
    "    plt.show()"
   ]
  },
  {
   "cell_type": "code",
   "execution_count": 14,
   "metadata": {
    "scrolled": false
   },
   "outputs": [
    {
     "data": {
      "image/png": "[encoded data removed]",
      "text/plain": [
       "<Figure size 1080x1080 with 2 Axes>"
      ]
     },
     "metadata": {
      "needs_background": "light"
     },
     "output_type": "display_data"
    }
   ],
   "source": [
    "corr_m = fitness.corr()\n",
    "\n",
    "plt.figure(figsize = (15,15))\n",
    "sns.heatmap(corr_m, square = True, annot = True, fmt = '0.2f', cmap = 'PuBu')\n",
    "plt.show()"
   ]
  },
  {
   "cell_type": "markdown",
   "metadata": {},
   "source": [
    "# Выводы к шагу 2"
   ]
  },
  {
   "cell_type": "markdown",
   "metadata": {},
   "source": [
    "На входе есть датасет с данными о клиентах сеть фитнес-центров «Культурист-датасаентист» содержащий 14 колонок и 4000 записей. Пропуски в датасете отсутствуют, данные приведены к нужным типам данных, дубликаты также не обнаружены. Судя по средним значениям отношение мужчин и женщин практически равное (0.51), большинство клиентов живут или работают в районе фитнес-центра (0.84), отношение партнёров и не партнёров фитнес-центра практически равное (0.48), по партнёрской программе «приведи друга» пришло относительно немного людей (0.30), большинство клиентов оставило свой контактный телефон (0.90), половина абонементов - на один месяц, групповые занятия посещает чуть меньше половины клинтов (0.40), средний возраст клиентов - 29 лет, средняя суммарная выручка от других услуг фитнес-центра - 146.94, средний срок до окончания текущего действующего абонемента - 4.32 месяца, в среднем время с момента первого обращения в фитнес-центр - 3.72 месяца, средняя частота посещений в неделю за все время с начала действия абонемента - 1.87 раза, средняя частота посещений в неделю за предыдущий месяц - 1.76, средний отток относительно небольшой - 0.26.\n",
    "\n",
    "Посмотрев на средние значения признаков в двух группах — тех, кто ушел в отток и тех, кто остался, делаем вывод, что чаще уходят клиенты, которые не живут в районе фитнес-клуба, не является партнёрами фитнес-клуба, пришли не по записи в рамках акции «приведи друга», более молодые (средний возраст 26 лет), а также средние посещения которых меньше, оставшихся клиентов, т. е. посещают в среднем 1.47 раза в неделю (против 2.02 у тех кто остался).\n",
    "\n",
    "Исходя из матрицы корреляций делаем вывод, что _мультиколлинеарными признаками_ являются - **contract_period - month_to_end_contract** и **avg_class_frequency_current_month - avg_class_frequency_total**. Также есть признаки, с _нулевой корреляцией с целевой переменной_: **phone** и **gender**."
   ]
  },
  {
   "cell_type": "markdown",
   "metadata": {},
   "source": [
    "# Шаг 3. Построение модели прогнозирования оттока клиентов"
   ]
  },
  {
   "cell_type": "code",
   "execution_count": 15,
   "metadata": {
    "scrolled": false
   },
   "outputs": [],
   "source": [
    "X = fitness.drop('churn', axis = 1)\n",
    "y = fitness['churn']"
   ]
  },
  {
   "cell_type": "markdown",
   "metadata": {},
   "source": [
    "**Логистическая регрессия**"
   ]
  },
  {
   "cell_type": "code",
   "execution_count": 16,
   "metadata": {
    "scrolled": false
   },
   "outputs": [],
   "source": [
    "X_train, X_test, y_train, y_test = train_test_split(X, y, test_size = 0.2, random_state = 0)\n",
    "\n",
    "model = LogisticRegression()\n",
    "\n",
    "model.fit(X_train, y_train)\n",
    "\n",
    "# сделаем прогнозы\n",
    "predictions = model.predict(X_test)\n",
    "probabilities = model.predict_proba(X_test)[:,1]"
   ]
  },
  {
   "cell_type": "code",
   "execution_count": 17,
   "metadata": {
    "scrolled": false
   },
   "outputs": [
    {
     "name": "stdout",
     "output_type": "stream",
     "text": [
      "Accuracy: 0.93\n",
      "Precision: 0.86\n",
      "Recall: 0.83\n",
      "F1: 0.85\n"
     ]
    }
   ],
   "source": [
    "print('Accuracy: {:.2f}'.format(accuracy_score(y_test, predictions)))\n",
    "print('Precision: {:.2f}'.format(precision_score(y_test, predictions)))\n",
    "print('Recall: {:.2f}'.format(recall_score(y_test, predictions)))\n",
    "print('F1: {:.2f}'.format(f1_score(y_test, predictions)))"
   ]
  },
  {
   "cell_type": "markdown",
   "metadata": {},
   "source": [
    "**Случайный лес**"
   ]
  },
  {
   "cell_type": "code",
   "execution_count": 18,
   "metadata": {
    "scrolled": false
   },
   "outputs": [],
   "source": [
    "# обучим StandartScaler на обучающей выборке\n",
    "scaler = StandardScaler()\n",
    "scaler.fit(X_train)\n",
    " \n",
    "# преобразуем обучающий и валидационные наборы данных\n",
    "X_train_st = scaler.transform(X_train)\n",
    "X_test_st = scaler.transform(X_test)\n",
    "\n",
    "# зададим алгоритм для новой модели на основе алгоритма случайного леса\n",
    "rf_model = RandomForestClassifier(n_estimators = 100, random_state = 0)\n",
    "\n",
    "# обучим модель случайного леса\n",
    "rf_model.fit(X_train_st, y_train)\n",
    "\n",
    "# воспользуемся уже обученной моделью, чтобы сделать прогнозы\n",
    "rf_predictions = rf_model.predict(X_test_st)\n",
    "rf_probabilities = rf_model.predict_proba(X_test_st)[:, 1]"
   ]
  },
  {
   "cell_type": "code",
   "execution_count": 19,
   "metadata": {
    "scrolled": true
   },
   "outputs": [
    {
     "name": "stdout",
     "output_type": "stream",
     "text": [
      "Accuracy: 0.92\n",
      "Precision: 0.84\n",
      "Recall: 0.81\n",
      "F1: 0.83\n"
     ]
    }
   ],
   "source": [
    "print('Accuracy: {:.2f}'.format(accuracy_score(y_test, rf_predictions)))\n",
    "print('Precision: {:.2f}'.format(precision_score(y_test, rf_predictions)))\n",
    "print('Recall: {:.2f}'.format(recall_score(y_test, rf_predictions)))\n",
    "print('F1: {:.2f}'.format(f1_score(y_test, rf_predictions)))"
   ]
  },
  {
   "cell_type": "markdown",
   "metadata": {},
   "source": [
    "# Выводы к шагу 3"
   ]
  },
  {
   "cell_type": "markdown",
   "metadata": {},
   "source": [
    "Логистическая регрессия показала себя лучше, чем модель случайный лес на основании метрик:\n",
    "* **Accuracy** _(доля правильных ответов)_ 0.93 у логистической регрессии против 0.92 у модели случайный лес;\n",
    "* **Precision** _(точность)_ 0.86 против 0.84;\n",
    "* **Recall** _(полнота)_ 0.83 против 0.81;\n",
    "* **F1** - 0.85 против 0.83."
   ]
  },
  {
   "cell_type": "markdown",
   "metadata": {},
   "source": [
    "# Шаг 4. Кластеризация клиентов"
   ]
  },
  {
   "cell_type": "code",
   "execution_count": 20,
   "metadata": {
    "scrolled": false
   },
   "outputs": [],
   "source": [
    "fitness_client = fitness.drop(['churn'], axis = 1)"
   ]
  },
  {
   "cell_type": "code",
   "execution_count": 21,
   "metadata": {
    "scrolled": false
   },
   "outputs": [],
   "source": [
    "# стандартизируем данные\n",
    "sc = StandardScaler()\n",
    "x_sc = sc.fit_transform(fitness_client)\n",
    "x_sc = pd.DataFrame(x_sc, columns = fitness_client.columns).astype('float64')"
   ]
  },
  {
   "cell_type": "code",
   "execution_count": 22,
   "metadata": {
    "scrolled": false
   },
   "outputs": [],
   "source": [
    "linked = linkage(x_sc, method = 'ward')"
   ]
  },
  {
   "cell_type": "code",
   "execution_count": 23,
   "metadata": {
    "scrolled": false
   },
   "outputs": [
    {
     "data": {
      "image/png": "[encoded data removed]",
      "text/plain": [
       "<Figure size 1080x648 with 1 Axes>"
      ]
     },
     "metadata": {
      "needs_background": "light"
     },
     "output_type": "display_data"
    }
   ],
   "source": [
    "plt.figure(figsize = (15, 9))  \n",
    "dendrogram(linked)\n",
    "plt.title('Кластеризация пользователей')\n",
    "plt.show()"
   ]
  },
  {
   "cell_type": "markdown",
   "metadata": {},
   "source": [
    "На основании полученного графика предположим, что можно выделить **5 кластеров.**"
   ]
  },
  {
   "cell_type": "code",
   "execution_count": 24,
   "metadata": {
    "scrolled": false
   },
   "outputs": [],
   "source": [
    "# задаём модель k_means с числом кластеров 5\n",
    "km = KMeans(n_clusters = 5)\n",
    "\n",
    "# прогнозируем кластеры для наблюдений (алгоритм присваивает им номера от 0 до 2)\n",
    "labels = km.fit_predict(x_sc)"
   ]
  },
  {
   "cell_type": "code",
   "execution_count": 25,
   "metadata": {
    "scrolled": false
   },
   "outputs": [],
   "source": [
    "fitness['cluster'] = labels"
   ]
  },
  {
   "cell_type": "code",
   "execution_count": 26,
   "metadata": {
    "scrolled": false
   },
   "outputs": [
    {
     "data": {
      "text/html": [
       "<div>\n",
       "<style scoped>\n",
       "    .dataframe tbody tr th:only-of-type {\n",
       "        vertical-align: middle;\n",
       "    }\n",
       "\n",
       "    .dataframe tbody tr th {\n",
       "        vertical-align: top;\n",
       "    }\n",
       "\n",
       "    .dataframe thead th {\n",
       "        text-align: right;\n",
       "    }\n",
       "</style>\n",
       "<table border=\"1\" class=\"dataframe\">\n",
       "  <thead>\n",
       "    <tr style=\"text-align: right;\">\n",
       "      <th>cluster</th>\n",
       "      <th>0</th>\n",
       "      <th>1</th>\n",
       "      <th>2</th>\n",
       "      <th>3</th>\n",
       "      <th>4</th>\n",
       "    </tr>\n",
       "  </thead>\n",
       "  <tbody>\n",
       "    <tr>\n",
       "      <td>gender</td>\n",
       "      <td>0.523316</td>\n",
       "      <td>0.568312</td>\n",
       "      <td>0.480384</td>\n",
       "      <td>0.496805</td>\n",
       "      <td>0.498848</td>\n",
       "    </tr>\n",
       "    <tr>\n",
       "      <td>near_location</td>\n",
       "      <td>0.862694</td>\n",
       "      <td>0.847302</td>\n",
       "      <td>0.722978</td>\n",
       "      <td>0.948882</td>\n",
       "      <td>0.936636</td>\n",
       "    </tr>\n",
       "    <tr>\n",
       "      <td>partner</td>\n",
       "      <td>0.471503</td>\n",
       "      <td>0.275545</td>\n",
       "      <td>0.295436</td>\n",
       "      <td>0.819489</td>\n",
       "      <td>0.740783</td>\n",
       "    </tr>\n",
       "    <tr>\n",
       "      <td>promo_friends</td>\n",
       "      <td>0.305699</td>\n",
       "      <td>0.066590</td>\n",
       "      <td>0.013611</td>\n",
       "      <td>0.998403</td>\n",
       "      <td>0.479263</td>\n",
       "    </tr>\n",
       "    <tr>\n",
       "      <td>phone</td>\n",
       "      <td>0.000000</td>\n",
       "      <td>1.000000</td>\n",
       "      <td>1.000000</td>\n",
       "      <td>1.000000</td>\n",
       "      <td>1.000000</td>\n",
       "    </tr>\n",
       "    <tr>\n",
       "      <td>contract_period</td>\n",
       "      <td>4.777202</td>\n",
       "      <td>2.670494</td>\n",
       "      <td>1.910328</td>\n",
       "      <td>3.039936</td>\n",
       "      <td>11.827189</td>\n",
       "    </tr>\n",
       "    <tr>\n",
       "      <td>group_visits</td>\n",
       "      <td>0.427461</td>\n",
       "      <td>0.445465</td>\n",
       "      <td>0.276221</td>\n",
       "      <td>0.440895</td>\n",
       "      <td>0.547235</td>\n",
       "    </tr>\n",
       "    <tr>\n",
       "      <td>age</td>\n",
       "      <td>29.297927</td>\n",
       "      <td>30.019518</td>\n",
       "      <td>28.118495</td>\n",
       "      <td>29.097444</td>\n",
       "      <td>29.891705</td>\n",
       "    </tr>\n",
       "    <tr>\n",
       "      <td>avg_additional_charges_total</td>\n",
       "      <td>144.208179</td>\n",
       "      <td>160.239255</td>\n",
       "      <td>129.750920</td>\n",
       "      <td>141.273179</td>\n",
       "      <td>163.647759</td>\n",
       "    </tr>\n",
       "    <tr>\n",
       "      <td>month_to_end_contract</td>\n",
       "      <td>4.466321</td>\n",
       "      <td>2.471871</td>\n",
       "      <td>1.818255</td>\n",
       "      <td>2.845048</td>\n",
       "      <td>10.785714</td>\n",
       "    </tr>\n",
       "    <tr>\n",
       "      <td>lifetime</td>\n",
       "      <td>3.940415</td>\n",
       "      <td>4.815155</td>\n",
       "      <td>2.204163</td>\n",
       "      <td>3.731629</td>\n",
       "      <td>4.717742</td>\n",
       "    </tr>\n",
       "    <tr>\n",
       "      <td>avg_class_frequency_total</td>\n",
       "      <td>1.854211</td>\n",
       "      <td>2.787107</td>\n",
       "      <td>1.245948</td>\n",
       "      <td>1.725697</td>\n",
       "      <td>2.000354</td>\n",
       "    </tr>\n",
       "    <tr>\n",
       "      <td>avg_class_frequency_current_month</td>\n",
       "      <td>1.723967</td>\n",
       "      <td>2.779520</td>\n",
       "      <td>0.992003</td>\n",
       "      <td>1.618826</td>\n",
       "      <td>1.992394</td>\n",
       "    </tr>\n",
       "    <tr>\n",
       "      <td>churn</td>\n",
       "      <td>0.266839</td>\n",
       "      <td>0.083812</td>\n",
       "      <td>0.564452</td>\n",
       "      <td>0.257188</td>\n",
       "      <td>0.021889</td>\n",
       "    </tr>\n",
       "  </tbody>\n",
       "</table>\n",
       "</div>"
      ],
      "text/plain": [
       "cluster                                     0           1           2  \\\n",
       "gender                               0.523316    0.568312    0.480384   \n",
       "near_location                        0.862694    0.847302    0.722978   \n",
       "partner                              0.471503    0.275545    0.295436   \n",
       "promo_friends                        0.305699    0.066590    0.013611   \n",
       "phone                                0.000000    1.000000    1.000000   \n",
       "contract_period                      4.777202    2.670494    1.910328   \n",
       "group_visits                         0.427461    0.445465    0.276221   \n",
       "age                                 29.297927   30.019518   28.118495   \n",
       "avg_additional_charges_total       144.208179  160.239255  129.750920   \n",
       "month_to_end_contract                4.466321    2.471871    1.818255   \n",
       "lifetime                             3.940415    4.815155    2.204163   \n",
       "avg_class_frequency_total            1.854211    2.787107    1.245948   \n",
       "avg_class_frequency_current_month    1.723967    2.779520    0.992003   \n",
       "churn                                0.266839    0.083812    0.564452   \n",
       "\n",
       "cluster                                     3           4  \n",
       "gender                               0.496805    0.498848  \n",
       "near_location                        0.948882    0.936636  \n",
       "partner                              0.819489    0.740783  \n",
       "promo_friends                        0.998403    0.479263  \n",
       "phone                                1.000000    1.000000  \n",
       "contract_period                      3.039936   11.827189  \n",
       "group_visits                         0.440895    0.547235  \n",
       "age                                 29.097444   29.891705  \n",
       "avg_additional_charges_total       141.273179  163.647759  \n",
       "month_to_end_contract                2.845048   10.785714  \n",
       "lifetime                             3.731629    4.717742  \n",
       "avg_class_frequency_total            1.725697    2.000354  \n",
       "avg_class_frequency_current_month    1.618826    1.992394  \n",
       "churn                                0.257188    0.021889  "
      ]
     },
     "execution_count": 26,
     "metadata": {},
     "output_type": "execute_result"
    }
   ],
   "source": [
    "fitness.groupby('cluster').mean().T"
   ]
  },
  {
   "cell_type": "code",
   "execution_count": 27,
   "metadata": {
    "scrolled": false
   },
   "outputs": [
    {
     "data": {
      "image/png": "[encoded data removed]",
      "text/plain": [
       "<Figure size 720x360 with 1 Axes>"
      ]
     },
     "metadata": {
      "needs_background": "light"
     },
     "output_type": "display_data"
    },
    {
     "data": {
      "image/png": "[encoded data removed]",
      "text/plain": [
       "<Figure size 720x360 with 1 Axes>"
      ]
     },
     "metadata": {
      "needs_background": "light"
     },
     "output_type": "display_data"
    },
    {
     "data": {
      "image/png": "[encoded data removed]",
      "text/plain": [
       "<Figure size 720x360 with 1 Axes>"
      ]
     },
     "metadata": {
      "needs_background": "light"
     },
     "output_type": "display_data"
    },
    {
     "data": {
      "image/png": "[encoded data removed]",
      "text/plain": [
       "<Figure size 720x360 with 1 Axes>"
      ]
     },
     "metadata": {
      "needs_background": "light"
     },
     "output_type": "display_data"
    },
    {
     "data": {
      "image/png": "[encoded data removed]",
      "text/plain": [
       "<Figure size 720x360 with 1 Axes>"
      ]
     },
     "metadata": {
      "needs_background": "light"
     },
     "output_type": "display_data"
    },
    {
     "data": {
      "image/png": "[encoded data removed]",
      "text/plain": [
       "<Figure size 720x360 with 1 Axes>"
      ]
     },
     "metadata": {
      "needs_background": "light"
     },
     "output_type": "display_data"
    },
    {
     "data": {
      "image/png": "[encoded data removed]",
      "text/plain": [
       "<Figure size 720x360 with 1 Axes>"
      ]
     },
     "metadata": {
      "needs_background": "light"
     },
     "output_type": "display_data"
    },
    {
     "data": {
      "image/png": "[encoded data removed]",
      "text/plain": [
       "<Figure size 720x360 with 1 Axes>"
      ]
     },
     "metadata": {
      "needs_background": "light"
     },
     "output_type": "display_data"
    },
    {
     "data": {
      "image/png": "[encoded data removed]",
      "text/plain": [
       "<Figure size 720x360 with 1 Axes>"
      ]
     },
     "metadata": {
      "needs_background": "light"
     },
     "output_type": "display_data"
    },
    {
     "data": {
      "image/png": "[encoded data removed]",
      "text/plain": [
       "<Figure size 720x360 with 1 Axes>"
      ]
     },
     "metadata": {
      "needs_background": "light"
     },
     "output_type": "display_data"
    }
   ],
   "source": [
    "for col in ['gender', 'near_location', 'partner', 'promo_friends', 'phone', 'age', 'lifetime', 'contract_period', 'month_to_end_contract', 'group_visits']:\n",
    "    plt.figure(figsize = (10, 5))\n",
    "    sns.countplot(data = fitness, x = fitness[col], hue='cluster')\n",
    "    plt.title(col)\n",
    "    plt.show()"
   ]
  },
  {
   "cell_type": "code",
   "execution_count": 28,
   "metadata": {},
   "outputs": [
    {
     "data": {
      "image/png": "[encoded data removed]",
      "text/plain": [
       "<Figure size 504x504 with 1 Axes>"
      ]
     },
     "metadata": {
      "needs_background": "light"
     },
     "output_type": "display_data"
    },
    {
     "data": {
      "image/png": "[encoded data removed]",
      "text/plain": [
       "<Figure size 504x504 with 1 Axes>"
      ]
     },
     "metadata": {
      "needs_background": "light"
     },
     "output_type": "display_data"
    },
    {
     "data": {
      "image/png": "[encoded data removed]",
      "text/plain": [
       "<Figure size 504x504 with 1 Axes>"
      ]
     },
     "metadata": {
      "needs_background": "light"
     },
     "output_type": "display_data"
    }
   ],
   "source": [
    "for col in ['avg_additional_charges_total', 'avg_class_frequency_total', 'avg_class_frequency_current_month']:\n",
    "    plt.figure(figsize = (7, 7))\n",
    "    sns.boxplot(x = 'cluster', y = fitness[col], data = fitness)\n",
    "    plt.title(col)\n",
    "    plt.show()"
   ]
  },
  {
   "cell_type": "code",
   "execution_count": 29,
   "metadata": {},
   "outputs": [
    {
     "name": "stdout",
     "output_type": "stream",
     "text": [
      "Процент оттока по кластерам:cluster\n",
      "0     2.575\n",
      "1     1.825\n",
      "2    17.625\n",
      "3     4.025\n",
      "4     0.475\n",
      "Name: churn, dtype: float64\n"
     ]
    }
   ],
   "source": [
    "print('Процент оттока по кластерам:{}'.format((fitness.groupby('cluster')['churn'].sum() / fitness.shape[0]) * 100))"
   ]
  },
  {
   "cell_type": "markdown",
   "metadata": {},
   "source": [
    "# Выводы к шагу 4"
   ]
  },
  {
   "cell_type": "markdown",
   "metadata": {},
   "source": [
    "Исходя из полученных данных можно сделать вывод, что наименьший отток во 3 и 2 кластере, наибольший отток в 4 и 1 кластерах. 0 кластер - средний в плане оттока по сравнению в другими кластерами. Обобщая полученные данные делаем вывод, что отток происходит у клиентов, которые меньше посещают групповые занятия (0.46 и 0.54 против 0.21 и 0.34), более молодые (средний возраст 30.09 и 29.98 против 28.48 и 28.13), меньше тратящие (средняя суммарная выручка от других услуг фитнес-центра 161 и 160 против 135 и 130), с меньшим lifetime (время с момента первого обращения в фитнес-центр) - 4.94 и 4.73 против 2.80 и 2.35, с меньшей средней частотой посещений в неделю за предыдущий месяц - 2.80 и 1.98 против 1.48 т 0.99, с меньшей средней частотой посещений в неделю за все время с начала действия абонемента - 2.80 и 1.99 против 1.66 и 1.23."
   ]
  },
  {
   "cell_type": "markdown",
   "metadata": {},
   "source": [
    "# Общий вывод"
   ]
  },
  {
   "cell_type": "markdown",
   "metadata": {},
   "source": [
    "На входе есть датасет с данными о клиентах сеть фитнес-центров «Культурист-датасаентист» содержащий 14 колонок и 4000 записей. Пропуски в датасете отсутствуют, данные приведены к нужным типам данных, дубликаты также не обнаружены. Судя по средним значениям отношение мужчин и женщин практически равное (0.51), большинство клиентов живут или работают в районе фитнес-центра (0.84), отношение партнёров и не партнёров фитнес-центра практически равное (0.48), по партнёрской программе «приведи друга» пришло относительно немного людей (0.30), большинство клиентов оставило свой контактный телефон (0.90), половина абонементов - на один месяц, групповые занятия посещает чуть меньше половины клинтов (0.40), средний возраст клиентов - 29 лет, средняя суммарная выручка от других услуг фитнес-центра - 146.94, средний срок до окончания текущего действующего абонемента - 4.32 месяца, в среднем время с момента первого обращения в фитнес-центр - 3.72 месяца, средняя частота посещений в неделю за все время с начала действия абонемента - 1.87 раза, средняя частота посещений в неделю за предыдущий месяц - 1.76, средний отток относительно небольшой - 0.26.\n",
    "\n",
    "Посмотрев на средние значения признаков в двух группах — тех, кто ушел в отток и тех, кто остался, делаем вывод, что чаще уходят клиенты, которые не живут в районе фитнес-клуба, не является партнёрами фитнес-клуба, пришли не по записи в рамках акции «приведи друга», более молодые (средний возраст 26 лет), а также средние посещения которых меньше, оставшихся клиентов, т. е. посещают в среднем 1.47 раза в неделю (против 2.02 у тех кто остался).\n",
    "\n",
    "Исходя из матрицы корреляций делаем вывод, что _мультиколлинеарными признаками_ являются - **contract_period - month_to_end_contract** и **avg_class_frequency_current_month - avg_class_frequency_total**. Также есть признаки, с _нулевой корреляцией с целевой переменной_: **phone** и **gender**.\n",
    "\n",
    "Логистическая регрессия показала себя лучше, чем модель случайный лес на основании метрик:\n",
    "* **Accuracy** _(доля правильных ответов)_ 0.93 у логистической регрессии против 0.92 у модели случайный лес;\n",
    "* **Precision** _(точность)_ 0.86 против 0.84;\n",
    "* **Recall** _(полнота)_ 0.83 против 0.81;\n",
    "* **F1** - 0.85 против 0.83.\n",
    "\n",
    "Исходя из полученных данных можно сделать вывод, что наименьший отток во 3 и 2 кластере, наибольший отток в 4 и 1 кластерах. 0 кластер - средний в плане оттока по сравнению в другими кластерами. Обобщая полученные данные делаем вывод, что отток происходит у клиентов, которые меньше посещают групповые занятия (0.46 и 0.54 против 0.21 и 0.34), более молодые (средний возраст 30.09 и 29.98 против 28.48 и 28.13), меньше тратящие (средняя суммарная выручка от других услуг фитнес-центра 161 и 160 против 135 и 130), с меньшим lifetime (время с момента первого обращения в фитнес-центр) - 4.94 и 4.73 против 2.80 и 2.35, с меньшей средней частотой посещений в неделю за предыдущий месяц - 2.80 и 1.98 против 1.48 т 0.99, с меньшей средней частотой посещений в неделю за все время с начала действия абонемента - 2.80 и 1.99 против 1.66 и 1.23."
   ]
  }
 ],
 "metadata": {
  "ExecuteTimeLog": [
   {
    "duration": 953,
    "start_time": "2021-06-11T19:08:15.350Z"
   },
   {
    "duration": 39,
    "start_time": "2021-06-11T19:08:56.052Z"
   },
   {
    "duration": 40,
    "start_time": "2021-06-11T19:08:59.196Z"
   },
   {
    "duration": 382,
    "start_time": "2021-06-11T19:09:12.629Z"
   },
   {
    "duration": 30,
    "start_time": "2021-06-11T19:09:17.148Z"
   },
   {
    "duration": 28,
    "start_time": "2021-06-11T19:10:32.785Z"
   },
   {
    "duration": 19,
    "start_time": "2021-06-11T19:10:34.432Z"
   },
   {
    "duration": 34,
    "start_time": "2021-06-11T19:10:38.249Z"
   },
   {
    "duration": 4,
    "start_time": "2021-06-11T19:11:10.091Z"
   },
   {
    "duration": 3,
    "start_time": "2021-06-11T19:14:22.517Z"
   },
   {
    "duration": 4,
    "start_time": "2021-06-11T19:14:56.673Z"
   },
   {
    "duration": 21,
    "start_time": "2021-06-11T19:16:33.065Z"
   },
   {
    "duration": 10,
    "start_time": "2021-06-11T19:17:08.938Z"
   },
   {
    "duration": 6,
    "start_time": "2021-06-11T19:19:34.179Z"
   },
   {
    "duration": 13,
    "start_time": "2021-06-11T19:19:35.393Z"
   },
   {
    "duration": 120,
    "start_time": "2021-06-11T19:19:53.003Z"
   },
   {
    "duration": 284,
    "start_time": "2021-06-11T19:20:17.717Z"
   },
   {
    "duration": 6,
    "start_time": "2021-06-11T19:20:20.557Z"
   },
   {
    "duration": 10,
    "start_time": "2021-06-11T19:20:22.925Z"
   },
   {
    "duration": 4,
    "start_time": "2021-06-11T19:20:39.877Z"
   },
   {
    "duration": 1010,
    "start_time": "2021-06-11T19:46:04.830Z"
   },
   {
    "duration": 1974,
    "start_time": "2021-06-11T19:46:24.116Z"
   },
   {
    "duration": 27,
    "start_time": "2021-06-11T19:46:26.098Z"
   },
   {
    "duration": 24,
    "start_time": "2021-06-11T19:46:26.128Z"
   },
   {
    "duration": 7,
    "start_time": "2021-06-11T19:46:27.495Z"
   },
   {
    "duration": 7,
    "start_time": "2021-06-11T19:46:28.228Z"
   },
   {
    "duration": 13,
    "start_time": "2021-06-11T19:46:28.700Z"
   },
   {
    "duration": 11,
    "start_time": "2021-06-11T19:46:29.285Z"
   },
   {
    "duration": 151,
    "start_time": "2021-06-11T19:46:30.679Z"
   },
   {
    "duration": 13,
    "start_time": "2021-06-11T19:47:33.503Z"
   },
   {
    "duration": 17,
    "start_time": "2021-06-11T19:49:02.179Z"
   },
   {
    "duration": 10,
    "start_time": "2021-06-11T19:50:00.167Z"
   },
   {
    "duration": 99,
    "start_time": "2021-06-11T19:50:05.878Z"
   },
   {
    "duration": 135,
    "start_time": "2021-06-11T19:51:33.811Z"
   },
   {
    "duration": 42,
    "start_time": "2021-06-11T19:52:14.348Z"
   },
   {
    "duration": 396,
    "start_time": "2021-06-11T20:01:50.092Z"
   },
   {
    "duration": 5827,
    "start_time": "2021-06-11T20:02:03.369Z"
   },
   {
    "duration": 271,
    "start_time": "2021-06-11T20:08:58.955Z"
   },
   {
    "duration": 5090,
    "start_time": "2021-06-11T20:09:06.373Z"
   },
   {
    "duration": 7439,
    "start_time": "2021-06-11T20:09:21.717Z"
   },
   {
    "duration": 6870,
    "start_time": "2021-06-11T20:09:44.712Z"
   },
   {
    "duration": 9104,
    "start_time": "2021-06-11T20:13:36.282Z"
   },
   {
    "duration": 85,
    "start_time": "2021-06-11T20:15:50.480Z"
   },
   {
    "duration": 85,
    "start_time": "2021-06-11T20:15:55.712Z"
   },
   {
    "duration": 7882,
    "start_time": "2021-06-11T20:16:58.852Z"
   },
   {
    "duration": 1523,
    "start_time": "2021-06-11T20:19:32.478Z"
   },
   {
    "duration": 30,
    "start_time": "2021-06-11T20:19:34.004Z"
   },
   {
    "duration": 31,
    "start_time": "2021-06-11T20:19:35.451Z"
   },
   {
    "duration": 7,
    "start_time": "2021-06-11T20:19:36.922Z"
   },
   {
    "duration": 6,
    "start_time": "2021-06-11T20:19:37.122Z"
   },
   {
    "duration": 13,
    "start_time": "2021-06-11T20:19:38.090Z"
   },
   {
    "duration": 9,
    "start_time": "2021-06-11T20:19:38.250Z"
   },
   {
    "duration": 12,
    "start_time": "2021-06-11T20:19:38.426Z"
   },
   {
    "duration": 82,
    "start_time": "2021-06-11T20:19:38.587Z"
   },
   {
    "duration": 38,
    "start_time": "2021-06-11T20:19:39.931Z"
   },
   {
    "duration": 1506,
    "start_time": "2021-06-11T20:21:18.501Z"
   },
   {
    "duration": 30,
    "start_time": "2021-06-11T20:21:20.010Z"
   },
   {
    "duration": 35,
    "start_time": "2021-06-11T20:21:20.048Z"
   },
   {
    "duration": 4,
    "start_time": "2021-06-11T20:21:20.086Z"
   },
   {
    "duration": 10,
    "start_time": "2021-06-11T20:21:20.093Z"
   },
   {
    "duration": 11,
    "start_time": "2021-06-11T20:21:20.106Z"
   },
   {
    "duration": 9,
    "start_time": "2021-06-11T20:21:20.167Z"
   },
   {
    "duration": 17,
    "start_time": "2021-06-11T20:21:20.178Z"
   },
   {
    "duration": 95,
    "start_time": "2021-06-11T20:21:20.197Z"
   },
   {
    "duration": 24,
    "start_time": "2021-06-11T20:21:20.294Z"
   },
   {
    "duration": 604,
    "start_time": "2021-06-11T20:21:22.668Z"
   },
   {
    "duration": 601,
    "start_time": "2021-06-11T20:22:10.663Z"
   },
   {
    "duration": 597,
    "start_time": "2021-06-11T20:22:33.679Z"
   },
   {
    "duration": 673,
    "start_time": "2021-06-11T20:22:39.040Z"
   },
   {
    "duration": 3959,
    "start_time": "2021-06-11T20:28:00.188Z"
   },
   {
    "duration": 1904,
    "start_time": "2021-06-11T20:32:22.044Z"
   },
   {
    "duration": 1886,
    "start_time": "2021-06-11T20:32:41.421Z"
   },
   {
    "duration": 3891,
    "start_time": "2021-06-11T20:33:18.879Z"
   },
   {
    "duration": 3827,
    "start_time": "2021-06-11T20:33:42.064Z"
   },
   {
    "duration": 3790,
    "start_time": "2021-06-11T20:33:49.801Z"
   },
   {
    "duration": 4026,
    "start_time": "2021-06-11T20:34:01.033Z"
   },
   {
    "duration": 4067,
    "start_time": "2021-06-11T20:34:16.250Z"
   },
   {
    "duration": 641,
    "start_time": "2021-06-11T20:34:56.843Z"
   },
   {
    "duration": 678,
    "start_time": "2021-06-11T20:35:02.211Z"
   },
   {
    "duration": 705,
    "start_time": "2021-06-11T20:35:18.581Z"
   },
   {
    "duration": 4091,
    "start_time": "2021-06-11T20:35:23.245Z"
   },
   {
    "duration": 281,
    "start_time": "2021-06-11T20:35:48.070Z"
   },
   {
    "duration": 5979,
    "start_time": "2021-06-11T20:36:23.848Z"
   },
   {
    "duration": 84,
    "start_time": "2021-06-11T20:36:32.449Z"
   },
   {
    "duration": 3915,
    "start_time": "2021-06-11T20:36:35.903Z"
   },
   {
    "duration": 1901,
    "start_time": "2021-06-11T20:37:30.435Z"
   },
   {
    "duration": 282,
    "start_time": "2021-06-11T20:37:44.996Z"
   },
   {
    "duration": 285,
    "start_time": "2021-06-11T20:37:52.819Z"
   },
   {
    "duration": 2191,
    "start_time": "2021-06-11T20:38:08.092Z"
   },
   {
    "duration": 264,
    "start_time": "2021-06-11T20:38:13.156Z"
   },
   {
    "duration": 2187,
    "start_time": "2021-06-11T20:38:21.237Z"
   },
   {
    "duration": 282,
    "start_time": "2021-06-11T20:38:24.773Z"
   },
   {
    "duration": 1884,
    "start_time": "2021-06-11T20:38:38.534Z"
   },
   {
    "duration": 278,
    "start_time": "2021-06-11T20:38:43.158Z"
   },
   {
    "duration": 2129,
    "start_time": "2021-06-11T20:38:58.319Z"
   },
   {
    "duration": 267,
    "start_time": "2021-06-11T20:39:03.238Z"
   },
   {
    "duration": 1995,
    "start_time": "2021-06-11T20:39:11.127Z"
   },
   {
    "duration": 269,
    "start_time": "2021-06-11T20:45:07.967Z"
   },
   {
    "duration": 42,
    "start_time": "2021-06-11T20:45:16.238Z"
   },
   {
    "duration": 11,
    "start_time": "2021-06-11T20:45:22.434Z"
   },
   {
    "duration": 294,
    "start_time": "2021-06-11T20:48:30.270Z"
   },
   {
    "duration": 71,
    "start_time": "2021-06-11T20:48:43.593Z"
   },
   {
    "duration": 143,
    "start_time": "2021-06-11T20:48:47.212Z"
   },
   {
    "duration": 6,
    "start_time": "2021-06-11T20:48:53.108Z"
   },
   {
    "duration": 131,
    "start_time": "2021-06-11T20:48:57.828Z"
   },
   {
    "duration": 5,
    "start_time": "2021-06-11T20:49:16.516Z"
   },
   {
    "duration": 89,
    "start_time": "2021-06-11T20:49:17.172Z"
   },
   {
    "duration": 4,
    "start_time": "2021-06-11T20:49:30.485Z"
   },
   {
    "duration": 297,
    "start_time": "2021-06-11T20:50:29.023Z"
   },
   {
    "duration": 5,
    "start_time": "2021-06-11T20:50:49.657Z"
   },
   {
    "duration": 14,
    "start_time": "2021-06-11T20:50:56.689Z"
   },
   {
    "duration": 88,
    "start_time": "2021-06-11T20:51:11.337Z"
   },
   {
    "duration": 94,
    "start_time": "2021-06-11T20:53:22.721Z"
   },
   {
    "duration": 5,
    "start_time": "2021-06-11T20:53:44.617Z"
   },
   {
    "duration": 121,
    "start_time": "2021-06-11T20:53:48.337Z"
   },
   {
    "duration": 268,
    "start_time": "2021-06-11T20:57:47.953Z"
   },
   {
    "duration": 5,
    "start_time": "2021-06-11T20:58:05.501Z"
   },
   {
    "duration": 516,
    "start_time": "2021-06-11T20:58:10.141Z"
   },
   {
    "duration": 15,
    "start_time": "2021-06-11T20:58:24.886Z"
   },
   {
    "duration": 3,
    "start_time": "2021-06-11T21:03:35.937Z"
   },
   {
    "duration": 6,
    "start_time": "2021-06-11T21:10:49.615Z"
   },
   {
    "duration": 9,
    "start_time": "2021-06-11T21:12:15.438Z"
   },
   {
    "duration": 271,
    "start_time": "2021-06-11T21:12:46.021Z"
   },
   {
    "duration": 5,
    "start_time": "2021-06-11T21:13:19.577Z"
   },
   {
    "duration": 8,
    "start_time": "2021-06-11T21:13:24.433Z"
   },
   {
    "duration": 8,
    "start_time": "2021-06-11T21:14:37.709Z"
   },
   {
    "duration": 276,
    "start_time": "2021-06-11T21:15:00.157Z"
   },
   {
    "duration": 22,
    "start_time": "2021-06-11T21:15:10.398Z"
   },
   {
    "duration": 264,
    "start_time": "2021-06-11T21:15:14.446Z"
   },
   {
    "duration": 947,
    "start_time": "2021-06-11T21:15:19.903Z"
   },
   {
    "duration": 6,
    "start_time": "2021-06-11T21:16:01.560Z"
   },
   {
    "duration": 146061,
    "start_time": "2021-06-11T21:16:15.105Z"
   },
   {
    "duration": 264,
    "start_time": "2021-06-11T21:20:08.724Z"
   },
   {
    "duration": 1864,
    "start_time": "2021-06-11T21:20:22.517Z"
   },
   {
    "duration": 4,
    "start_time": "2021-06-11T21:20:24.384Z"
   },
   {
    "duration": 250,
    "start_time": "2021-06-11T21:20:39.333Z"
   },
   {
    "duration": 8,
    "start_time": "2021-06-11T21:20:45.365Z"
   },
   {
    "duration": 137508,
    "start_time": "2021-06-11T21:22:23.050Z"
   },
   {
    "duration": 27,
    "start_time": "2021-06-11T21:25:38.219Z"
   },
   {
    "duration": 19,
    "start_time": "2021-06-11T21:25:42.844Z"
   },
   {
    "duration": 17,
    "start_time": "2021-06-11T21:26:03.963Z"
   },
   {
    "duration": 19,
    "start_time": "2021-06-11T21:27:21.330Z"
   },
   {
    "duration": 271,
    "start_time": "2021-06-11T21:28:36.709Z"
   },
   {
    "duration": 2044,
    "start_time": "2021-06-11T21:29:07.856Z"
   },
   {
    "duration": 289,
    "start_time": "2021-06-11T21:30:21.090Z"
   },
   {
    "duration": 4975,
    "start_time": "2021-06-11T21:30:32.683Z"
   },
   {
    "duration": 8,
    "start_time": "2021-06-11T21:35:48.625Z"
   },
   {
    "duration": 264,
    "start_time": "2021-06-11T21:36:18.642Z"
   },
   {
    "duration": 11,
    "start_time": "2021-06-11T21:38:00.589Z"
   },
   {
    "duration": 12,
    "start_time": "2021-06-11T21:38:32.457Z"
   },
   {
    "duration": 10,
    "start_time": "2021-06-11T21:38:37.865Z"
   },
   {
    "duration": 12,
    "start_time": "2021-06-11T21:38:42.376Z"
   },
   {
    "duration": 13,
    "start_time": "2021-06-11T21:38:46.970Z"
   },
   {
    "duration": 18,
    "start_time": "2021-06-11T21:55:10.948Z"
   },
   {
    "duration": 17,
    "start_time": "2021-06-11T21:55:19.169Z"
   },
   {
    "duration": 9,
    "start_time": "2021-06-11T21:55:42.298Z"
   },
   {
    "duration": 10,
    "start_time": "2021-06-11T21:55:45.905Z"
   },
   {
    "duration": 3,
    "start_time": "2021-06-11T21:56:57.385Z"
   },
   {
    "duration": 5,
    "start_time": "2021-06-11T21:59:38.905Z"
   },
   {
    "duration": 1612,
    "start_time": "2021-06-13T07:25:09.939Z"
   },
   {
    "duration": 5,
    "start_time": "2021-06-13T07:25:11.556Z"
   },
   {
    "duration": 27,
    "start_time": "2021-06-13T07:25:11.565Z"
   },
   {
    "duration": 21,
    "start_time": "2021-06-13T07:25:11.594Z"
   },
   {
    "duration": 4,
    "start_time": "2021-06-13T07:25:11.617Z"
   },
   {
    "duration": 39,
    "start_time": "2021-06-13T07:25:11.624Z"
   },
   {
    "duration": 13,
    "start_time": "2021-06-13T07:25:11.666Z"
   },
   {
    "duration": 7,
    "start_time": "2021-06-13T07:25:11.682Z"
   },
   {
    "duration": 11,
    "start_time": "2021-06-13T07:25:11.692Z"
   },
   {
    "duration": 108,
    "start_time": "2021-06-13T07:25:11.705Z"
   },
   {
    "duration": 15,
    "start_time": "2021-06-13T07:25:11.816Z"
   },
   {
    "duration": 3593,
    "start_time": "2021-06-13T07:25:11.833Z"
   },
   {
    "duration": 5330,
    "start_time": "2021-06-13T07:25:15.428Z"
   },
   {
    "duration": 1865,
    "start_time": "2021-06-13T07:25:20.768Z"
   },
   {
    "duration": 5,
    "start_time": "2021-06-13T07:25:22.635Z"
   },
   {
    "duration": 58,
    "start_time": "2021-06-13T07:25:22.661Z"
   },
   {
    "duration": 141,
    "start_time": "2021-06-13T07:25:22.722Z"
   },
   {
    "duration": 597,
    "start_time": "2021-06-13T07:25:22.866Z"
   },
   {
    "duration": 12,
    "start_time": "2021-06-13T07:25:23.466Z"
   },
   {
    "duration": 5,
    "start_time": "2021-06-13T07:25:23.481Z"
   },
   {
    "duration": 14,
    "start_time": "2021-06-13T07:25:23.488Z"
   },
   {
    "duration": 781,
    "start_time": "2021-06-13T07:25:23.504Z"
   },
   {
    "duration": 1428,
    "start_time": "2021-06-13T07:26:21.295Z"
   },
   {
    "duration": 3,
    "start_time": "2021-06-13T07:26:22.725Z"
   },
   {
    "duration": 34,
    "start_time": "2021-06-13T07:26:22.735Z"
   },
   {
    "duration": 23,
    "start_time": "2021-06-13T07:26:22.772Z"
   },
   {
    "duration": 4,
    "start_time": "2021-06-13T07:26:22.797Z"
   },
   {
    "duration": 7,
    "start_time": "2021-06-13T07:26:22.804Z"
   },
   {
    "duration": 52,
    "start_time": "2021-06-13T07:26:22.814Z"
   },
   {
    "duration": 8,
    "start_time": "2021-06-13T07:26:22.873Z"
   },
   {
    "duration": 11,
    "start_time": "2021-06-13T07:26:22.885Z"
   },
   {
    "duration": 101,
    "start_time": "2021-06-13T07:26:22.899Z"
   },
   {
    "duration": 14,
    "start_time": "2021-06-13T07:26:23.002Z"
   },
   {
    "duration": 3719,
    "start_time": "2021-06-13T07:26:23.019Z"
   },
   {
    "duration": 5769,
    "start_time": "2021-06-13T07:26:26.740Z"
   },
   {
    "duration": 1933,
    "start_time": "2021-06-13T07:26:32.512Z"
   },
   {
    "duration": 10,
    "start_time": "2021-06-13T07:26:34.447Z"
   },
   {
    "duration": 111,
    "start_time": "2021-06-13T07:26:34.460Z"
   },
   {
    "duration": 97,
    "start_time": "2021-06-13T07:26:34.574Z"
   },
   {
    "duration": 598,
    "start_time": "2021-06-13T07:26:34.675Z"
   },
   {
    "duration": 20,
    "start_time": "2021-06-13T07:26:35.277Z"
   },
   {
    "duration": 5,
    "start_time": "2021-06-13T07:26:35.300Z"
   },
   {
    "duration": 16,
    "start_time": "2021-06-13T07:26:35.308Z"
   },
   {
    "duration": 836,
    "start_time": "2021-06-13T07:26:35.327Z"
   },
   {
    "duration": 1459,
    "start_time": "2021-06-13T07:27:24.407Z"
   },
   {
    "duration": 3,
    "start_time": "2021-06-13T07:27:25.868Z"
   },
   {
    "duration": 30,
    "start_time": "2021-06-13T07:27:25.874Z"
   },
   {
    "duration": 21,
    "start_time": "2021-06-13T07:27:25.907Z"
   },
   {
    "duration": 5,
    "start_time": "2021-06-13T07:27:25.930Z"
   },
   {
    "duration": 5,
    "start_time": "2021-06-13T07:27:25.956Z"
   },
   {
    "duration": 13,
    "start_time": "2021-06-13T07:27:25.963Z"
   },
   {
    "duration": 7,
    "start_time": "2021-06-13T07:27:25.979Z"
   },
   {
    "duration": 12,
    "start_time": "2021-06-13T07:27:25.990Z"
   },
   {
    "duration": 109,
    "start_time": "2021-06-13T07:27:26.005Z"
   },
   {
    "duration": 15,
    "start_time": "2021-06-13T07:27:26.116Z"
   },
   {
    "duration": 3845,
    "start_time": "2021-06-13T07:27:26.133Z"
   },
   {
    "duration": 5688,
    "start_time": "2021-06-13T07:27:29.980Z"
   },
   {
    "duration": 1921,
    "start_time": "2021-06-13T07:27:35.671Z"
   },
   {
    "duration": 5,
    "start_time": "2021-06-13T07:27:37.594Z"
   },
   {
    "duration": 91,
    "start_time": "2021-06-13T07:27:37.601Z"
   },
   {
    "duration": 96,
    "start_time": "2021-06-13T07:27:37.770Z"
   },
   {
    "duration": 559,
    "start_time": "2021-06-13T07:27:37.870Z"
   },
   {
    "duration": 12,
    "start_time": "2021-06-13T07:27:38.431Z"
   },
   {
    "duration": 14,
    "start_time": "2021-06-13T07:27:38.445Z"
   },
   {
    "duration": 11,
    "start_time": "2021-06-13T07:27:38.462Z"
   },
   {
    "duration": 796,
    "start_time": "2021-06-13T07:27:38.476Z"
   },
   {
    "duration": 1534,
    "start_time": "2021-06-13T07:28:09.566Z"
   },
   {
    "duration": 3,
    "start_time": "2021-06-13T07:28:11.102Z"
   },
   {
    "duration": 34,
    "start_time": "2021-06-13T07:28:11.108Z"
   },
   {
    "duration": 21,
    "start_time": "2021-06-13T07:28:11.144Z"
   },
   {
    "duration": 5,
    "start_time": "2021-06-13T07:28:11.168Z"
   },
   {
    "duration": 14,
    "start_time": "2021-06-13T07:28:11.175Z"
   },
   {
    "duration": 18,
    "start_time": "2021-06-13T07:28:11.191Z"
   },
   {
    "duration": 10,
    "start_time": "2021-06-13T07:28:11.211Z"
   },
   {
    "duration": 36,
    "start_time": "2021-06-13T07:28:11.225Z"
   },
   {
    "duration": 67,
    "start_time": "2021-06-13T07:28:11.264Z"
   },
   {
    "duration": 35,
    "start_time": "2021-06-13T07:28:11.334Z"
   },
   {
    "duration": 3622,
    "start_time": "2021-06-13T07:28:11.372Z"
   },
   {
    "duration": 5623,
    "start_time": "2021-06-13T07:28:14.996Z"
   },
   {
    "duration": 2052,
    "start_time": "2021-06-13T07:28:20.621Z"
   },
   {
    "duration": 8,
    "start_time": "2021-06-13T07:28:22.676Z"
   },
   {
    "duration": 173,
    "start_time": "2021-06-13T07:28:22.687Z"
   },
   {
    "duration": 98,
    "start_time": "2021-06-13T07:28:22.864Z"
   },
   {
    "duration": 484,
    "start_time": "2021-06-13T07:28:22.965Z"
   },
   {
    "duration": 16,
    "start_time": "2021-06-13T07:28:23.451Z"
   },
   {
    "duration": 7,
    "start_time": "2021-06-13T07:28:23.469Z"
   },
   {
    "duration": 13,
    "start_time": "2021-06-13T07:28:23.479Z"
   },
   {
    "duration": 918,
    "start_time": "2021-06-13T07:28:23.494Z"
   },
   {
    "duration": 131476,
    "start_time": "2021-06-13T07:28:24.414Z"
   },
   {
    "duration": 1766,
    "start_time": "2021-06-13T07:30:35.893Z"
   },
   {
    "duration": 4,
    "start_time": "2021-06-13T07:30:37.661Z"
   },
   {
    "duration": 21,
    "start_time": "2021-06-13T07:30:37.668Z"
   },
   {
    "duration": 4664,
    "start_time": "2021-06-13T07:30:37.694Z"
   },
   {
    "duration": 9,
    "start_time": "2021-06-13T07:30:42.361Z"
   },
   {
    "duration": 6,
    "start_time": "2021-06-13T09:38:37.394Z"
   },
   {
    "duration": 109825,
    "start_time": "2021-06-13T09:40:17.492Z"
   },
   {
    "duration": 249,
    "start_time": "2021-06-13T09:42:45.094Z"
   },
   {
    "duration": 289,
    "start_time": "2021-06-13T09:43:02.618Z"
   },
   {
    "duration": 317,
    "start_time": "2021-06-13T09:43:11.908Z"
   },
   {
    "duration": 953,
    "start_time": "2021-06-13T09:43:25.612Z"
   },
   {
    "duration": 10,
    "start_time": "2021-06-13T10:01:52.599Z"
   },
   {
    "duration": 9,
    "start_time": "2021-06-13T10:01:59.018Z"
   },
   {
    "duration": 1260,
    "start_time": "2021-06-13T10:04:26.521Z"
   },
   {
    "duration": 791,
    "start_time": "2021-06-13T10:22:22.437Z"
   },
   {
    "duration": 779,
    "start_time": "2021-06-13T10:22:35.742Z"
   },
   {
    "duration": 11,
    "start_time": "2021-06-13T10:39:06.932Z"
   },
   {
    "duration": 16,
    "start_time": "2021-06-13T10:40:08.255Z"
   },
   {
    "duration": 8,
    "start_time": "2021-06-13T10:40:41.489Z"
   },
   {
    "duration": 9,
    "start_time": "2021-06-13T10:40:58.808Z"
   },
   {
    "duration": 9,
    "start_time": "2021-06-13T10:41:05.681Z"
   },
   {
    "duration": 7,
    "start_time": "2021-06-13T10:41:30.034Z"
   },
   {
    "duration": 10,
    "start_time": "2021-06-13T10:41:39.803Z"
   },
   {
    "duration": 6,
    "start_time": "2021-06-13T10:42:01.059Z"
   },
   {
    "duration": 11,
    "start_time": "2021-06-13T10:42:40.966Z"
   },
   {
    "duration": 9,
    "start_time": "2021-06-13T10:42:59.463Z"
   },
   {
    "duration": 378,
    "start_time": "2021-06-13T10:43:11.872Z"
   },
   {
    "duration": 235,
    "start_time": "2021-06-13T10:43:14.855Z"
   },
   {
    "duration": 253,
    "start_time": "2021-06-13T10:43:22.504Z"
   },
   {
    "duration": 243,
    "start_time": "2021-06-13T10:43:49.553Z"
   },
   {
    "duration": 10,
    "start_time": "2021-06-13T10:43:53.953Z"
   },
   {
    "duration": 9,
    "start_time": "2021-06-13T10:43:56.642Z"
   },
   {
    "duration": 9,
    "start_time": "2021-06-13T10:44:03.089Z"
   },
   {
    "duration": 1398,
    "start_time": "2021-06-13T10:51:25.480Z"
   },
   {
    "duration": 4,
    "start_time": "2021-06-13T10:51:26.880Z"
   },
   {
    "duration": 29,
    "start_time": "2021-06-13T10:51:26.893Z"
   },
   {
    "duration": 47,
    "start_time": "2021-06-13T10:51:26.924Z"
   },
   {
    "duration": 5,
    "start_time": "2021-06-13T10:51:26.974Z"
   },
   {
    "duration": 9,
    "start_time": "2021-06-13T10:51:26.982Z"
   },
   {
    "duration": 63,
    "start_time": "2021-06-13T10:51:26.994Z"
   },
   {
    "duration": 10,
    "start_time": "2021-06-13T10:51:27.063Z"
   },
   {
    "duration": 15,
    "start_time": "2021-06-13T10:51:27.078Z"
   },
   {
    "duration": 121,
    "start_time": "2021-06-13T10:51:27.097Z"
   },
   {
    "duration": 41,
    "start_time": "2021-06-13T10:51:27.221Z"
   },
   {
    "duration": 3464,
    "start_time": "2021-06-13T10:51:27.264Z"
   },
   {
    "duration": 801,
    "start_time": "2021-06-13T10:51:30.730Z"
   },
   {
    "duration": 1870,
    "start_time": "2021-06-13T10:51:31.534Z"
   },
   {
    "duration": 5,
    "start_time": "2021-06-13T10:51:33.407Z"
   },
   {
    "duration": 81,
    "start_time": "2021-06-13T10:51:33.415Z"
   },
   {
    "duration": 106,
    "start_time": "2021-06-13T10:51:33.556Z"
   },
   {
    "duration": 495,
    "start_time": "2021-06-13T10:51:33.665Z"
   },
   {
    "duration": 12,
    "start_time": "2021-06-13T10:51:34.163Z"
   },
   {
    "duration": 9,
    "start_time": "2021-06-13T10:51:34.177Z"
   },
   {
    "duration": 11,
    "start_time": "2021-06-13T10:51:34.188Z"
   },
   {
    "duration": 801,
    "start_time": "2021-06-13T10:51:34.201Z"
   },
   {
    "duration": 126501,
    "start_time": "2021-06-13T10:51:35.005Z"
   },
   {
    "duration": 1850,
    "start_time": "2021-06-13T10:53:41.508Z"
   },
   {
    "duration": 4,
    "start_time": "2021-06-13T10:53:43.361Z"
   },
   {
    "duration": 24,
    "start_time": "2021-06-13T10:53:43.370Z"
   },
   {
    "duration": 4522,
    "start_time": "2021-06-13T10:53:43.396Z"
   },
   {
    "duration": 1042,
    "start_time": "2021-06-13T10:53:47.920Z"
   },
   {
    "duration": 9,
    "start_time": "2021-06-13T10:53:48.965Z"
   },
   {
    "duration": 1204,
    "start_time": "2021-06-13T11:07:28.281Z"
   },
   {
    "duration": 3,
    "start_time": "2021-06-13T11:07:29.486Z"
   },
   {
    "duration": 30,
    "start_time": "2021-06-13T11:07:29.494Z"
   },
   {
    "duration": 14,
    "start_time": "2021-06-13T11:07:29.525Z"
   },
   {
    "duration": 2,
    "start_time": "2021-06-13T11:07:29.541Z"
   },
   {
    "duration": 7,
    "start_time": "2021-06-13T11:07:29.545Z"
   },
   {
    "duration": 9,
    "start_time": "2021-06-13T11:07:29.553Z"
   },
   {
    "duration": 27,
    "start_time": "2021-06-13T11:07:29.564Z"
   },
   {
    "duration": 10,
    "start_time": "2021-06-13T11:07:29.594Z"
   },
   {
    "duration": 43,
    "start_time": "2021-06-13T11:07:29.606Z"
   },
   {
    "duration": 39,
    "start_time": "2021-06-13T11:07:29.650Z"
   },
   {
    "duration": 2430,
    "start_time": "2021-06-13T11:07:29.690Z"
   },
   {
    "duration": 554,
    "start_time": "2021-06-13T11:07:32.121Z"
   },
   {
    "duration": 1384,
    "start_time": "2021-06-13T11:07:32.677Z"
   },
   {
    "duration": 3,
    "start_time": "2021-06-13T11:07:34.063Z"
   },
   {
    "duration": 55,
    "start_time": "2021-06-13T11:07:34.068Z"
   },
   {
    "duration": 96,
    "start_time": "2021-06-13T11:07:34.188Z"
   },
   {
    "duration": 356,
    "start_time": "2021-06-13T11:07:34.286Z"
   },
   {
    "duration": 8,
    "start_time": "2021-06-13T11:07:34.644Z"
   },
   {
    "duration": 14,
    "start_time": "2021-06-13T11:07:34.653Z"
   },
   {
    "duration": 13,
    "start_time": "2021-06-13T11:07:34.668Z"
   },
   {
    "duration": 604,
    "start_time": "2021-06-13T11:07:34.682Z"
   },
   {
    "duration": 89260,
    "start_time": "2021-06-13T11:07:35.288Z"
   },
   {
    "duration": 1535,
    "start_time": "2021-06-13T11:09:04.550Z"
   },
   {
    "duration": 95,
    "start_time": "2021-06-13T11:09:06.091Z"
   },
   {
    "duration": 18,
    "start_time": "2021-06-13T11:09:06.191Z"
   },
   {
    "duration": 3264,
    "start_time": "2021-06-13T11:09:06.211Z"
   },
   {
    "duration": 736,
    "start_time": "2021-06-13T11:09:09.476Z"
   },
   {
    "duration": 6,
    "start_time": "2021-06-13T11:09:10.214Z"
   },
   {
    "duration": 169,
    "start_time": "2021-06-13T11:37:34.703Z"
   },
   {
    "duration": 70,
    "start_time": "2021-06-13T11:37:37.201Z"
   }
  ],
  "kernelspec": {
   "display_name": "Python 3",
   "language": "python",
   "name": "python3"
  },
  "language_info": {
   "codemirror_mode": {
    "name": "ipython",
    "version": 3
   },
   "file_extension": ".py",
   "mimetype": "text/x-python",
   "name": "python",
   "nbconvert_exporter": "python",
   "pygments_lexer": "ipython3",
   "version": "3.8.5"
  },
  "toc": {
   "base_numbering": 1,
   "nav_menu": {},
   "number_sections": true,
   "sideBar": true,
   "skip_h1_title": true,
   "title_cell": "Table of Contents",
   "title_sidebar": "Contents",
   "toc_cell": false,
   "toc_position": {},
   "toc_section_display": true,
   "toc_window_display": false
  }
 },
 "nbformat": 4,
 "nbformat_minor": 2
}
