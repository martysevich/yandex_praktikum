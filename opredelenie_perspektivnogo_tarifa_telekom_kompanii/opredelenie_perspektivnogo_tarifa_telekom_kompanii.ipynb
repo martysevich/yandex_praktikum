{
 "cells": [
  {
   "cell_type": "markdown",
   "metadata": {},
   "source": [
    "# Общая информация"
   ]
  },
  {
   "cell_type": "markdown",
   "metadata": {},
   "source": [
    "Вы аналитик компании «Мегалайн» — федерального оператора сотовой связи. Клиентам предлагают два тарифных плана: «Смарт» и «Ультра». Чтобы скорректировать рекламный бюджет, коммерческий департамент хочет понять, какой тариф приносит больше денег.\n",
    "Вам предстоит сделать предварительный анализ тарифов на небольшой выборке клиентов. В вашем распоряжении данные 500 пользователей «Мегалайна»: кто они, откуда, каким тарифом пользуются, сколько звонков и сообщений каждый отправил за 2018 год. Нужно проанализировать поведение клиентов и сделать вывод — какой тариф лучше."
   ]
  },
  {
   "cell_type": "markdown",
   "metadata": {},
   "source": [
    "# Описание тарифов"
   ]
  },
  {
   "cell_type": "markdown",
   "metadata": {},
   "source": [
    "**Тариф «Смарт»**\n",
    "1. Ежемесячная плата: 550 рублей\n",
    "2. Включено 500 минут разговора, 50 сообщений и 15 Гб интернет-трафика\n",
    "3. Стоимость услуг сверх тарифного пакета:\n",
    " * минута разговора: 3 рубля\n",
    " * сообщение: 3 рубля\n",
    " * 1 Гб интернет-трафика: 200 рублей"
   ]
  },
  {
   "cell_type": "markdown",
   "metadata": {},
   "source": [
    "**Тариф «Ультра»**\n",
    "1. Ежемесячная плата: 1950 рублей\n",
    "2. Включено 3000 минут разговора, 1000 сообщений и 30 Гб интернет-трафика\n",
    "3. Стоимость услуг сверх тарифного пакета:\n",
    " * минута разговора: 1 рубль\n",
    " * сообщение: 1 рубль\n",
    " * 1 Гб интернет-трафика: 150 рублей"
   ]
  },
  {
   "cell_type": "markdown",
   "metadata": {},
   "source": [
    "# Описание данных"
   ]
  },
  {
   "cell_type": "markdown",
   "metadata": {},
   "source": [
    "Таблица _**users** (информация о пользователях)_ :\n",
    "* user_id — уникальный идентификатор пользователя\n",
    "* first_name — имя пользователя\n",
    "* last_name — фамилия пользователя\n",
    "* age — возраст пользователя (годы)\n",
    "* reg_date — дата подключения тарифа (день, месяц, год)\n",
    "* churn_date — дата прекращения пользования тарифом (если значение пропущено, то тариф ещё действовал на момент выгрузки данных)\n",
    "* city — город проживания пользователя\n",
    "* tariff — название тарифного плана\n",
    "\n",
    "Таблица _**calls** (информация о звонках)_ :\n",
    "* id — уникальный номер звонка\n",
    "* call_date — дата звонка\n",
    "* duration — длительность звонка в минутах\n",
    "* user_id — идентификатор пользователя, сделавшего звонок\n",
    "\n",
    "Таблица _**messages** (информация о сообщениях)_ :\n",
    "* id — уникальный номер сообщения\n",
    "* message_date — дата сообщения\n",
    "* user_id — идентификатор пользователя, отправившего сообщение\n",
    "\n",
    "Таблица _**internet** (информация об интернет-сессиях)_ :\n",
    "* id — уникальный номер сессии\n",
    "* mb_used — объём потраченного за сессию интернет-трафика (в мегабайтах)\n",
    "* session_date — дата интернет-сессии\n",
    "* user_id — идентификатор пользователя\n",
    "\n",
    "Таблица _**tariffs** (информация о тарифах)_ :\n",
    "* tariff_name — название тарифа\n",
    "* rub_monthly_fee — ежемесячная абонентская плата в рублях\n",
    "* minutes_included — количество минут разговора в месяц, включённых в абонентскую плату\n",
    "* messages_included — количество сообщений в месяц, включённых в абонентскую плату\n",
    "* mb_per_month_included — объём интернет-трафика, включённого в абонентскую плату (в мегабайтах)\n",
    "* rub_per_minute — стоимость минуты разговора сверх тарифного пакета (например, если в тарифе 100 минут разговора в месяц, то со 101 минуты будет взиматься плата)\n",
    "* rub_per_message — стоимость отправки сообщения сверх тарифного пакета\n",
    "* rub_per_gb — стоимость дополнительного гигабайта интернет-трафика сверх тарифного пакета (1 гигабайт = 1024 мегабайта)"
   ]
  },
  {
   "cell_type": "markdown",
   "metadata": {},
   "source": [
    "# Содержание\n",
    "\n",
    "[Шаг 1. Изучение общей информации о файлах с данными](#Шаг-1.-Изучение-общей-информации-о-файлах-с-данными-1)\n",
    "\n",
    "[1.1  Выводы к первому шагу](#Выводы-к-первому-шагу)\n",
    "\n",
    "[2  Шаг 2. Подготовка данных](#Шаг-2.-Подготовка-данных)\n",
    "\n",
    "[2.1  Выводы ко второму шагу](#Выводы-ко-второму-шагу)\n",
    "\n",
    "[3  Шаг 3. Анализ данных](#Шаг-3.-Анализ-данных)\n",
    "\n",
    "[3.1  Выводы к третьему шагу](#Выводы-к-третьему-шагу-3.1)\n",
    "\n",
    "[4  Шаг 4. Проверка гипотез](#Шаг-4.-Проверка-гипотез)\n",
    "\n",
    "[4.1  Выводы к четвёртому шагу](#Выводы-к-четвёртому-шагу)\n",
    "\n",
    "[5  Шаг 5. Общий вывод](#Шаг-5.-Общий-вывод)"
   ]
  },
  {
   "cell_type": "markdown",
   "metadata": {},
   "source": [
    "## Шаг 1. Изучение общей информации о файлах с данными"
   ]
  },
  {
   "cell_type": "code",
   "execution_count": 1,
   "metadata": {},
   "outputs": [],
   "source": [
    "# подключаем необходимые библиотеки\n",
    "import pandas as pd\n",
    "import matplotlib.pyplot as plt\n",
    "import math\n",
    "import numpy as np\n",
    "from scipy import stats as st"
   ]
  },
  {
   "cell_type": "code",
   "execution_count": 2,
   "metadata": {},
   "outputs": [],
   "source": [
    "# открываем файлы\n",
    "calls_data = pd.read_csv('/datasets/calls.csv')\n",
    "internet_data = pd.read_csv('/datasets/internet.csv')\n",
    "messages_data = pd.read_csv('/datasets/messages.csv')\n",
    "tariffs_data = pd.read_csv('/datasets/tariffs.csv')\n",
    "users_data = pd.read_csv('/datasets/users.csv')"
   ]
  },
  {
   "cell_type": "code",
   "execution_count": 3,
   "metadata": {},
   "outputs": [
    {
     "data": {
      "text/html": [
       "<div>\n",
       "<style scoped>\n",
       "    .dataframe tbody tr th:only-of-type {\n",
       "        vertical-align: middle;\n",
       "    }\n",
       "\n",
       "    .dataframe tbody tr th {\n",
       "        vertical-align: top;\n",
       "    }\n",
       "\n",
       "    .dataframe thead th {\n",
       "        text-align: right;\n",
       "    }\n",
       "</style>\n",
       "<table border=\"1\" class=\"dataframe\">\n",
       "  <thead>\n",
       "    <tr style=\"text-align: right;\">\n",
       "      <th></th>\n",
       "      <th>id</th>\n",
       "      <th>call_date</th>\n",
       "      <th>duration</th>\n",
       "      <th>user_id</th>\n",
       "    </tr>\n",
       "  </thead>\n",
       "  <tbody>\n",
       "    <tr>\n",
       "      <td>0</td>\n",
       "      <td>1000_0</td>\n",
       "      <td>2018-07-25</td>\n",
       "      <td>0.00</td>\n",
       "      <td>1000</td>\n",
       "    </tr>\n",
       "    <tr>\n",
       "      <td>1</td>\n",
       "      <td>1000_1</td>\n",
       "      <td>2018-08-17</td>\n",
       "      <td>0.00</td>\n",
       "      <td>1000</td>\n",
       "    </tr>\n",
       "    <tr>\n",
       "      <td>2</td>\n",
       "      <td>1000_2</td>\n",
       "      <td>2018-06-11</td>\n",
       "      <td>2.85</td>\n",
       "      <td>1000</td>\n",
       "    </tr>\n",
       "    <tr>\n",
       "      <td>3</td>\n",
       "      <td>1000_3</td>\n",
       "      <td>2018-09-21</td>\n",
       "      <td>13.80</td>\n",
       "      <td>1000</td>\n",
       "    </tr>\n",
       "    <tr>\n",
       "      <td>4</td>\n",
       "      <td>1000_4</td>\n",
       "      <td>2018-12-15</td>\n",
       "      <td>5.18</td>\n",
       "      <td>1000</td>\n",
       "    </tr>\n",
       "  </tbody>\n",
       "</table>\n",
       "</div>"
      ],
      "text/plain": [
       "       id   call_date  duration  user_id\n",
       "0  1000_0  2018-07-25      0.00     1000\n",
       "1  1000_1  2018-08-17      0.00     1000\n",
       "2  1000_2  2018-06-11      2.85     1000\n",
       "3  1000_3  2018-09-21     13.80     1000\n",
       "4  1000_4  2018-12-15      5.18     1000"
      ]
     },
     "execution_count": 3,
     "metadata": {},
     "output_type": "execute_result"
    }
   ],
   "source": [
    "calls_data.head()"
   ]
  },
  {
   "cell_type": "code",
   "execution_count": 4,
   "metadata": {},
   "outputs": [
    {
     "data": {
      "text/html": [
       "<div>\n",
       "<style scoped>\n",
       "    .dataframe tbody tr th:only-of-type {\n",
       "        vertical-align: middle;\n",
       "    }\n",
       "\n",
       "    .dataframe tbody tr th {\n",
       "        vertical-align: top;\n",
       "    }\n",
       "\n",
       "    .dataframe thead th {\n",
       "        text-align: right;\n",
       "    }\n",
       "</style>\n",
       "<table border=\"1\" class=\"dataframe\">\n",
       "  <thead>\n",
       "    <tr style=\"text-align: right;\">\n",
       "      <th></th>\n",
       "      <th>Unnamed: 0</th>\n",
       "      <th>id</th>\n",
       "      <th>mb_used</th>\n",
       "      <th>session_date</th>\n",
       "      <th>user_id</th>\n",
       "    </tr>\n",
       "  </thead>\n",
       "  <tbody>\n",
       "    <tr>\n",
       "      <td>0</td>\n",
       "      <td>0</td>\n",
       "      <td>1000_0</td>\n",
       "      <td>112.95</td>\n",
       "      <td>2018-11-25</td>\n",
       "      <td>1000</td>\n",
       "    </tr>\n",
       "    <tr>\n",
       "      <td>1</td>\n",
       "      <td>1</td>\n",
       "      <td>1000_1</td>\n",
       "      <td>1052.81</td>\n",
       "      <td>2018-09-07</td>\n",
       "      <td>1000</td>\n",
       "    </tr>\n",
       "    <tr>\n",
       "      <td>2</td>\n",
       "      <td>2</td>\n",
       "      <td>1000_2</td>\n",
       "      <td>1197.26</td>\n",
       "      <td>2018-06-25</td>\n",
       "      <td>1000</td>\n",
       "    </tr>\n",
       "    <tr>\n",
       "      <td>3</td>\n",
       "      <td>3</td>\n",
       "      <td>1000_3</td>\n",
       "      <td>550.27</td>\n",
       "      <td>2018-08-22</td>\n",
       "      <td>1000</td>\n",
       "    </tr>\n",
       "    <tr>\n",
       "      <td>4</td>\n",
       "      <td>4</td>\n",
       "      <td>1000_4</td>\n",
       "      <td>302.56</td>\n",
       "      <td>2018-09-24</td>\n",
       "      <td>1000</td>\n",
       "    </tr>\n",
       "  </tbody>\n",
       "</table>\n",
       "</div>"
      ],
      "text/plain": [
       "   Unnamed: 0      id  mb_used session_date  user_id\n",
       "0           0  1000_0   112.95   2018-11-25     1000\n",
       "1           1  1000_1  1052.81   2018-09-07     1000\n",
       "2           2  1000_2  1197.26   2018-06-25     1000\n",
       "3           3  1000_3   550.27   2018-08-22     1000\n",
       "4           4  1000_4   302.56   2018-09-24     1000"
      ]
     },
     "execution_count": 4,
     "metadata": {},
     "output_type": "execute_result"
    }
   ],
   "source": [
    "internet_data.head()"
   ]
  },
  {
   "cell_type": "code",
   "execution_count": 5,
   "metadata": {},
   "outputs": [
    {
     "data": {
      "text/html": [
       "<div>\n",
       "<style scoped>\n",
       "    .dataframe tbody tr th:only-of-type {\n",
       "        vertical-align: middle;\n",
       "    }\n",
       "\n",
       "    .dataframe tbody tr th {\n",
       "        vertical-align: top;\n",
       "    }\n",
       "\n",
       "    .dataframe thead th {\n",
       "        text-align: right;\n",
       "    }\n",
       "</style>\n",
       "<table border=\"1\" class=\"dataframe\">\n",
       "  <thead>\n",
       "    <tr style=\"text-align: right;\">\n",
       "      <th></th>\n",
       "      <th>id</th>\n",
       "      <th>message_date</th>\n",
       "      <th>user_id</th>\n",
       "    </tr>\n",
       "  </thead>\n",
       "  <tbody>\n",
       "    <tr>\n",
       "      <td>0</td>\n",
       "      <td>1000_0</td>\n",
       "      <td>2018-06-27</td>\n",
       "      <td>1000</td>\n",
       "    </tr>\n",
       "    <tr>\n",
       "      <td>1</td>\n",
       "      <td>1000_1</td>\n",
       "      <td>2018-10-08</td>\n",
       "      <td>1000</td>\n",
       "    </tr>\n",
       "    <tr>\n",
       "      <td>2</td>\n",
       "      <td>1000_2</td>\n",
       "      <td>2018-08-04</td>\n",
       "      <td>1000</td>\n",
       "    </tr>\n",
       "    <tr>\n",
       "      <td>3</td>\n",
       "      <td>1000_3</td>\n",
       "      <td>2018-06-16</td>\n",
       "      <td>1000</td>\n",
       "    </tr>\n",
       "    <tr>\n",
       "      <td>4</td>\n",
       "      <td>1000_4</td>\n",
       "      <td>2018-12-05</td>\n",
       "      <td>1000</td>\n",
       "    </tr>\n",
       "  </tbody>\n",
       "</table>\n",
       "</div>"
      ],
      "text/plain": [
       "       id message_date  user_id\n",
       "0  1000_0   2018-06-27     1000\n",
       "1  1000_1   2018-10-08     1000\n",
       "2  1000_2   2018-08-04     1000\n",
       "3  1000_3   2018-06-16     1000\n",
       "4  1000_4   2018-12-05     1000"
      ]
     },
     "execution_count": 5,
     "metadata": {},
     "output_type": "execute_result"
    }
   ],
   "source": [
    "messages_data.head()"
   ]
  },
  {
   "cell_type": "code",
   "execution_count": 7,
   "metadata": {},
   "outputs": [
    {
     "data": {
      "text/html": [
       "<div>\n",
       "<style scoped>\n",
       "    .dataframe tbody tr th:only-of-type {\n",
       "        vertical-align: middle;\n",
       "    }\n",
       "\n",
       "    .dataframe tbody tr th {\n",
       "        vertical-align: top;\n",
       "    }\n",
       "\n",
       "    .dataframe thead th {\n",
       "        text-align: right;\n",
       "    }\n",
       "</style>\n",
       "<table border=\"1\" class=\"dataframe\">\n",
       "  <thead>\n",
       "    <tr style=\"text-align: right;\">\n",
       "      <th></th>\n",
       "      <th>messages_included</th>\n",
       "      <th>mb_per_month_included</th>\n",
       "      <th>minutes_included</th>\n",
       "      <th>rub_monthly_fee</th>\n",
       "      <th>rub_per_gb</th>\n",
       "      <th>rub_per_message</th>\n",
       "      <th>rub_per_minute</th>\n",
       "      <th>tariff_name</th>\n",
       "    </tr>\n",
       "  </thead>\n",
       "  <tbody>\n",
       "    <tr>\n",
       "      <td>0</td>\n",
       "      <td>50</td>\n",
       "      <td>15360</td>\n",
       "      <td>500</td>\n",
       "      <td>550</td>\n",
       "      <td>200</td>\n",
       "      <td>3</td>\n",
       "      <td>3</td>\n",
       "      <td>smart</td>\n",
       "    </tr>\n",
       "    <tr>\n",
       "      <td>1</td>\n",
       "      <td>1000</td>\n",
       "      <td>30720</td>\n",
       "      <td>3000</td>\n",
       "      <td>1950</td>\n",
       "      <td>150</td>\n",
       "      <td>1</td>\n",
       "      <td>1</td>\n",
       "      <td>ultra</td>\n",
       "    </tr>\n",
       "  </tbody>\n",
       "</table>\n",
       "</div>"
      ],
      "text/plain": [
       "   messages_included  mb_per_month_included  minutes_included  \\\n",
       "0                 50                  15360               500   \n",
       "1               1000                  30720              3000   \n",
       "\n",
       "   rub_monthly_fee  rub_per_gb  rub_per_message  rub_per_minute tariff_name  \n",
       "0              550         200                3               3       smart  \n",
       "1             1950         150                1               1       ultra  "
      ]
     },
     "execution_count": 7,
     "metadata": {},
     "output_type": "execute_result"
    }
   ],
   "source": [
    "tariffs_data.head()"
   ]
  },
  {
   "cell_type": "code",
   "execution_count": 8,
   "metadata": {},
   "outputs": [
    {
     "data": {
      "text/html": [
       "<div>\n",
       "<style scoped>\n",
       "    .dataframe tbody tr th:only-of-type {\n",
       "        vertical-align: middle;\n",
       "    }\n",
       "\n",
       "    .dataframe tbody tr th {\n",
       "        vertical-align: top;\n",
       "    }\n",
       "\n",
       "    .dataframe thead th {\n",
       "        text-align: right;\n",
       "    }\n",
       "</style>\n",
       "<table border=\"1\" class=\"dataframe\">\n",
       "  <thead>\n",
       "    <tr style=\"text-align: right;\">\n",
       "      <th></th>\n",
       "      <th>user_id</th>\n",
       "      <th>age</th>\n",
       "      <th>churn_date</th>\n",
       "      <th>city</th>\n",
       "      <th>first_name</th>\n",
       "      <th>last_name</th>\n",
       "      <th>reg_date</th>\n",
       "      <th>tariff</th>\n",
       "    </tr>\n",
       "  </thead>\n",
       "  <tbody>\n",
       "    <tr>\n",
       "      <td>0</td>\n",
       "      <td>1000</td>\n",
       "      <td>52</td>\n",
       "      <td>NaN</td>\n",
       "      <td>Краснодар</td>\n",
       "      <td>Рафаил</td>\n",
       "      <td>Верещагин</td>\n",
       "      <td>2018-05-25</td>\n",
       "      <td>ultra</td>\n",
       "    </tr>\n",
       "    <tr>\n",
       "      <td>1</td>\n",
       "      <td>1001</td>\n",
       "      <td>41</td>\n",
       "      <td>NaN</td>\n",
       "      <td>Москва</td>\n",
       "      <td>Иван</td>\n",
       "      <td>Ежов</td>\n",
       "      <td>2018-11-01</td>\n",
       "      <td>smart</td>\n",
       "    </tr>\n",
       "    <tr>\n",
       "      <td>2</td>\n",
       "      <td>1002</td>\n",
       "      <td>59</td>\n",
       "      <td>NaN</td>\n",
       "      <td>Стерлитамак</td>\n",
       "      <td>Евгений</td>\n",
       "      <td>Абрамович</td>\n",
       "      <td>2018-06-17</td>\n",
       "      <td>smart</td>\n",
       "    </tr>\n",
       "    <tr>\n",
       "      <td>3</td>\n",
       "      <td>1003</td>\n",
       "      <td>23</td>\n",
       "      <td>NaN</td>\n",
       "      <td>Москва</td>\n",
       "      <td>Белла</td>\n",
       "      <td>Белякова</td>\n",
       "      <td>2018-08-17</td>\n",
       "      <td>ultra</td>\n",
       "    </tr>\n",
       "    <tr>\n",
       "      <td>4</td>\n",
       "      <td>1004</td>\n",
       "      <td>68</td>\n",
       "      <td>NaN</td>\n",
       "      <td>Новокузнецк</td>\n",
       "      <td>Татьяна</td>\n",
       "      <td>Авдеенко</td>\n",
       "      <td>2018-05-14</td>\n",
       "      <td>ultra</td>\n",
       "    </tr>\n",
       "  </tbody>\n",
       "</table>\n",
       "</div>"
      ],
      "text/plain": [
       "   user_id  age churn_date         city first_name  last_name    reg_date  \\\n",
       "0     1000   52        NaN    Краснодар     Рафаил  Верещагин  2018-05-25   \n",
       "1     1001   41        NaN       Москва       Иван       Ежов  2018-11-01   \n",
       "2     1002   59        NaN  Стерлитамак    Евгений  Абрамович  2018-06-17   \n",
       "3     1003   23        NaN       Москва      Белла   Белякова  2018-08-17   \n",
       "4     1004   68        NaN  Новокузнецк    Татьяна   Авдеенко  2018-05-14   \n",
       "\n",
       "  tariff  \n",
       "0  ultra  \n",
       "1  smart  \n",
       "2  smart  \n",
       "3  ultra  \n",
       "4  ultra  "
      ]
     },
     "execution_count": 8,
     "metadata": {},
     "output_type": "execute_result"
    }
   ],
   "source": [
    "users_data.head()"
   ]
  },
  {
   "cell_type": "code",
   "execution_count": 9,
   "metadata": {},
   "outputs": [
    {
     "name": "stdout",
     "output_type": "stream",
     "text": [
      "<class 'pandas.core.frame.DataFrame'>\n",
      "RangeIndex: 202607 entries, 0 to 202606\n",
      "Data columns (total 4 columns):\n",
      "id           202607 non-null object\n",
      "call_date    202607 non-null object\n",
      "duration     202607 non-null float64\n",
      "user_id      202607 non-null int64\n",
      "dtypes: float64(1), int64(1), object(2)\n",
      "memory usage: 6.2+ MB\n"
     ]
    }
   ],
   "source": [
    "calls_data.info()"
   ]
  },
  {
   "cell_type": "code",
   "execution_count": 10,
   "metadata": {},
   "outputs": [
    {
     "name": "stdout",
     "output_type": "stream",
     "text": [
      "<class 'pandas.core.frame.DataFrame'>\n",
      "RangeIndex: 149396 entries, 0 to 149395\n",
      "Data columns (total 5 columns):\n",
      "Unnamed: 0      149396 non-null int64\n",
      "id              149396 non-null object\n",
      "mb_used         149396 non-null float64\n",
      "session_date    149396 non-null object\n",
      "user_id         149396 non-null int64\n",
      "dtypes: float64(1), int64(2), object(2)\n",
      "memory usage: 5.7+ MB\n"
     ]
    }
   ],
   "source": [
    "internet_data.info()"
   ]
  },
  {
   "cell_type": "code",
   "execution_count": 11,
   "metadata": {},
   "outputs": [
    {
     "name": "stdout",
     "output_type": "stream",
     "text": [
      "<class 'pandas.core.frame.DataFrame'>\n",
      "RangeIndex: 123036 entries, 0 to 123035\n",
      "Data columns (total 3 columns):\n",
      "id              123036 non-null object\n",
      "message_date    123036 non-null object\n",
      "user_id         123036 non-null int64\n",
      "dtypes: int64(1), object(2)\n",
      "memory usage: 2.8+ MB\n"
     ]
    }
   ],
   "source": [
    "messages_data.info()"
   ]
  },
  {
   "cell_type": "code",
   "execution_count": 12,
   "metadata": {},
   "outputs": [
    {
     "name": "stdout",
     "output_type": "stream",
     "text": [
      "<class 'pandas.core.frame.DataFrame'>\n",
      "RangeIndex: 2 entries, 0 to 1\n",
      "Data columns (total 8 columns):\n",
      "messages_included        2 non-null int64\n",
      "mb_per_month_included    2 non-null int64\n",
      "minutes_included         2 non-null int64\n",
      "rub_monthly_fee          2 non-null int64\n",
      "rub_per_gb               2 non-null int64\n",
      "rub_per_message          2 non-null int64\n",
      "rub_per_minute           2 non-null int64\n",
      "tariff_name              2 non-null object\n",
      "dtypes: int64(7), object(1)\n",
      "memory usage: 256.0+ bytes\n"
     ]
    }
   ],
   "source": [
    "tariffs_data.info()"
   ]
  },
  {
   "cell_type": "code",
   "execution_count": 13,
   "metadata": {},
   "outputs": [
    {
     "name": "stdout",
     "output_type": "stream",
     "text": [
      "<class 'pandas.core.frame.DataFrame'>\n",
      "RangeIndex: 500 entries, 0 to 499\n",
      "Data columns (total 8 columns):\n",
      "user_id       500 non-null int64\n",
      "age           500 non-null int64\n",
      "churn_date    38 non-null object\n",
      "city          500 non-null object\n",
      "first_name    500 non-null object\n",
      "last_name     500 non-null object\n",
      "reg_date      500 non-null object\n",
      "tariff        500 non-null object\n",
      "dtypes: int64(2), object(6)\n",
      "memory usage: 31.4+ KB\n"
     ]
    }
   ],
   "source": [
    "users_data.info()"
   ]
  },
  {
   "cell_type": "code",
   "execution_count": 14,
   "metadata": {},
   "outputs": [
    {
     "data": {
      "text/html": [
       "<div>\n",
       "<style scoped>\n",
       "    .dataframe tbody tr th:only-of-type {\n",
       "        vertical-align: middle;\n",
       "    }\n",
       "\n",
       "    .dataframe tbody tr th {\n",
       "        vertical-align: top;\n",
       "    }\n",
       "\n",
       "    .dataframe thead th {\n",
       "        text-align: right;\n",
       "    }\n",
       "</style>\n",
       "<table border=\"1\" class=\"dataframe\">\n",
       "  <thead>\n",
       "    <tr style=\"text-align: right;\">\n",
       "      <th></th>\n",
       "      <th>user_id</th>\n",
       "    </tr>\n",
       "  </thead>\n",
       "  <tbody>\n",
       "    <tr>\n",
       "      <td>count</td>\n",
       "      <td>123036.000000</td>\n",
       "    </tr>\n",
       "    <tr>\n",
       "      <td>mean</td>\n",
       "      <td>1256.989410</td>\n",
       "    </tr>\n",
       "    <tr>\n",
       "      <td>std</td>\n",
       "      <td>143.523967</td>\n",
       "    </tr>\n",
       "    <tr>\n",
       "      <td>min</td>\n",
       "      <td>1000.000000</td>\n",
       "    </tr>\n",
       "    <tr>\n",
       "      <td>25%</td>\n",
       "      <td>1134.000000</td>\n",
       "    </tr>\n",
       "    <tr>\n",
       "      <td>50%</td>\n",
       "      <td>1271.000000</td>\n",
       "    </tr>\n",
       "    <tr>\n",
       "      <td>75%</td>\n",
       "      <td>1381.000000</td>\n",
       "    </tr>\n",
       "    <tr>\n",
       "      <td>max</td>\n",
       "      <td>1499.000000</td>\n",
       "    </tr>\n",
       "  </tbody>\n",
       "</table>\n",
       "</div>"
      ],
      "text/plain": [
       "             user_id\n",
       "count  123036.000000\n",
       "mean     1256.989410\n",
       "std       143.523967\n",
       "min      1000.000000\n",
       "25%      1134.000000\n",
       "50%      1271.000000\n",
       "75%      1381.000000\n",
       "max      1499.000000"
      ]
     },
     "execution_count": 14,
     "metadata": {},
     "output_type": "execute_result"
    }
   ],
   "source": [
    "messages_data.describe()"
   ]
  },
  {
   "cell_type": "markdown",
   "metadata": {},
   "source": [
    "### Выводы к первому шагу\n",
    "\n",
    "У нас в распоряжении 5 датасетов с информацией о 500 пользователей \"Мегалайна\", их звонках, сообщениях и потраченом объёме интеренет-трафика. Данные \"чистые\", т. е. без обоснованных пропусков, но их надо привести к пригодному, для анализа формату, что и будет сделано в следующем шаге :)"
   ]
  },
  {
   "cell_type": "markdown",
   "metadata": {},
   "source": [
    "## Шаг 2. Подготовка данных"
   ]
  },
  {
   "cell_type": "code",
   "execution_count": 15,
   "metadata": {},
   "outputs": [
    {
     "name": "stdout",
     "output_type": "stream",
     "text": [
      "В датафрейме calls_data пропуски отсутствуют\n",
      "В датафрейме internet_data пропуски отсутствуют\n",
      "В датафрейме messages_data пропуски отсутствуют\n",
      "В датафрейме tariffs_data пропуски отсутствуют\n",
      "В датафрейме users_data есть пропуски\n"
     ]
    }
   ],
   "source": [
    "if calls_data.isnull().sum().sum() == 0:\n",
    "    print('В датафрейме calls_data пропуски отсутствуют')\n",
    "else:\n",
    "    print('В датафрейме calls_data есть пропуски')\n",
    "\n",
    "if internet_data.isnull().sum().sum() == 0:\n",
    "    print('В датафрейме internet_data пропуски отсутствуют')\n",
    "else:\n",
    "    print('В датафрейме internet_data есть пропуски')\n",
    "    \n",
    "if messages_data.isnull().sum().sum() == 0:\n",
    "    print('В датафрейме messages_data пропуски отсутствуют')\n",
    "else:\n",
    "    print('В датафрейме messages_data есть пропуски')\n",
    "    \n",
    "if tariffs_data.isnull().sum().sum() == 0:\n",
    "    print('В датафрейме tariffs_data пропуски отсутствуют')\n",
    "else:\n",
    "    print('В датафрейме tariffs_data есть пропуски')\n",
    "    \n",
    "if users_data.isnull().sum().sum() == 0:\n",
    "    print('В датафрейме users_data пропуски отсутствуют')\n",
    "else:\n",
    "    print('В датафрейме users_data есть пропуски')"
   ]
  },
  {
   "cell_type": "code",
   "execution_count": 16,
   "metadata": {},
   "outputs": [
    {
     "name": "stdout",
     "output_type": "stream",
     "text": [
      "<class 'pandas.core.frame.DataFrame'>\n",
      "RangeIndex: 202607 entries, 0 to 202606\n",
      "Data columns (total 4 columns):\n",
      "id           202607 non-null object\n",
      "call_date    202607 non-null object\n",
      "duration     202607 non-null float64\n",
      "user_id      202607 non-null int64\n",
      "dtypes: float64(1), int64(1), object(2)\n",
      "memory usage: 6.2+ MB\n"
     ]
    }
   ],
   "source": [
    "calls_data.info()"
   ]
  },
  {
   "cell_type": "code",
   "execution_count": 17,
   "metadata": {},
   "outputs": [],
   "source": [
    "calls_data['call_date'] = pd.to_datetime(calls_data['call_date'], format = '%Y-%m-%d')\n",
    "calls_data['duration'] = np.ceil(calls_data['duration'])\n",
    "calls_data['duration'] = calls_data['duration'].astype('int')"
   ]
  },
  {
   "cell_type": "code",
   "execution_count": 18,
   "metadata": {},
   "outputs": [
    {
     "data": {
      "text/plain": [
       "1.0"
      ]
     },
     "execution_count": 18,
     "metadata": {},
     "output_type": "execute_result"
    }
   ],
   "source": [
    "np.around(1.1)"
   ]
  },
  {
   "cell_type": "code",
   "execution_count": 19,
   "metadata": {},
   "outputs": [
    {
     "name": "stdout",
     "output_type": "stream",
     "text": [
      "<class 'pandas.core.frame.DataFrame'>\n",
      "RangeIndex: 149396 entries, 0 to 149395\n",
      "Data columns (total 5 columns):\n",
      "Unnamed: 0      149396 non-null int64\n",
      "id              149396 non-null object\n",
      "mb_used         149396 non-null float64\n",
      "session_date    149396 non-null object\n",
      "user_id         149396 non-null int64\n",
      "dtypes: float64(1), int64(2), object(2)\n",
      "memory usage: 5.7+ MB\n"
     ]
    }
   ],
   "source": [
    "internet_data.info()"
   ]
  },
  {
   "cell_type": "code",
   "execution_count": 20,
   "metadata": {},
   "outputs": [],
   "source": [
    "internet_data['session_date'] = pd.to_datetime(internet_data['session_date'], format = '%Y-%m-%d')\n",
    "internet_data['mb_used'] = np.ceil(internet_data['mb_used'])\n",
    "internet_data['mb_used'] = internet_data['mb_used'].astype('int')"
   ]
  },
  {
   "cell_type": "code",
   "execution_count": 21,
   "metadata": {},
   "outputs": [
    {
     "name": "stdout",
     "output_type": "stream",
     "text": [
      "<class 'pandas.core.frame.DataFrame'>\n",
      "RangeIndex: 123036 entries, 0 to 123035\n",
      "Data columns (total 3 columns):\n",
      "id              123036 non-null object\n",
      "message_date    123036 non-null object\n",
      "user_id         123036 non-null int64\n",
      "dtypes: int64(1), object(2)\n",
      "memory usage: 2.8+ MB\n"
     ]
    }
   ],
   "source": [
    "messages_data.info()"
   ]
  },
  {
   "cell_type": "code",
   "execution_count": 22,
   "metadata": {},
   "outputs": [],
   "source": [
    "messages_data['message_date'] = pd.to_datetime(messages_data['message_date'], format = '%Y-%m-%d')"
   ]
  },
  {
   "cell_type": "code",
   "execution_count": 23,
   "metadata": {},
   "outputs": [
    {
     "name": "stdout",
     "output_type": "stream",
     "text": [
      "<class 'pandas.core.frame.DataFrame'>\n",
      "RangeIndex: 2 entries, 0 to 1\n",
      "Data columns (total 8 columns):\n",
      "messages_included        2 non-null int64\n",
      "mb_per_month_included    2 non-null int64\n",
      "minutes_included         2 non-null int64\n",
      "rub_monthly_fee          2 non-null int64\n",
      "rub_per_gb               2 non-null int64\n",
      "rub_per_message          2 non-null int64\n",
      "rub_per_minute           2 non-null int64\n",
      "tariff_name              2 non-null object\n",
      "dtypes: int64(7), object(1)\n",
      "memory usage: 256.0+ bytes\n"
     ]
    }
   ],
   "source": [
    "tariffs_data.info()"
   ]
  },
  {
   "cell_type": "code",
   "execution_count": 24,
   "metadata": {},
   "outputs": [
    {
     "name": "stdout",
     "output_type": "stream",
     "text": [
      "<class 'pandas.core.frame.DataFrame'>\n",
      "RangeIndex: 500 entries, 0 to 499\n",
      "Data columns (total 8 columns):\n",
      "user_id       500 non-null int64\n",
      "age           500 non-null int64\n",
      "churn_date    38 non-null object\n",
      "city          500 non-null object\n",
      "first_name    500 non-null object\n",
      "last_name     500 non-null object\n",
      "reg_date      500 non-null object\n",
      "tariff        500 non-null object\n",
      "dtypes: int64(2), object(6)\n",
      "memory usage: 31.4+ KB\n"
     ]
    }
   ],
   "source": [
    "users_data.info()"
   ]
  },
  {
   "cell_type": "code",
   "execution_count": 25,
   "metadata": {},
   "outputs": [],
   "source": [
    "users_data['reg_date'] = pd.to_datetime(users_data['reg_date'], format = '%Y-%m-%d')\n",
    "users_data['churn_date'] = pd.to_datetime(users_data['churn_date'], format = '%Y-%m-%d')"
   ]
  },
  {
   "cell_type": "markdown",
   "metadata": {},
   "source": [
    "На данном этапе значения **даты** приведены к необходимому, для дальшнейшего анализа формату. Значения **минут**, и **мегабайт** округлены в большую сторону (согласно тарификации \"Мегалайна\") и переведены в целочисленный тип. Пропуски в таблице _users_ в столбце с данными о дате прекращения пользования тарифом обосноваты там, что клиент ещё пользуется услугами оператора."
   ]
  },
  {
   "cell_type": "code",
   "execution_count": 26,
   "metadata": {},
   "outputs": [
    {
     "name": "stdout",
     "output_type": "stream",
     "text": [
      "Число дубликатов в датасете calls: 0\n",
      "Число дубликатов в датасете internet: 0\n",
      "Число дубликатов в датасете messages: 0\n",
      "Число дубликатов в датасете tariffs: 0\n",
      "Число дубликатов в датасете users: 0\n"
     ]
    }
   ],
   "source": [
    "print('Число дубликатов в датасете calls:', calls_data.duplicated().sum())\n",
    "print('Число дубликатов в датасете internet:', internet_data.duplicated().sum())\n",
    "print('Число дубликатов в датасете messages:', messages_data.duplicated().sum())\n",
    "print('Число дубликатов в датасете tariffs:', tariffs_data.duplicated().sum())\n",
    "print('Число дубликатов в датасете users:', users_data.duplicated().sum())"
   ]
  },
  {
   "cell_type": "markdown",
   "metadata": {},
   "source": [
    "Дубликаты во всех датасетах не обнаружены."
   ]
  },
  {
   "cell_type": "code",
   "execution_count": 27,
   "metadata": {},
   "outputs": [
    {
     "name": "stdout",
     "output_type": "stream",
     "text": [
      "Процент нулевых значений в таблице с звонками: 19.55%\n",
      "Процент нулевых значений в таблице с интернетом: 13.12%\n"
     ]
    }
   ],
   "source": [
    "print('Процент нулевых значений в таблице с звонками: {:.2%}'.format((calls_data[calls_data['duration'] == 0]['duration'].count()) / len(calls_data['duration'])))\n",
    "\n",
    "print('Процент нулевых значений в таблице с интернетом: {:.2%}'.format((internet_data[internet_data['mb_used'] == 0]['mb_used'].count()) / len(internet_data['mb_used'])))"
   ]
  },
  {
   "cell_type": "code",
   "execution_count": 28,
   "metadata": {},
   "outputs": [],
   "source": [
    "# посчитаем для каждого пользователя: количество сделанных звонков и израсходованных минут разговора по месяцам\n",
    "calls_data['month'] = pd.DatetimeIndex(calls_data['call_date']).month\n",
    "calls_data_count = calls_data.pivot_table(index = ['user_id', 'month'], values = 'duration', aggfunc = ['count', 'sum'])\n",
    "calls_data_count.columns = ['calls_count', 'calls_sum']"
   ]
  },
  {
   "cell_type": "code",
   "execution_count": 29,
   "metadata": {},
   "outputs": [],
   "source": [
    "# посчитаем для каждого пользователя: количество отправленных сообщений по месяцам\n",
    "messages_data['month'] = pd.DatetimeIndex(messages_data['message_date']).month\n",
    "messages_data_count = messages_data.pivot_table(index = ['user_id', 'month'], values = 'id', aggfunc = 'count')\n",
    "messages_data_count.columns = ['messages_sum']"
   ]
  },
  {
   "cell_type": "code",
   "execution_count": 30,
   "metadata": {},
   "outputs": [],
   "source": [
    "# посчитаем для каждого пользователя: объем израсходованного интернет-трафика по месяцам\n",
    "internet_data['month'] = pd.DatetimeIndex(internet_data['session_date']).month\n",
    "internet_data_count = internet_data.pivot_table(index = ['user_id', 'month'], values = 'mb_used', aggfunc = 'sum')\n",
    "internet_data_count.columns = ['internet_sum']"
   ]
  },
  {
   "cell_type": "code",
   "execution_count": 31,
   "metadata": {},
   "outputs": [],
   "source": [
    "# объединим все данные в одну таблицу\n",
    "final_report = calls_data_count.merge(messages_data_count, how = 'outer', on = ['user_id', 'month']).merge(internet_data_count, how = 'outer', on = ['user_id', 'month'])\n",
    "tariff_name = users_data[['user_id', 'tariff']]\n",
    "final_report = final_report.reset_index().merge(tariff_name, on = ['user_id'], how = 'left')"
   ]
  },
  {
   "cell_type": "code",
   "execution_count": 32,
   "metadata": {},
   "outputs": [
    {
     "data": {
      "text/html": [
       "<div>\n",
       "<style scoped>\n",
       "    .dataframe tbody tr th:only-of-type {\n",
       "        vertical-align: middle;\n",
       "    }\n",
       "\n",
       "    .dataframe tbody tr th {\n",
       "        vertical-align: top;\n",
       "    }\n",
       "\n",
       "    .dataframe thead th {\n",
       "        text-align: right;\n",
       "    }\n",
       "</style>\n",
       "<table border=\"1\" class=\"dataframe\">\n",
       "  <thead>\n",
       "    <tr style=\"text-align: right;\">\n",
       "      <th></th>\n",
       "      <th>user_id</th>\n",
       "      <th>month</th>\n",
       "      <th>calls_count</th>\n",
       "      <th>calls_sum</th>\n",
       "      <th>messages_sum</th>\n",
       "      <th>internet_sum</th>\n",
       "      <th>tariff</th>\n",
       "    </tr>\n",
       "  </thead>\n",
       "  <tbody>\n",
       "    <tr>\n",
       "      <td>0</td>\n",
       "      <td>1000</td>\n",
       "      <td>5</td>\n",
       "      <td>22.0</td>\n",
       "      <td>159.0</td>\n",
       "      <td>22.0</td>\n",
       "      <td>2256.0</td>\n",
       "      <td>ultra</td>\n",
       "    </tr>\n",
       "    <tr>\n",
       "      <td>1</td>\n",
       "      <td>1000</td>\n",
       "      <td>6</td>\n",
       "      <td>43.0</td>\n",
       "      <td>172.0</td>\n",
       "      <td>60.0</td>\n",
       "      <td>23257.0</td>\n",
       "      <td>ultra</td>\n",
       "    </tr>\n",
       "    <tr>\n",
       "      <td>2</td>\n",
       "      <td>1000</td>\n",
       "      <td>7</td>\n",
       "      <td>47.0</td>\n",
       "      <td>340.0</td>\n",
       "      <td>75.0</td>\n",
       "      <td>14016.0</td>\n",
       "      <td>ultra</td>\n",
       "    </tr>\n",
       "    <tr>\n",
       "      <td>3</td>\n",
       "      <td>1000</td>\n",
       "      <td>8</td>\n",
       "      <td>52.0</td>\n",
       "      <td>408.0</td>\n",
       "      <td>81.0</td>\n",
       "      <td>14070.0</td>\n",
       "      <td>ultra</td>\n",
       "    </tr>\n",
       "    <tr>\n",
       "      <td>4</td>\n",
       "      <td>1000</td>\n",
       "      <td>9</td>\n",
       "      <td>58.0</td>\n",
       "      <td>466.0</td>\n",
       "      <td>57.0</td>\n",
       "      <td>14581.0</td>\n",
       "      <td>ultra</td>\n",
       "    </tr>\n",
       "    <tr>\n",
       "      <td>5</td>\n",
       "      <td>1000</td>\n",
       "      <td>10</td>\n",
       "      <td>57.0</td>\n",
       "      <td>350.0</td>\n",
       "      <td>73.0</td>\n",
       "      <td>14717.0</td>\n",
       "      <td>ultra</td>\n",
       "    </tr>\n",
       "    <tr>\n",
       "      <td>6</td>\n",
       "      <td>1000</td>\n",
       "      <td>11</td>\n",
       "      <td>43.0</td>\n",
       "      <td>338.0</td>\n",
       "      <td>58.0</td>\n",
       "      <td>14768.0</td>\n",
       "      <td>ultra</td>\n",
       "    </tr>\n",
       "    <tr>\n",
       "      <td>7</td>\n",
       "      <td>1000</td>\n",
       "      <td>12</td>\n",
       "      <td>46.0</td>\n",
       "      <td>333.0</td>\n",
       "      <td>70.0</td>\n",
       "      <td>9827.0</td>\n",
       "      <td>ultra</td>\n",
       "    </tr>\n",
       "    <tr>\n",
       "      <td>8</td>\n",
       "      <td>1001</td>\n",
       "      <td>11</td>\n",
       "      <td>59.0</td>\n",
       "      <td>430.0</td>\n",
       "      <td>NaN</td>\n",
       "      <td>18452.0</td>\n",
       "      <td>smart</td>\n",
       "    </tr>\n",
       "    <tr>\n",
       "      <td>9</td>\n",
       "      <td>1001</td>\n",
       "      <td>12</td>\n",
       "      <td>63.0</td>\n",
       "      <td>414.0</td>\n",
       "      <td>NaN</td>\n",
       "      <td>14053.0</td>\n",
       "      <td>smart</td>\n",
       "    </tr>\n",
       "  </tbody>\n",
       "</table>\n",
       "</div>"
      ],
      "text/plain": [
       "   user_id  month  calls_count  calls_sum  messages_sum  internet_sum tariff\n",
       "0     1000      5         22.0      159.0          22.0        2256.0  ultra\n",
       "1     1000      6         43.0      172.0          60.0       23257.0  ultra\n",
       "2     1000      7         47.0      340.0          75.0       14016.0  ultra\n",
       "3     1000      8         52.0      408.0          81.0       14070.0  ultra\n",
       "4     1000      9         58.0      466.0          57.0       14581.0  ultra\n",
       "5     1000     10         57.0      350.0          73.0       14717.0  ultra\n",
       "6     1000     11         43.0      338.0          58.0       14768.0  ultra\n",
       "7     1000     12         46.0      333.0          70.0        9827.0  ultra\n",
       "8     1001     11         59.0      430.0           NaN       18452.0  smart\n",
       "9     1001     12         63.0      414.0           NaN       14053.0  smart"
      ]
     },
     "execution_count": 32,
     "metadata": {},
     "output_type": "execute_result"
    }
   ],
   "source": [
    "final_report.head(10)"
   ]
  },
  {
   "cell_type": "code",
   "execution_count": 33,
   "metadata": {
    "scrolled": true
   },
   "outputs": [
    {
     "data": {
      "text/plain": [
       "user_id           0\n",
       "month             0\n",
       "calls_count      40\n",
       "calls_sum        40\n",
       "messages_sum    497\n",
       "internet_sum     11\n",
       "tariff            0\n",
       "dtype: int64"
      ]
     },
     "execution_count": 33,
     "metadata": {},
     "output_type": "execute_result"
    }
   ],
   "source": [
    "# проверим новую таблицу на пропуски\n",
    "final_report.isnull().sum()"
   ]
  },
  {
   "cell_type": "code",
   "execution_count": 34,
   "metadata": {},
   "outputs": [],
   "source": [
    "final_report['calls_count'] = final_report['calls_count'].fillna(0)\n",
    "final_report['calls_sum'] = final_report['calls_sum'].fillna(0)\n",
    "final_report['messages_sum'] = final_report['messages_sum'].fillna(0)\n",
    "final_report['internet_sum'] = final_report['internet_sum'].fillna(0)"
   ]
  },
  {
   "cell_type": "markdown",
   "metadata": {},
   "source": [
    "В рещультате новых преобразований появились пропуски, но они не страшны, т. к. предполагаем что пропуски в тем местах, где клиент не польовался определённой услугой (например не разу за месяц не отправил сообщение), поэтому их заменяем **0**."
   ]
  },
  {
   "cell_type": "code",
   "execution_count": 35,
   "metadata": {},
   "outputs": [],
   "source": [
    "def monthly_revenue (row):\n",
    "    \n",
    "    calls = row['calls_sum']\n",
    "    messages = row['messages_sum']\n",
    "    internet = row['internet_sum']\n",
    "    tariff = row['tariff']\n",
    "    \n",
    "    minute_limit = tariffs_data.loc[tariffs_data['tariff_name'] == tariff, 'minutes_included'].array[0]\n",
    "    messages_limit = tariffs_data.loc[tariffs_data['tariff_name'] == tariff, 'messages_included'].array[0]\n",
    "    internet_limit = tariffs_data.loc[tariffs_data['tariff_name'] == tariff, 'mb_per_month_included'].array[0]\n",
    "    \n",
    "    # переплата за звонки\n",
    "    if (minute_limit - calls) < 0:\n",
    "        calls_overpayment = np.abs(calls - minute_limit) * tariffs_data.loc[tariffs_data['tariff_name'] == tariff, 'rub_per_minute'].array[0]\n",
    "    else: \n",
    "        calls_overpayment = 0\n",
    "    \n",
    "    # переплата за сообщения\n",
    "    if (messages_limit - messages) < 0:\n",
    "        messages_overpayment = np.abs(messages_limit - messages) * tariffs_data.loc[tariffs_data['tariff_name'] == tariff, 'rub_per_message'].array[0]\n",
    "    else: \n",
    "        messages_overpayment = 0\n",
    "    \n",
    "    # переплата за интерет\n",
    "    if (internet_limit - internet) < 0:\n",
    "        internet_overpayment = (np.abs(internet_limit - internet)/1024) * tariffs_data.loc[tariffs_data['tariff_name'] == tariff, 'rub_per_gb'].array[0]\n",
    "    else: \n",
    "        internet_overpayment = 0\n",
    "    \n",
    "    # абонентская плата\n",
    "    subscription_fee = tariffs_data.loc[tariffs_data['tariff_name'] == tariff, 'rub_monthly_fee'].array[0]\n",
    "    return (calls_overpayment + messages_overpayment + internet_overpayment + subscription_fee)"
   ]
  },
  {
   "cell_type": "code",
   "execution_count": 36,
   "metadata": {},
   "outputs": [],
   "source": [
    "final_report['monthly_revenue'] = final_report.apply(monthly_revenue, axis=1).astype('int')"
   ]
  },
  {
   "cell_type": "code",
   "execution_count": 37,
   "metadata": {},
   "outputs": [
    {
     "data": {
      "text/html": [
       "<div>\n",
       "<style scoped>\n",
       "    .dataframe tbody tr th:only-of-type {\n",
       "        vertical-align: middle;\n",
       "    }\n",
       "\n",
       "    .dataframe tbody tr th {\n",
       "        vertical-align: top;\n",
       "    }\n",
       "\n",
       "    .dataframe thead th {\n",
       "        text-align: right;\n",
       "    }\n",
       "</style>\n",
       "<table border=\"1\" class=\"dataframe\">\n",
       "  <thead>\n",
       "    <tr style=\"text-align: right;\">\n",
       "      <th></th>\n",
       "      <th>user_id</th>\n",
       "      <th>month</th>\n",
       "      <th>calls_count</th>\n",
       "      <th>calls_sum</th>\n",
       "      <th>messages_sum</th>\n",
       "      <th>internet_sum</th>\n",
       "      <th>tariff</th>\n",
       "      <th>monthly_revenue</th>\n",
       "    </tr>\n",
       "  </thead>\n",
       "  <tbody>\n",
       "    <tr>\n",
       "      <td>0</td>\n",
       "      <td>1000</td>\n",
       "      <td>5</td>\n",
       "      <td>22.0</td>\n",
       "      <td>159.0</td>\n",
       "      <td>22.0</td>\n",
       "      <td>2256.0</td>\n",
       "      <td>ultra</td>\n",
       "      <td>1950</td>\n",
       "    </tr>\n",
       "    <tr>\n",
       "      <td>1</td>\n",
       "      <td>1000</td>\n",
       "      <td>6</td>\n",
       "      <td>43.0</td>\n",
       "      <td>172.0</td>\n",
       "      <td>60.0</td>\n",
       "      <td>23257.0</td>\n",
       "      <td>ultra</td>\n",
       "      <td>1950</td>\n",
       "    </tr>\n",
       "    <tr>\n",
       "      <td>2</td>\n",
       "      <td>1000</td>\n",
       "      <td>7</td>\n",
       "      <td>47.0</td>\n",
       "      <td>340.0</td>\n",
       "      <td>75.0</td>\n",
       "      <td>14016.0</td>\n",
       "      <td>ultra</td>\n",
       "      <td>1950</td>\n",
       "    </tr>\n",
       "    <tr>\n",
       "      <td>3</td>\n",
       "      <td>1000</td>\n",
       "      <td>8</td>\n",
       "      <td>52.0</td>\n",
       "      <td>408.0</td>\n",
       "      <td>81.0</td>\n",
       "      <td>14070.0</td>\n",
       "      <td>ultra</td>\n",
       "      <td>1950</td>\n",
       "    </tr>\n",
       "    <tr>\n",
       "      <td>4</td>\n",
       "      <td>1000</td>\n",
       "      <td>9</td>\n",
       "      <td>58.0</td>\n",
       "      <td>466.0</td>\n",
       "      <td>57.0</td>\n",
       "      <td>14581.0</td>\n",
       "      <td>ultra</td>\n",
       "      <td>1950</td>\n",
       "    </tr>\n",
       "    <tr>\n",
       "      <td>5</td>\n",
       "      <td>1000</td>\n",
       "      <td>10</td>\n",
       "      <td>57.0</td>\n",
       "      <td>350.0</td>\n",
       "      <td>73.0</td>\n",
       "      <td>14717.0</td>\n",
       "      <td>ultra</td>\n",
       "      <td>1950</td>\n",
       "    </tr>\n",
       "    <tr>\n",
       "      <td>6</td>\n",
       "      <td>1000</td>\n",
       "      <td>11</td>\n",
       "      <td>43.0</td>\n",
       "      <td>338.0</td>\n",
       "      <td>58.0</td>\n",
       "      <td>14768.0</td>\n",
       "      <td>ultra</td>\n",
       "      <td>1950</td>\n",
       "    </tr>\n",
       "    <tr>\n",
       "      <td>7</td>\n",
       "      <td>1000</td>\n",
       "      <td>12</td>\n",
       "      <td>46.0</td>\n",
       "      <td>333.0</td>\n",
       "      <td>70.0</td>\n",
       "      <td>9827.0</td>\n",
       "      <td>ultra</td>\n",
       "      <td>1950</td>\n",
       "    </tr>\n",
       "    <tr>\n",
       "      <td>8</td>\n",
       "      <td>1001</td>\n",
       "      <td>11</td>\n",
       "      <td>59.0</td>\n",
       "      <td>430.0</td>\n",
       "      <td>0.0</td>\n",
       "      <td>18452.0</td>\n",
       "      <td>smart</td>\n",
       "      <td>1153</td>\n",
       "    </tr>\n",
       "    <tr>\n",
       "      <td>9</td>\n",
       "      <td>1001</td>\n",
       "      <td>12</td>\n",
       "      <td>63.0</td>\n",
       "      <td>414.0</td>\n",
       "      <td>0.0</td>\n",
       "      <td>14053.0</td>\n",
       "      <td>smart</td>\n",
       "      <td>550</td>\n",
       "    </tr>\n",
       "  </tbody>\n",
       "</table>\n",
       "</div>"
      ],
      "text/plain": [
       "   user_id  month  calls_count  calls_sum  messages_sum  internet_sum tariff  \\\n",
       "0     1000      5         22.0      159.0          22.0        2256.0  ultra   \n",
       "1     1000      6         43.0      172.0          60.0       23257.0  ultra   \n",
       "2     1000      7         47.0      340.0          75.0       14016.0  ultra   \n",
       "3     1000      8         52.0      408.0          81.0       14070.0  ultra   \n",
       "4     1000      9         58.0      466.0          57.0       14581.0  ultra   \n",
       "5     1000     10         57.0      350.0          73.0       14717.0  ultra   \n",
       "6     1000     11         43.0      338.0          58.0       14768.0  ultra   \n",
       "7     1000     12         46.0      333.0          70.0        9827.0  ultra   \n",
       "8     1001     11         59.0      430.0           0.0       18452.0  smart   \n",
       "9     1001     12         63.0      414.0           0.0       14053.0  smart   \n",
       "\n",
       "   monthly_revenue  \n",
       "0             1950  \n",
       "1             1950  \n",
       "2             1950  \n",
       "3             1950  \n",
       "4             1950  \n",
       "5             1950  \n",
       "6             1950  \n",
       "7             1950  \n",
       "8             1153  \n",
       "9              550  "
      ]
     },
     "execution_count": 37,
     "metadata": {},
     "output_type": "execute_result"
    }
   ],
   "source": [
    "final_report.head(10)"
   ]
  },
  {
   "cell_type": "markdown",
   "metadata": {},
   "source": [
    "### Выводы ко второму шагу\n",
    "\n",
    "В данном пункте были изменены типы данных, гже этого требовалось (**дата** приведена к формату Datetime, **минуты** и **мегабайты** округдены в большую сторону и переведены в целочисленный тип, согласно тарификации \"Мегалайна\"). Пропуски в новой таблие с данными по пользователям за месяц заменены на 0, рассчитаны все необходимые показамели (суммарное количество звонков, их продолжительность, суммарное чисо сообщений и суммарное колличество потраеных мегабайт за месяц по каждому пользователя, а также помесячная выручка компании с каждого пользователя)."
   ]
  },
  {
   "cell_type": "markdown",
   "metadata": {},
   "source": [
    "## Шаг 3. Анализ данных\n"
   ]
  },
  {
   "cell_type": "code",
   "execution_count": 38,
   "metadata": {},
   "outputs": [],
   "source": [
    "calls_ultra = final_report.pivot_table(index = ['tariff', 'month'], values = 'calls_sum', aggfunc = 'sum').query('tariff == \"ultra\"')\n",
    "calls_smart = final_report.pivot_table(index = ['tariff', 'month'], values = 'calls_sum', aggfunc = 'sum').query('tariff == \"smart\"')\n",
    "\n",
    "messages_ultra = final_report.pivot_table(index = ['tariff', 'month'], values = 'messages_sum', aggfunc = 'sum').query('tariff == \"ultra\"')\n",
    "messages_smart = final_report.pivot_table(index = ['tariff', 'month'], values = 'messages_sum', aggfunc = 'sum').query('tariff == \"smart\"')\n",
    "\n",
    "internet_ultra = final_report.pivot_table(index = ['tariff', 'month'], values = 'internet_sum', aggfunc = 'sum').query('tariff == \"ultra\"')\n",
    "internet_smart = final_report.pivot_table(index = ['tariff', 'month'], values = 'internet_sum', aggfunc = 'sum').query('tariff == \"smart\"')\n",
    "\n",
    "monthly_revenue_smart = final_report.pivot_table(index = ['tariff', 'month'], values = 'monthly_revenue', aggfunc = 'sum').query('tariff == \"smart\"')\n",
    "monthly_revenue_ultra = final_report.pivot_table(index = ['tariff', 'month'], values = 'monthly_revenue', aggfunc = 'sum').query('tariff == \"ultra\"')"
   ]
  },
  {
   "cell_type": "code",
   "execution_count": 39,
   "metadata": {},
   "outputs": [
    {
     "name": "stdout",
     "output_type": "stream",
     "text": [
      "Среднее значение звонков тарифа  ultra  за 1 месяц: 428.11\n",
      "Дисперсия звонков тарифа ultra  за 1 месяц: 72769.36\n",
      "Стандартное отклонение звонков тарифа  ultra за 1 месяц: 269.76\n",
      "\n",
      "Среднее значение звонков тарифа  ultra  за 2 месяц: 297.12\n",
      "Дисперсия звонков тарифа ultra  за 2 месяц: 87919.68\n",
      "Стандартное отклонение звонков тарифа  ultra за 2 месяц: 296.51\n",
      "\n",
      "Среднее значение звонков тарифа  ultra  за 3 месяц: 489.65\n",
      "Дисперсия звонков тарифа ultra  за 3 месяц: 111384.90\n",
      "Стандартное отклонение звонков тарифа  ultra за 3 месяц: 333.74\n",
      "\n",
      "Среднее значение звонков тарифа  ultra  за 4 месяц: 458.02\n",
      "Дисперсия звонков тарифа ultra  за 4 месяц: 71653.87\n",
      "Стандартное отклонение звонков тарифа  ultra за 4 месяц: 267.68\n",
      "\n",
      "Среднее значение звонков тарифа  ultra  за 5 месяц: 510.33\n",
      "Дисперсия звонков тарифа ultra  за 5 месяц: 83870.19\n",
      "Стандартное отклонение звонков тарифа  ultra за 5 месяц: 289.60\n",
      "\n",
      "Среднее значение звонков тарифа  ultra  за 6 месяц: 479.70\n",
      "Дисперсия звонков тарифа ultra  за 6 месяц: 91535.95\n",
      "Стандартное отклонение звонков тарифа  ultra за 6 месяц: 302.55\n",
      "\n",
      "Среднее значение звонков тарифа  ultra  за 7 месяц: 545.79\n",
      "Дисперсия звонков тарифа ultra  за 7 месяц: 94322.28\n",
      "Стандартное отклонение звонков тарифа  ultra за 7 месяц: 307.12\n",
      "\n",
      "Среднее значение звонков тарифа  ultra  за 8 месяц: 510.78\n",
      "Дисперсия звонков тарифа ultra  за 8 месяц: 97956.50\n",
      "Стандартное отклонение звонков тарифа  ultra за 8 месяц: 312.98\n",
      "\n",
      "Среднее значение звонков тарифа  ultra  за 9 месяц: 539.44\n",
      "Дисперсия звонков тарифа ultra  за 9 месяц: 105716.78\n",
      "Стандартное отклонение звонков тарифа  ultra за 9 месяц: 325.14\n",
      "\n",
      "Среднее значение звонков тарифа  ultra  за 10 месяц: 558.08\n",
      "Дисперсия звонков тарифа ultra  за 10 месяц: 106464.58\n",
      "Стандартное отклонение звонков тарифа  ultra за 10 месяц: 326.29\n",
      "\n",
      "Среднее значение звонков тарифа  ultra  за 11 месяц: 541.38\n",
      "Дисперсия звонков тарифа ultra  за 11 месяц: 96570.06\n",
      "Стандартное отклонение звонков тарифа  ultra за 11 месяц: 310.76\n",
      "\n",
      "Среднее значение звонков тарифа  ultra  за 12 месяц: 592.81\n",
      "Дисперсия звонков тарифа ultra  за 12 месяц: 117276.33\n",
      "Стандартное отклонение звонков тарифа  ultra за 12 месяц: 342.46\n",
      "\n",
      "Среднее значение звонков тарифа  smart  за 1 месяц: 203.85\n",
      "Дисперсия звонков тарифа smart  за 1 месяц: 23787.34\n",
      "Стандартное отклонение звонков тарифа  smart за 1 месяц: 154.23\n",
      "\n",
      "Среднее значение звонков тарифа  smart  за 2 месяц: 298.69\n",
      "Дисперсия звонков тарифа smart  за 2 месяц: 36412.29\n",
      "Стандартное отклонение звонков тарифа  smart за 2 месяц: 190.82\n",
      "\n",
      "Среднее значение звонков тарифа  smart  за 3 месяц: 390.05\n",
      "Дисперсия звонков тарифа smart  за 3 месяц: 36823.16\n",
      "Стандартное отклонение звонков тарифа  smart за 3 месяц: 191.89\n",
      "\n",
      "Среднее значение звонков тарифа  smart  за 4 месяц: 367.13\n",
      "Дисперсия звонков тарифа smart  за 4 месяц: 34778.21\n",
      "Стандартное отклонение звонков тарифа  smart за 4 месяц: 186.49\n",
      "\n",
      "Среднее значение звонков тарифа  smart  за 5 месяц: 387.36\n",
      "Дисперсия звонков тарифа smart  за 5 месяц: 34820.06\n",
      "Стандартное отклонение звонков тарифа  smart за 5 месяц: 186.60\n",
      "\n",
      "Среднее значение звонков тарифа  smart  за 6 месяц: 395.64\n",
      "Дисперсия звонков тарифа smart  за 6 месяц: 30742.92\n",
      "Стандартное отклонение звонков тарифа  smart за 6 месяц: 175.34\n",
      "\n",
      "Среднее значение звонков тарифа  smart  за 7 месяц: 408.35\n",
      "Дисперсия звонков тарифа smart  за 7 месяц: 32250.27\n",
      "Стандартное отклонение звонков тарифа  smart за 7 месяц: 179.58\n",
      "\n",
      "Среднее значение звонков тарифа  smart  за 8 месяц: 421.47\n",
      "Дисперсия звонков тарифа smart  за 8 месяц: 34793.58\n",
      "Стандартное отклонение звонков тарифа  smart за 8 месяц: 186.53\n",
      "\n",
      "Среднее значение звонков тарифа  smart  за 9 месяц: 428.61\n",
      "Дисперсия звонков тарифа smart  за 9 месяц: 33535.34\n",
      "Стандартное отклонение звонков тарифа  smart за 9 месяц: 183.13\n",
      "\n",
      "Среднее значение звонков тарифа  smart  за 10 месяц: 426.14\n",
      "Дисперсия звонков тарифа smart  за 10 месяц: 35392.34\n",
      "Стандартное отклонение звонков тарифа  smart за 10 месяц: 188.13\n",
      "\n",
      "Среднее значение звонков тарифа  smart  за 11 месяц: 435.27\n",
      "Дисперсия звонков тарифа smart  за 11 месяц: 31605.24\n",
      "Стандартное отклонение звонков тарифа  smart за 11 месяц: 177.78\n",
      "\n",
      "Среднее значение звонков тарифа  smart  за 12 месяц: 478.56\n",
      "Дисперсия звонков тарифа smart  за 12 месяц: 39698.62\n",
      "Стандартное отклонение звонков тарифа  smart за 12 месяц: 199.25\n",
      "\n"
     ]
    }
   ],
   "source": [
    "tariff_for = ['ultra', 'smart']\n",
    "month_for = [1, 2, 3, 4, 5, 6, 7, 8, 9, 10, 11, 12]\n",
    "\n",
    "for tarif in tariff_for:\n",
    "    for mot in month_for:\n",
    "        temp = final_report.query('(tariff == @tarif) and (month == @mot)')\n",
    "        mean_calls = temp['calls_sum'].mean()\n",
    "        variance_calls = np.var(temp['calls_sum'], ddof = 1)\n",
    "        standard_calls = np.std(temp['calls_sum'], ddof = 1)\n",
    "\n",
    "        print('Среднее значение звонков тарифа ', tarif, ' за', mot, 'месяц: {:.2f}'.format(mean_calls))\n",
    "        print('Дисперсия звонков тарифа', tarif, ' за', mot, 'месяц: {:.2f}'.format(variance_calls))\n",
    "        print('Стандартное отклонение звонков тарифа ', tarif, 'за', mot, 'месяц: {:.2f}'.format(standard_calls))\n",
    "        print()    "
   ]
  },
  {
   "cell_type": "code",
   "execution_count": 40,
   "metadata": {},
   "outputs": [
    {
     "name": "stdout",
     "output_type": "stream",
     "text": [
      "Среднее значение сообщений тарифа  ultra  за 1 месяц: 33.78\n",
      "Дисперсия сообщений тарифа ultra  за 1 месяц: 940.69\n",
      "Стандартное отклонение сообщений тарифа  ultra за 1 месяц: 30.67\n",
      "\n",
      "Среднее значение сообщений тарифа  ultra  за 2 месяц: 21.96\n",
      "Дисперсия сообщений тарифа ultra  за 2 месяц: 716.82\n",
      "Стандартное отклонение сообщений тарифа  ultra за 2 месяц: 26.77\n",
      "\n",
      "Среднее значение сообщений тарифа  ultra  за 3 месяц: 32.30\n",
      "Дисперсия сообщений тарифа ultra  за 3 месяц: 1732.38\n",
      "Стандартное отклонение сообщений тарифа  ultra за 3 месяц: 41.62\n",
      "\n",
      "Среднее значение сообщений тарифа  ultra  за 4 месяц: 31.56\n",
      "Дисперсия сообщений тарифа ultra  за 4 месяц: 1407.29\n",
      "Стандартное отклонение сообщений тарифа  ultra за 4 месяц: 37.51\n",
      "\n",
      "Среднее значение сообщений тарифа  ultra  за 5 месяц: 37.85\n",
      "Дисперсия сообщений тарифа ultra  за 5 месяц: 1624.64\n",
      "Стандартное отклонение сообщений тарифа  ultra за 5 месяц: 40.31\n",
      "\n",
      "Среднее значение сообщений тарифа  ultra  за 6 месяц: 41.73\n",
      "Дисперсия сообщений тарифа ultra  за 6 месяц: 1986.30\n",
      "Стандартное отклонение сообщений тарифа  ultra за 6 месяц: 44.57\n",
      "\n",
      "Среднее значение сообщений тарифа  ultra  за 7 месяц: 49.85\n",
      "Дисперсия сообщений тарифа ultra  за 7 месяц: 2372.04\n",
      "Стандартное отклонение сообщений тарифа  ultra за 7 месяц: 48.70\n",
      "\n",
      "Среднее значение сообщений тарифа  ultra  за 8 месяц: 48.44\n",
      "Дисперсия сообщений тарифа ultra  за 8 месяц: 2171.74\n",
      "Стандартное отклонение сообщений тарифа  ultra за 8 месяц: 46.60\n",
      "\n",
      "Среднее значение сообщений тарифа  ultra  за 9 месяц: 52.29\n",
      "Дисперсия сообщений тарифа ultra  за 9 месяц: 2152.86\n",
      "Стандартное отклонение сообщений тарифа  ultra за 9 месяц: 46.40\n",
      "\n",
      "Среднее значение сообщений тарифа  ultra  за 10 месяц: 58.43\n",
      "Дисперсия сообщений тарифа ultra  за 10 месяц: 2697.18\n",
      "Стандартное отклонение сообщений тарифа  ultra за 10 месяц: 51.93\n",
      "\n",
      "Среднее значение сообщений тарифа  ultra  за 11 месяц: 55.79\n",
      "Дисперсия сообщений тарифа ultra  за 11 месяц: 2476.95\n",
      "Стандартное отклонение сообщений тарифа  ultra за 11 месяц: 49.77\n",
      "\n",
      "Среднее значение сообщений тарифа  ultra  за 12 месяц: 60.61\n",
      "Дисперсия сообщений тарифа ultra  за 12 месяц: 2681.98\n",
      "Стандартное отклонение сообщений тарифа  ultra за 12 месяц: 51.79\n",
      "\n",
      "Среднее значение сообщений тарифа  smart  за 1 месяц: 18.24\n",
      "Дисперсия сообщений тарифа smart  за 1 месяц: 262.37\n",
      "Стандартное отклонение сообщений тарифа  smart за 1 месяц: 16.20\n",
      "\n",
      "Среднее значение сообщений тарифа  smart  за 2 месяц: 24.09\n",
      "Дисперсия сообщений тарифа smart  за 2 месяц: 473.10\n",
      "Стандартное отклонение сообщений тарифа  smart за 2 месяц: 21.75\n",
      "\n",
      "Среднее значение сообщений тарифа  smart  за 3 месяц: 31.86\n",
      "Дисперсия сообщений тарифа smart  за 3 месяц: 718.49\n",
      "Стандартное отклонение сообщений тарифа  smart за 3 месяц: 26.80\n",
      "\n",
      "Среднее значение сообщений тарифа  smart  за 4 месяц: 30.74\n",
      "Дисперсия сообщений тарифа smart  за 4 месяц: 602.14\n",
      "Стандартное отклонение сообщений тарифа  smart за 4 месяц: 24.54\n",
      "\n",
      "Среднее значение сообщений тарифа  smart  за 5 месяц: 33.77\n",
      "Дисперсия сообщений тарифа smart  за 5 месяц: 730.99\n",
      "Стандартное отклонение сообщений тарифа  smart за 5 месяц: 27.04\n",
      "\n",
      "Среднее значение сообщений тарифа  smart  за 6 месяц: 33.40\n",
      "Дисперсия сообщений тарифа smart  за 6 месяц: 806.81\n",
      "Стандартное отклонение сообщений тарифа  smart за 6 месяц: 28.40\n",
      "\n",
      "Среднее значение сообщений тарифа  smart  за 7 месяц: 33.75\n",
      "Дисперсия сообщений тарифа smart  за 7 месяц: 799.89\n",
      "Стандартное отклонение сообщений тарифа  smart за 7 месяц: 28.28\n",
      "\n",
      "Среднее значение сообщений тарифа  smart  за 8 месяц: 33.64\n",
      "Дисперсия сообщений тарифа smart  за 8 месяц: 838.26\n",
      "Стандартное отклонение сообщений тарифа  smart за 8 месяц: 28.95\n",
      "\n",
      "Среднее значение сообщений тарифа  smart  за 9 месяц: 33.64\n",
      "Дисперсия сообщений тарифа smart  за 9 месяц: 790.62\n",
      "Стандартное отклонение сообщений тарифа  smart за 9 месяц: 28.12\n",
      "\n",
      "Среднее значение сообщений тарифа  smart  за 10 месяц: 33.77\n",
      "Дисперсия сообщений тарифа smart  за 10 месяц: 816.11\n",
      "Стандартное отклонение сообщений тарифа  smart за 10 месяц: 28.57\n",
      "\n",
      "Среднее значение сообщений тарифа  smart  за 11 месяц: 34.08\n",
      "Дисперсия сообщений тарифа smart  за 11 месяц: 805.94\n",
      "Стандартное отклонение сообщений тарифа  smart за 11 месяц: 28.39\n",
      "\n",
      "Среднее значение сообщений тарифа  smart  за 12 месяц: 35.99\n",
      "Дисперсия сообщений тарифа smart  за 12 месяц: 934.95\n",
      "Стандартное отклонение сообщений тарифа  smart за 12 месяц: 30.58\n",
      "\n"
     ]
    }
   ],
   "source": [
    "for tarif in tariff_for:\n",
    "    for mot in month_for:\n",
    "        temp = final_report.query('(tariff == @tarif) and (month == @mot)')\n",
    "        mean_messages = temp['messages_sum'].mean()\n",
    "        variance_messages = np.var(temp['messages_sum'], ddof = 1)\n",
    "        standard_messages = np.std(temp['messages_sum'], ddof = 1)\n",
    "\n",
    "        print('Среднее значение сообщений тарифа ', tarif, ' за', mot, 'месяц: {:.2f}'.format(mean_messages))\n",
    "        print('Дисперсия сообщений тарифа', tarif, ' за', mot, 'месяц: {:.2f}'.format(variance_messages))\n",
    "        print('Стандартное отклонение сообщений тарифа ', tarif, 'за', mot, 'месяц: {:.2f}'.format(standard_messages))\n",
    "        print()"
   ]
  },
  {
   "cell_type": "code",
   "execution_count": 41,
   "metadata": {},
   "outputs": [
    {
     "name": "stdout",
     "output_type": "stream",
     "text": [
      "Среднее значение потраченого интернет-трафика тарифа  ultra  за 1 месяц: 13153.56\n",
      "Дисперсия потраченого интернет-трафика тарифа ultra  за 1 месяц: 47226405.03\n",
      "Стандартное отклонение потраченого интернет-трафика тарифа  ultra за 1 месяц: 6872.15\n",
      "\n",
      "Среднее значение потраченого интернет-трафика тарифа  ultra  за 2 месяц: 11786.96\n",
      "Дисперсия потраченого интернет-трафика тарифа ultra  за 2 месяц: 113515032.13\n",
      "Стандартное отклонение потраченого интернет-трафика тарифа  ultra за 2 месяц: 10654.34\n",
      "\n",
      "Среднее значение потраченого интернет-трафика тарифа  ultra  за 3 месяц: 17551.97\n",
      "Дисперсия потраченого интернет-трафика тарифа ultra  за 3 месяц: 120164047.80\n",
      "Стандартное отклонение потраченого интернет-трафика тарифа  ultra за 3 месяц: 10961.94\n",
      "\n",
      "Среднее значение потраченого интернет-трафика тарифа  ultra  за 4 месяц: 16843.80\n",
      "Дисперсия потраченого интернет-трафика тарифа ultra  за 4 месяц: 94623931.42\n",
      "Стандартное отклонение потраченого интернет-трафика тарифа  ultra за 4 месяц: 9727.48\n",
      "\n",
      "Среднее значение потраченого интернет-трафика тарифа  ultra  за 5 месяц: 19381.19\n",
      "Дисперсия потраченого интернет-трафика тарифа ultra  за 5 месяц: 101115777.28\n",
      "Стандартное отклонение потраченого интернет-трафика тарифа  ultra за 5 месяц: 10055.63\n",
      "\n",
      "Среднее значение потраченого интернет-трафика тарифа  ultra  за 6 месяц: 18942.24\n",
      "Дисперсия потраченого интернет-трафика тарифа ultra  за 6 месяц: 86522475.24\n",
      "Стандартное отклонение потраченого интернет-трафика тарифа  ultra за 6 месяц: 9301.75\n",
      "\n",
      "Среднее значение потраченого интернет-трафика тарифа  ultra  за 7 месяц: 20514.65\n",
      "Дисперсия потраченого интернет-трафика тарифа ultra  за 7 месяц: 101477551.72\n",
      "Стандартное отклонение потраченого интернет-трафика тарифа  ultra за 7 месяц: 10073.61\n",
      "\n",
      "Среднее значение потраченого интернет-трафика тарифа  ultra  за 8 месяц: 19594.07\n",
      "Дисперсия потраченого интернет-трафика тарифа ultra  за 8 месяц: 109956033.74\n",
      "Стандартное отклонение потраченого интернет-трафика тарифа  ultra за 8 месяц: 10485.99\n",
      "\n",
      "Среднее значение потраченого интернет-трафика тарифа  ultra  за 9 месяц: 19222.21\n",
      "Дисперсия потраченого интернет-трафика тарифа ultra  за 9 месяц: 90148801.45\n",
      "Стандартное отклонение потраченого интернет-трафика тарифа  ultra за 9 месяц: 9494.67\n",
      "\n",
      "Среднее значение потраченого интернет-трафика тарифа  ultra  за 10 месяц: 20063.87\n",
      "Дисперсия потраченого интернет-трафика тарифа ultra  за 10 месяц: 96271706.10\n",
      "Стандартное отклонение потраченого интернет-трафика тарифа  ultra за 10 месяц: 9811.81\n",
      "\n",
      "Среднее значение потраченого интернет-трафика тарифа  ultra  за 11 месяц: 19805.31\n",
      "Дисперсия потраченого интернет-трафика тарифа ultra  за 11 месяц: 98340435.45\n",
      "Стандартное отклонение потраченого интернет-трафика тарифа  ultra за 11 месяц: 9916.67\n",
      "\n",
      "Среднее значение потраченого интернет-трафика тарифа  ultra  за 12 месяц: 21813.59\n",
      "Дисперсия потраченого интернет-трафика тарифа ultra  за 12 месяц: 107905115.71\n",
      "Стандартное отклонение потраченого интернет-трафика тарифа  ultra за 12 месяц: 10387.74\n",
      "\n",
      "Среднее значение потраченого интернет-трафика тарифа  smart  за 1 месяц: 8524.44\n",
      "Дисперсия потраченого интернет-трафика тарифа smart  за 1 месяц: 41626212.80\n",
      "Стандартное отклонение потраченого интернет-трафика тарифа  smart за 1 месяц: 6451.84\n",
      "\n",
      "Среднее значение потраченого интернет-трафика тарифа  smart  за 2 месяц: 11611.40\n",
      "Дисперсия потраченого интернет-трафика тарифа smart  за 2 месяц: 39119349.33\n",
      "Стандартное отклонение потраченого интернет-трафика тарифа  smart за 2 месяц: 6254.55\n",
      "\n",
      "Среднее значение потраченого интернет-трафика тарифа  smart  за 3 месяц: 15123.86\n",
      "Дисперсия потраченого интернет-трафика тарифа smart  за 3 месяц: 34052595.02\n",
      "Стандартное отклонение потраченого интернет-трафика тарифа  smart за 3 месяц: 5835.46\n",
      "\n",
      "Среднее значение потраченого интернет-трафика тарифа  smart  за 4 месяц: 13479.48\n",
      "Дисперсия потраченого интернет-трафика тарифа smart  за 4 месяц: 32547357.19\n",
      "Стандартное отклонение потраченого интернет-трафика тарифа  smart за 4 месяц: 5705.03\n",
      "\n",
      "Среднее значение потраченого интернет-трафика тарифа  smart  за 5 месяц: 15825.20\n",
      "Дисперсия потраченого интернет-трафика тарифа smart  за 5 месяц: 35822355.43\n",
      "Стандартное отклонение потраченого интернет-трафика тарифа  smart за 5 месяц: 5985.18\n",
      "\n",
      "Среднее значение потраченого интернет-трафика тарифа  smart  за 6 месяц: 15814.77\n",
      "Дисперсия потраченого интернет-трафика тарифа smart  за 6 месяц: 33616415.17\n",
      "Стандартное отклонение потраченого интернет-трафика тарифа  smart за 6 месяц: 5797.97\n",
      "\n",
      "Среднее значение потраченого интернет-трафика тарифа  smart  за 7 месяц: 15763.51\n",
      "Дисперсия потраченого интернет-трафика тарифа smart  за 7 месяц: 34861096.71\n",
      "Стандартное отклонение потраченого интернет-трафика тарифа  smart за 7 месяц: 5904.33\n",
      "\n",
      "Среднее значение потраченого интернет-трафика тарифа  smart  за 8 месяц: 16632.17\n",
      "Дисперсия потраченого интернет-трафика тарифа smart  за 8 месяц: 31363516.97\n",
      "Стандартное отклонение потраченого интернет-трафика тарифа  smart за 8 месяц: 5600.31\n",
      "\n",
      "Среднее значение потраченого интернет-трафика тарифа  smart  за 9 месяц: 16324.53\n",
      "Дисперсия потраченого интернет-трафика тарифа smart  за 9 месяц: 27062146.44\n",
      "Стандартное отклонение потраченого интернет-трафика тарифа  smart за 9 месяц: 5202.13\n",
      "\n",
      "Среднее значение потраченого интернет-трафика тарифа  smart  за 10 месяц: 16778.56\n",
      "Дисперсия потраченого интернет-трафика тарифа smart  за 10 месяц: 34417112.47\n",
      "Стандартное отклонение потраченого интернет-трафика тарифа  smart за 10 месяц: 5866.61\n",
      "\n",
      "Среднее значение потраченого интернет-трафика тарифа  smart  за 11 месяц: 16917.53\n",
      "Дисперсия потраченого интернет-трафика тарифа smart  за 11 месяц: 28588524.42\n",
      "Стандартное отклонение потраченого интернет-трафика тарифа  smart за 11 месяц: 5346.82\n",
      "\n",
      "Среднее значение потраченого интернет-трафика тарифа  smart  за 12 месяц: 18136.83\n",
      "Дисперсия потраченого интернет-трафика тарифа smart  за 12 месяц: 31140833.24\n",
      "Стандартное отклонение потраченого интернет-трафика тарифа  smart за 12 месяц: 5580.40\n",
      "\n"
     ]
    }
   ],
   "source": [
    "for tarif in tariff_for:\n",
    "    for mot in month_for:\n",
    "        temp = final_report.query('(tariff == @tarif) and (month == @mot)')\n",
    "        mean_internet = temp['internet_sum'].mean()\n",
    "        variance_internet = np.var(temp['internet_sum'], ddof = 1)\n",
    "        standard_internet = np.std(temp['internet_sum'], ddof = 1)\n",
    "\n",
    "        print('Среднее значение потраченого интернет-трафика тарифа ', tarif, ' за', mot, 'месяц: {:.2f}'.format(mean_internet))\n",
    "        print('Дисперсия потраченого интернет-трафика тарифа', tarif, ' за', mot, 'месяц: {:.2f}'.format(variance_internet))\n",
    "        print('Стандартное отклонение потраченого интернет-трафика тарифа ', tarif, 'за', mot, 'месяц: {:.2f}'.format(standard_internet))\n",
    "        print()"
   ]
  },
  {
   "cell_type": "code",
   "execution_count": 42,
   "metadata": {},
   "outputs": [],
   "source": [
    "final_report_ultra = final_report.query('tariff == \"ultra\"')\n",
    "final_report_smart = final_report.query('tariff == \"smart\"')"
   ]
  },
  {
   "cell_type": "code",
   "execution_count": 43,
   "metadata": {},
   "outputs": [
    {
     "data": {
      "image/png": "[encoded data removed]",
      "text/plain": [
       "<Figure size 432x288 with 1 Axes>"
      ]
     },
     "metadata": {
      "needs_background": "light"
     },
     "output_type": "display_data"
    }
   ],
   "source": [
    "final_report_ultra.boxplot(column = 'calls_sum')\n",
    "plt.show()"
   ]
  },
  {
   "cell_type": "code",
   "execution_count": 44,
   "metadata": {},
   "outputs": [
    {
     "data": {
      "image/png": "[encoded data removed]",
      "text/plain": [
       "<Figure size 432x288 with 1 Axes>"
      ]
     },
     "metadata": {
      "needs_background": "light"
     },
     "output_type": "display_data"
    }
   ],
   "source": [
    "final_report_smart.boxplot(column = 'calls_sum')\n",
    "plt.show()"
   ]
  },
  {
   "cell_type": "code",
   "execution_count": 45,
   "metadata": {},
   "outputs": [
    {
     "data": {
      "image/png": "[encoded data removed]",
      "text/plain": [
       "<Figure size 432x288 with 1 Axes>"
      ]
     },
     "metadata": {
      "needs_background": "light"
     },
     "output_type": "display_data"
    }
   ],
   "source": [
    "final_report_ultra.boxplot(column = 'messages_sum')\n",
    "plt.show()"
   ]
  },
  {
   "cell_type": "code",
   "execution_count": 46,
   "metadata": {},
   "outputs": [
    {
     "data": {
      "image/png": "[encoded data removed]",
      "text/plain": [
       "<Figure size 432x288 with 1 Axes>"
      ]
     },
     "metadata": {
      "needs_background": "light"
     },
     "output_type": "display_data"
    }
   ],
   "source": [
    "final_report_smart.boxplot(column = 'messages_sum')\n",
    "plt.show()"
   ]
  },
  {
   "cell_type": "code",
   "execution_count": 47,
   "metadata": {},
   "outputs": [
    {
     "data": {
      "image/png": "[encoded data removed]",
      "text/plain": [
       "<Figure size 432x288 with 1 Axes>"
      ]
     },
     "metadata": {
      "needs_background": "light"
     },
     "output_type": "display_data"
    }
   ],
   "source": [
    "final_report_ultra.boxplot(column = 'internet_sum')\n",
    "plt.show()"
   ]
  },
  {
   "cell_type": "code",
   "execution_count": 48,
   "metadata": {},
   "outputs": [
    {
     "data": {
      "image/png": "[encoded data removed]",
      "text/plain": [
       "<Figure size 432x288 with 1 Axes>"
      ]
     },
     "metadata": {
      "needs_background": "light"
     },
     "output_type": "display_data"
    }
   ],
   "source": [
    "final_report_smart.boxplot(column = 'internet_sum')\n",
    "plt.show()"
   ]
  },
  {
   "cell_type": "code",
   "execution_count": 49,
   "metadata": {},
   "outputs": [
    {
     "data": {
      "text/plain": [
       "Text(0, 0.5, 'Частота')"
      ]
     },
     "execution_count": 49,
     "metadata": {},
     "output_type": "execute_result"
    },
    {
     "data": {
      "image/png": "[encoded data removed]",
      "text/plain": [
       "<Figure size 720x360 with 1 Axes>"
      ]
     },
     "metadata": {
      "needs_background": "light"
     },
     "output_type": "display_data"
    }
   ],
   "source": [
    "final_report_ultra['calls_sum'].hist(bins = 50, grid = True, figsize=(10,5))\n",
    "plt.title('Гистограмма продолжительности звонков тарифа \"Ультра\"')\n",
    "plt.xlabel('Продолжительность звонка')\n",
    "plt.ylabel('Частота')"
   ]
  },
  {
   "cell_type": "markdown",
   "metadata": {},
   "source": [
    "Большая часть продолжительности звонков лежит в диапазоне до 900 минут.\n",
    "\n",
    "В тариф включено 3000 минут, пользователи не выходят за пределы лимита."
   ]
  },
  {
   "cell_type": "code",
   "execution_count": 50,
   "metadata": {},
   "outputs": [
    {
     "data": {
      "text/plain": [
       "Text(0, 0.5, 'Частота')"
      ]
     },
     "execution_count": 50,
     "metadata": {},
     "output_type": "execute_result"
    },
    {
     "data": {
      "image/png": "[encoded data removed]",
      "text/plain": [
       "<Figure size 720x360 with 1 Axes>"
      ]
     },
     "metadata": {
      "needs_background": "light"
     },
     "output_type": "display_data"
    }
   ],
   "source": [
    "final_report_smart['calls_sum'].hist(bins = 50, grid = True, figsize=(10,5))\n",
    "plt.title('Гистограмма продолжительности звонков тарифа \"Смарт\"')\n",
    "plt.xlabel('Продолжительность звонка')\n",
    "plt.ylabel('Частота')"
   ]
  },
  {
   "cell_type": "markdown",
   "metadata": {},
   "source": [
    "Большая часть продолжительности звонков лежит в диапазоне 200 - 600 минут.\n",
    "\n",
    "В тариф включено 500 минут, большАя часть пользоватей вышла за пределы лимита."
   ]
  },
  {
   "cell_type": "code",
   "execution_count": 51,
   "metadata": {},
   "outputs": [
    {
     "data": {
      "text/plain": [
       "Text(0, 0.5, 'Частота')"
      ]
     },
     "execution_count": 51,
     "metadata": {},
     "output_type": "execute_result"
    },
    {
     "data": {
      "image/png": "[encoded data removed]",
      "text/plain": [
       "<Figure size 720x360 with 1 Axes>"
      ]
     },
     "metadata": {
      "needs_background": "light"
     },
     "output_type": "display_data"
    }
   ],
   "source": [
    "final_report_ultra['messages_sum'].hist(bins = 20, grid = True, figsize=(10,5))\n",
    "plt.title('Гистограмма количества сообщение тарифа \"Ультра\"')\n",
    "plt.xlabel('Количество сообщений')\n",
    "plt.ylabel('Частота')"
   ]
  },
  {
   "cell_type": "markdown",
   "metadata": {},
   "source": [
    "Большая часть количества сообщений лежит в диапазоне до 100 шт.\n",
    "\n",
    "В тариф включено 1000 сообщений, пользователи не выходят за пределы лимита."
   ]
  },
  {
   "cell_type": "code",
   "execution_count": 52,
   "metadata": {},
   "outputs": [
    {
     "data": {
      "text/plain": [
       "Text(0, 0.5, 'Частота')"
      ]
     },
     "execution_count": 52,
     "metadata": {},
     "output_type": "execute_result"
    },
    {
     "data": {
      "image/png": "[encoded data removed]",
      "text/plain": [
       "<Figure size 720x360 with 1 Axes>"
      ]
     },
     "metadata": {
      "needs_background": "light"
     },
     "output_type": "display_data"
    }
   ],
   "source": [
    "final_report_smart['messages_sum'].hist(bins = 20, grid = True, figsize=(10,5))\n",
    "plt.title('Гистограмма количества сообщение тарифа \"Смарт\"')\n",
    "plt.xlabel('Количество сообщений')\n",
    "plt.ylabel('Частота')"
   ]
  },
  {
   "cell_type": "markdown",
   "metadata": {},
   "source": [
    "Большая часть количества сообщений лежит в диапазоне до 50 шт.\n",
    "\n",
    "В тариф включено 50 сообщений, есть пользователи, которые вышли за пределы лимита, но их относительно не много."
   ]
  },
  {
   "cell_type": "code",
   "execution_count": 53,
   "metadata": {},
   "outputs": [
    {
     "data": {
      "text/plain": [
       "Text(0, 0.5, 'Частота')"
      ]
     },
     "execution_count": 53,
     "metadata": {},
     "output_type": "execute_result"
    },
    {
     "data": {
      "image/png": "[encoded data removed]",
      "text/plain": [
       "<Figure size 720x360 with 1 Axes>"
      ]
     },
     "metadata": {
      "needs_background": "light"
     },
     "output_type": "display_data"
    }
   ],
   "source": [
    "final_report_ultra['internet_sum'].hist(bins = 30, grid = True, figsize=(10,5))\n",
    "plt.title('Гистограмма интернет-трафика тарифа \"Ультра\"')\n",
    "plt.xlabel('Расход интернет-трафика')\n",
    "plt.ylabel('Частота')"
   ]
  },
  {
   "cell_type": "markdown",
   "metadata": {},
   "source": [
    "Большая часть потраченного интернет-трафика лежит в диапазоне 10 000 - 30 000 мб.\n",
    "\n",
    "В тариф включено 30 Гб, есть пользователи, которые вышли за пределы лимита, но их относительно не много."
   ]
  },
  {
   "cell_type": "code",
   "execution_count": 54,
   "metadata": {},
   "outputs": [
    {
     "data": {
      "text/plain": [
       "Text(0, 0.5, 'Частота')"
      ]
     },
     "execution_count": 54,
     "metadata": {},
     "output_type": "execute_result"
    },
    {
     "data": {
      "image/png": "[encoded data removed]",
      "text/plain": [
       "<Figure size 720x360 with 1 Axes>"
      ]
     },
     "metadata": {
      "needs_background": "light"
     },
     "output_type": "display_data"
    }
   ],
   "source": [
    "final_report_smart['internet_sum'].hist(bins = 30, grid = True, figsize=(10,5))\n",
    "plt.title('Гистограмма интернет-трафика тарифа \"Смарт\"')\n",
    "plt.xlabel('Расход интернет-трафика')\n",
    "plt.ylabel('Частота')"
   ]
  },
  {
   "cell_type": "markdown",
   "metadata": {},
   "source": [
    "Большая часть потраченного интернет-трафика лежит в диапазоне 10 000 - 22 500 мб.\n",
    "\n",
    "В тариф включено 15 Гб, большинство пользователей вышли за пределы лимита."
   ]
  },
  {
   "cell_type": "code",
   "execution_count": 55,
   "metadata": {},
   "outputs": [
    {
     "data": {
      "image/png": "[encoded data removed]",
      "text/plain": [
       "<Figure size 720x360 with 1 Axes>"
      ]
     },
     "metadata": {
      "needs_background": "light"
     },
     "output_type": "display_data"
    }
   ],
   "source": [
    "ax1 = calls_ultra['calls_sum'].plot(kind = 'bar', alpha = 1, grid = True, label = 'Ultra', figsize=(10,5))\n",
    "ax2 = calls_smart['calls_sum'].plot(kind = 'bar', alpha = 0.5, grid = True, label = 'Smart', figsize=(10,5))\n",
    "\n",
    "ax1.set_title('Общая продолжительность звонков по месяцам')\n",
    "ax1.set_xlabel('Месяц')\n",
    "ax1.set_ylabel('Общая продолжительность звонков, мин.')\n",
    "\n",
    "ax1.legend(loc = 'upper right')\n",
    "ax2.legend(loc = 'upper right')\n",
    "\n",
    "plt.show()"
   ]
  },
  {
   "cell_type": "code",
   "execution_count": 56,
   "metadata": {},
   "outputs": [
    {
     "data": {
      "image/png": "[encoded data removed]",
      "text/plain": [
       "<Figure size 720x360 with 1 Axes>"
      ]
     },
     "metadata": {
      "needs_background": "light"
     },
     "output_type": "display_data"
    }
   ],
   "source": [
    "ax1 = messages_ultra['messages_sum'].plot(kind = 'bar', alpha = 1, grid = True, label = 'Ultra', figsize=(10,5))\n",
    "ax2 = messages_smart['messages_sum'].plot(kind = 'bar', alpha = 0.5, grid = True, label = 'Smart', figsize=(10,5))\n",
    "\n",
    "ax1.set_title('Количество сообщений по месяцам')\n",
    "ax1.set_xlabel('Месяц')\n",
    "ax1.set_ylabel('Общее количество сообщение')\n",
    "\n",
    "ax1.legend(loc = 'upper right')\n",
    "ax2.legend(loc = 'upper right')\n",
    "\n",
    "plt.show()"
   ]
  },
  {
   "cell_type": "code",
   "execution_count": 57,
   "metadata": {},
   "outputs": [
    {
     "data": {
      "image/png": "[encoded data removed]",
      "text/plain": [
       "<Figure size 720x360 with 1 Axes>"
      ]
     },
     "metadata": {
      "needs_background": "light"
     },
     "output_type": "display_data"
    }
   ],
   "source": [
    "ax1 = internet_ultra['internet_sum'].plot(kind = 'bar', alpha = 1, grid = True, label = 'Ultra', figsize=(10,5))\n",
    "ax2 = internet_smart['internet_sum'].plot(kind = 'bar', alpha = 0.5, grid = True, label = 'Smart', figsize=(10,5))\n",
    "\n",
    "ax1.set_title('Расход интернет-трафика по месяцам')\n",
    "ax1.set_xlabel('Месяц')\n",
    "ax1.set_ylabel('Расход интернет-трафика, мб')\n",
    "\n",
    "ax1.legend(loc = 'upper right')\n",
    "ax2.legend(loc = 'upper right')\n",
    "\n",
    "plt.show()"
   ]
  },
  {
   "cell_type": "code",
   "execution_count": 58,
   "metadata": {},
   "outputs": [
    {
     "data": {
      "image/png": "[encoded data removed]",
      "text/plain": [
       "<Figure size 720x360 with 1 Axes>"
      ]
     },
     "metadata": {
      "needs_background": "light"
     },
     "output_type": "display_data"
    }
   ],
   "source": [
    "ax1 = monthly_revenue_ultra['monthly_revenue'].plot(kind = 'bar', alpha = 1, grid = True, label = 'Ultra', figsize=(10,5))\n",
    "ax2 = monthly_revenue_smart['monthly_revenue'].plot(kind = 'bar', alpha = 0.5, grid = True, label = 'Smart', figsize=(10,5))\n",
    "\n",
    "ax1.set_title('Помесячная выручка по месяцам')\n",
    "ax1.set_xlabel('Месяц')\n",
    "ax1.set_ylabel('Помесячная выручка, руб')\n",
    "\n",
    "ax1.legend(loc = 'upper right')\n",
    "ax2.legend(loc = 'upper right')\n",
    "\n",
    "plt.show()"
   ]
  },
  {
   "cell_type": "markdown",
   "metadata": {},
   "source": [
    "Из графиков звонков / сообщений / потраченного-интернет трафика / помесячной выручки хорошо видно что компания \"Мегалайн\" активно развивается. Тендения роста с большего одинаковая, между выбранными характеристиками."
   ]
  },
  {
   "cell_type": "markdown",
   "metadata": {},
   "source": [
    "### Выводы к третьему шагу\n",
    "\n",
    "Соглано полученным данным сделаем следующие выводы:\n",
    "* наиболее распространённый диапазон потраченных минут за месяц тарифа \"Ультра\" находится в диапазоне 200 - 800 минут\n",
    "* наиболее распространённый диапазон потраченных минут за месяц тарифа \"Смарт\" находится в диапазоне 200 - 600 минут\n",
    "* наиболее распространённый диапазон потраченных сообщений за месяц тарифа \"Ультра\" находится в диапазоне до 100 шт.\n",
    "* наиболее распространённый диапазон потраченных сообщений за месяц тарифа \"Смарт\" находится в диапазоне до 50 шт.\n",
    "* наиболее распространённый диапазон потраченного интернет-трафика за месяц тарифа \"Ультра\" находится в диапазоне 10.000 - 30.000 мб\n",
    "* наиболее распространённый диапазон потраченного интернет-трафика за месяц тарифа \"Смарт\" находится в диапазоне 10.000 - 22.500 мб\n",
    "* из графиков количество звонков/сообщений/потраченного интернет-трафика по месяцам, видно что компания развивается\n",
    "\n",
    "Распределение у графиков нормальное, местами с положительной скошенностью"
   ]
  },
  {
   "cell_type": "markdown",
   "metadata": {},
   "source": [
    "## Шаг 4. Проверка гипотез"
   ]
  },
  {
   "cell_type": "markdown",
   "metadata": {},
   "source": [
    "Гипотеза о том, что средняя выручка пользователей тарифов «Ультра» и «Смарт» различается.\n",
    "\n",
    "H0: средняя выручка пользователей тарифов «Ультра» и «Смарт» НЕ различается\n",
    "\n",
    "H1: средняя выручка пользователей тарифов «Ультра» и «Смарт» различается"
   ]
  },
  {
   "cell_type": "code",
   "execution_count": 59,
   "metadata": {},
   "outputs": [
    {
     "name": "stdout",
     "output_type": "stream",
     "text": [
      "p-значение: 5.133013116078655e-296\n",
      "Отвергаем нулевую гипотезу\n"
     ]
    }
   ],
   "source": [
    "# критический уровень статистической значимости\n",
    "alpha = .05\n",
    "\n",
    "results = st.ttest_ind(final_report_ultra['monthly_revenue'], final_report_smart['monthly_revenue'], equal_var = False)\n",
    "\n",
    "print('p-значение:', results.pvalue) \n",
    "\n",
    "if (results.pvalue < alpha):\n",
    "    print(\"Отвергаем нулевую гипотезу\")\n",
    "else:\n",
    "    print(\"Не получилось отвергнуть нулевую гипотезу\")"
   ]
  },
  {
   "cell_type": "code",
   "execution_count": 60,
   "metadata": {},
   "outputs": [
    {
     "data": {
      "text/plain": [
       "2029556"
      ]
     },
     "execution_count": 60,
     "metadata": {},
     "output_type": "execute_result"
    }
   ],
   "source": [
    "final_report_ultra['monthly_revenue'].sum()"
   ]
  },
  {
   "cell_type": "code",
   "execution_count": 61,
   "metadata": {},
   "outputs": [
    {
     "data": {
      "text/plain": [
       "2748486"
      ]
     },
     "execution_count": 61,
     "metadata": {},
     "output_type": "execute_result"
    }
   ],
   "source": [
    "final_report_smart['monthly_revenue'].sum()"
   ]
  },
  {
   "cell_type": "code",
   "execution_count": 62,
   "metadata": {},
   "outputs": [],
   "source": [
    "city_name = users_data[['user_id', 'city']]\n",
    "final_report_city = final_report.reset_index().merge(city_name, on = ['user_id'], how = 'left')\n",
    "\n",
    "final_report_city_moscow = final_report_city.query('city == \"Москва\"')\n",
    "final_report_city_other = final_report_city.query('city != \"Москва\"')"
   ]
  },
  {
   "cell_type": "markdown",
   "metadata": {},
   "source": [
    "Гипотеза о том, средняя выручка пользователей из Москвы отличается от выручки пользователей из других регионов.\n",
    "\n",
    "H0: средняя выручка пользователей из Москвы НЕ отличается от выручки пользователей из других регионов\n",
    "\n",
    "H1: средняя выручка пользователей из Москвы отличается от выручки пользователей из других регионов"
   ]
  },
  {
   "cell_type": "code",
   "execution_count": 63,
   "metadata": {},
   "outputs": [
    {
     "name": "stdout",
     "output_type": "stream",
     "text": [
      "p-значение: 0.4546446281204245\n",
      "Не получилось отвергнуть нулевую гипотезу\n"
     ]
    }
   ],
   "source": [
    "# критический уровень статистической значимости\n",
    "alpha = .05\n",
    "\n",
    "results = st.ttest_ind(final_report_city_moscow['monthly_revenue'], final_report_city_other['monthly_revenue'], equal_var = False)\n",
    "\n",
    "print('p-значение:', results.pvalue) \n",
    "\n",
    "if (results.pvalue < alpha):\n",
    "    print(\"Отвергаем нулевую гипотезу\")\n",
    "else:\n",
    "    print(\"Не получилось отвергнуть нулевую гипотезу\")"
   ]
  },
  {
   "cell_type": "markdown",
   "metadata": {},
   "source": [
    "### Выводы к четвёртому шагу\n",
    "\n",
    "Выдвинуты следующие гипотезы:\n",
    "\n",
    "* средняя выручка пользователей тарифов «Ультра» и «Смарт» различается;\n",
    " * H0: средняя выручка пользователей тарифов «Ультра» и «Смарт» НЕ различается\n",
    " * H1: средняя выручка пользователей тарифов «Ультра» и «Смарт» различается\n",
    "* средняя выручка пользователей из Москвы отличается от выручки пользователей из других регионов;\n",
    " * H0: средняя выручка пользователей из Москвы НЕ отличается от выручки пользователей из других регионов\n",
    " * H1: средняя выручка пользователей из Москвы отличается от выручки пользователей из других регионов\n",
    " \n",
    "Гипотеза Н1 дана из условия, соответственно гипотеза Н0 противоположенна по смыслу.\n",
    "Параметр _equal_var_ был использован со значением _False_ , т. к. дисперсии двух выборок отличаются друг от друга.\n",
    "\n",
    "Исходя из проверки гепотив делаем **выводы**:\n",
    " * средняя выручка пользователей тарифов «Ультра» и «Смарт» **различается**\n",
    " * средняя выручка пользователей из Москвы **НЕ** отличается от выручки пользователей из других регионов"
   ]
  }
 ],
 "metadata": {
  "kernelspec": {
   "display_name": "Python 3",
   "language": "python",
   "name": "python3"
  },
  "language_info": {
   "codemirror_mode": {
    "name": "ipython",
    "version": 3
   },
   "file_extension": ".py",
   "mimetype": "text/x-python",
   "name": "python",
   "nbconvert_exporter": "python",
   "pygments_lexer": "ipython3",
   "version": "3.8.5"
  },
  "toc": {
   "base_numbering": 1,
   "nav_menu": {},
   "number_sections": false,
   "sideBar": true,
   "skip_h1_title": true,
   "title_cell": "Table of Contents",
   "title_sidebar": "Contents",
   "toc_cell": false,
   "toc_position": {},
   "toc_section_display": true,
   "toc_window_display": false
  }
 },
 "nbformat": 4,
 "nbformat_minor": 2
}
